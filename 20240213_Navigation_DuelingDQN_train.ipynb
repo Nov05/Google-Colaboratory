{
  "cells": [
    {
      "cell_type": "markdown",
      "metadata": {
        "id": "view-in-github",
        "colab_type": "text"
      },
      "source": [
        "<a href=\"https://colab.research.google.com/github/Nov05/Google-Colaboratory/blob/master/20240213_Navigation_DuelingDQN_train.ipynb\" target=\"_parent\"><img src=\"https://colab.research.google.com/assets/colab-badge.svg\" alt=\"Open In Colab\"/></a>"
      ]
    },
    {
      "cell_type": "markdown",
      "source": [
        "# **\\<TOP>**\n",
        "\n",
        "* modified by nov05 on 2024-02-13\n",
        "* check [**the dueling DQN paper**, arxiv 1511.06581](https://arxiv.org/abs/1511.06581)     \n",
        "* go to [the eval notebook](https://github.com/Nov05/udacity-deep-reinforcement-learning/blob/master/p1_navigation/20240211_Navigation_DQN_eval.ipynb) (run in Windows 11)   \n",
        "\n",
        "<br>\n",
        "\n",
        "---\n",
        "\n",
        "* check the original DQN notebook on [GitHub](https://github.com/udacity/deep-reinforcement-learning/tree/master/p1_navigation)  \n",
        "the dependency folder `./python` on [GitHub](https://github.com/udacity/deep-reinforcement-learning/tree/master/python)       \n",
        "* refer to [the DQN notebook](https://drive.google.com/file/d/1J4tO1sFULVQ5MAhRfTz4gpThqd3_NgZR) and [other notebooks](https://gist.github.com/Nov05/4e0ff3edba96928facaff063039c7bce)  \n",
        "* refer to [the Dueling DQN for pixel game](https://github.com/dxyang/DQN_pytorch/blob/master/model.py)  \n",
        "\n",
        "<br>\n",
        "\n",
        "---\n",
        "\n",
        "<br>\n",
        "\n",
        "<table>\n",
        "<tr>\n",
        "<th> Dueling Architecture </th>\n",
        "<th> The green module </th>\n",
        "</tr>\n",
        "<tr>\n",
        "<td>\n",
        "<img src=\"https://github.com/Nov05/pictures/blob/master/Udacity/20231221_reinforcement%20learning/2024-02-13%2012_08_13-1511.06581.pdf.jpg?raw=true\" width=300>  \n",
        "</td>\n",
        "<td>\n",
        "<img src=\"https://github.com/Nov05/pictures/blob/master/Udacity/20231221_reinforcement%20learning/2024-02-13%2012_11_04-1511.06581.pdf.jpg?raw=true\" width=300>\n",
        "</td>\n",
        "</tr>\n",
        "</table>  \n",
        "\n",
        "```text\n",
        "▪️ Since both the advantage and the value stream propagate gradients to the last convolutional layer in the backward pass,\n",
        "we rescale the combined gradient entering the last convolutional layer by 1/√2. This simple heuristic mildly increases stability.\n",
        "▪️ In addition, we clip the gradients to have their norm less than or equal to 10. This clipping is not\n",
        "standard practice in deep RL, but common in recurrent network training (Bengio et al., 2013).\n",
        "\n",
        "```\n"
      ],
      "metadata": {
        "id": "YoyHLk7nCbpl"
      }
    },
    {
      "cell_type": "code",
      "source": [
        "!cat /etc/*release\n",
        "## Ubuntu 22.04.3 LTS (Jammy Jellyfish)"
      ],
      "metadata": {
        "colab": {
          "base_uri": "https://localhost:8080/"
        },
        "id": "w3XfoZ4aGEiB",
        "outputId": "d13acafa-e801-46fd-f4d5-bd2c6c129120"
      },
      "execution_count": null,
      "outputs": [
        {
          "output_type": "stream",
          "name": "stdout",
          "text": [
            "DISTRIB_ID=Ubuntu\n",
            "DISTRIB_RELEASE=22.04\n",
            "DISTRIB_CODENAME=jammy\n",
            "DISTRIB_DESCRIPTION=\"Ubuntu 22.04.3 LTS\"\n",
            "PRETTY_NAME=\"Ubuntu 22.04.3 LTS\"\n",
            "NAME=\"Ubuntu\"\n",
            "VERSION_ID=\"22.04\"\n",
            "VERSION=\"22.04.3 LTS (Jammy Jellyfish)\"\n",
            "VERSION_CODENAME=jammy\n",
            "ID=ubuntu\n",
            "ID_LIKE=debian\n",
            "HOME_URL=\"https://www.ubuntu.com/\"\n",
            "SUPPORT_URL=\"https://help.ubuntu.com/\"\n",
            "BUG_REPORT_URL=\"https://bugs.launchpad.net/ubuntu/\"\n",
            "PRIVACY_POLICY_URL=\"https://www.ubuntu.com/legal/terms-and-policies/privacy-policy\"\n",
            "UBUNTU_CODENAME=jammy\n"
          ]
        }
      ]
    },
    {
      "cell_type": "code",
      "source": [
        "%%capture\n",
        "## download the \"\"./python\" folder.\n",
        "## https://github.com/udacity/deep-reinforcement-learning/tree/master/python\n",
        "import gdown\n",
        "url = \"https://drive.google.com/drive/folders/10a5WA1afaEIRgfYz7513kEc0eJTQQ1mK\"\n",
        "gdown.download_folder(url)"
      ],
      "metadata": {
        "id": "udH5oFm8eTeE"
      },
      "execution_count": null,
      "outputs": []
    },
    {
      "cell_type": "code",
      "source": [
        "%%capture\n",
        "## change work directory\n",
        "%cd python\n",
        "## get the banana build. you don't need to install ml-agents.\n",
        "!wget https://s3-us-west-1.amazonaws.com/udacity-drlnd/P1/Banana/Banana_Linux.zip\n",
        "!unzip Banana_Linux.zip\n",
        "!rm Banana_Linux.zip"
      ],
      "metadata": {
        "id": "AfIssFbUDF7K"
      },
      "execution_count": null,
      "outputs": []
    },
    {
      "cell_type": "markdown",
      "metadata": {
        "id": "ebUQoIf5Cabc"
      },
      "source": [
        "# **Navigation**   \n",
        "\n",
        "---\n",
        "\n",
        "In this notebook, you will learn how to use the Unity ML-Agents environment for the first project of the [Deep Reinforcement Learning Nanodegree](https://www.udacity.com/course/deep-reinforcement-learning-nanodegree--nd893)."
      ]
    },
    {
      "cell_type": "markdown",
      "source": [
        "### **1. Start the Environment**  \n",
        "\n",
        "We begin by importing some necessary packages.  If the code cell below returns an error, please revisit the project instructions to double-check that you have installed [Unity ML-Agents](https://github.com/Unity-Technologies/ml-agents/blob/master/docs/Installation.md) and [NumPy](http://www.numpy.org/)."
      ],
      "metadata": {
        "id": "CunpqWwGUsVe"
      }
    },
    {
      "cell_type": "markdown",
      "source": [
        "👉 If you restart the session (Ctrl+M.), run from the following cell.  "
      ],
      "metadata": {
        "id": "saPrh1GlyO3b"
      }
    },
    {
      "cell_type": "code",
      "execution_count": null,
      "metadata": {
        "id": "oFKuzS6ECabg"
      },
      "outputs": [],
      "source": [
        "# %cd python\n",
        "from unityagents import UnityEnvironment\n",
        "import numpy as np"
      ]
    },
    {
      "cell_type": "markdown",
      "metadata": {
        "id": "nSUan7BLCabh"
      },
      "source": [
        "Next, we will start the environment!  **_Before running the code cell below_**, change the `file_name` parameter to match the location of the Unity environment that you downloaded.\n",
        "\n",
        "- **Mac**: `\"path/to/Banana.app\"`\n",
        "- **Windows** (x86): `\"path/to/Banana_Windows_x86/Banana.exe\"`\n",
        "- **Windows** (x86_64): `\"path/to/Banana_Windows_x86_64/Banana.exe\"`\n",
        "- **Linux** (x86): `\"path/to/Banana_Linux/Banana.x86\"`\n",
        "- **Linux** (x86_64): `\"path/to/Banana_Linux/Banana.x86_64\"`\n",
        "- **Linux** (x86, headless): `\"path/to/Banana_Linux_NoVis/Banana.x86\"`\n",
        "- **Linux** (x86_64, headless): `\"path/to/Banana_Linux_NoVis/Banana.x86_64\"`\n",
        "\n",
        "For instance, if you are using a Mac, then you downloaded `Banana.app`.  If this file is in the same folder as the notebook, then the line below should appear as follows:\n",
        "```\n",
        "env = UnityEnvironment(file_name=\"Banana.app\")\n",
        "```\n",
        "\n"
      ]
    },
    {
      "cell_type": "code",
      "execution_count": null,
      "metadata": {
        "id": "CyHlsgF3Cabh",
        "colab": {
          "base_uri": "https://localhost:8080/"
        },
        "outputId": "000e1856-14f3-4f96-fe62-381924b0dffd"
      },
      "outputs": [
        {
          "output_type": "stream",
          "name": "stdout",
          "text": [
            "CPU times: user 21.7 ms, sys: 9.99 ms, total: 31.7 ms\n",
            "Wall time: 1.11 s\n"
          ]
        }
      ],
      "source": [
        "%%time\n",
        "env = UnityEnvironment(file_name=\"./Banana_Linux/Banana.x86_64\", no_graphics=True)"
      ]
    },
    {
      "cell_type": "markdown",
      "metadata": {
        "id": "qJ7AKsSjCabi"
      },
      "source": [
        "Environments contain **_brains_** which are responsible for deciding the actions of their associated agents. Here we check for the first brain available, and set it as the default brain we will be controlling from Python."
      ]
    },
    {
      "cell_type": "code",
      "execution_count": null,
      "metadata": {
        "id": "37OjyA8kCabi",
        "colab": {
          "base_uri": "https://localhost:8080/"
        },
        "outputId": "e69d5c55-5208-4b6b-f45e-b94bc79131a4"
      },
      "outputs": [
        {
          "output_type": "stream",
          "name": "stdout",
          "text": [
            "Unity brain name: BananaBrain\n",
            "        Number of Visual Observations (per agent): 0\n",
            "        Vector Observation space type: continuous\n",
            "        Vector Observation space size (per agent): 37\n",
            "        Number of stacked Vector Observation: 1\n",
            "        Vector Action space type: discrete\n",
            "        Vector Action space size (per agent): 4\n",
            "        Vector Action descriptions: , , , \n"
          ]
        }
      ],
      "source": [
        "# get the default brain\n",
        "brain_name = env.brain_names[0]\n",
        "brain = env.brains[brain_name]\n",
        "print(brain)"
      ]
    },
    {
      "cell_type": "markdown",
      "metadata": {
        "id": "VRatfghmCabi"
      },
      "source": [
        "### **2. Examine the State and Action Spaces**   \n",
        "\n",
        "The simulation contains a single agent that navigates a large environment.  At each time step, it has four actions at its disposal:\n",
        "- `0` - walk forward\n",
        "- `1` - walk backward\n",
        "- `2` - turn left\n",
        "- `3` - turn right\n",
        "\n",
        "The state space has `37` dimensions and contains the agent's velocity, along with ray-based perception of objects around agent's forward direction.  A reward of `+1` is provided for collecting a yellow banana, and a reward of `-1` is provided for collecting a blue banana.\n",
        "\n",
        "Run the code cell below to print some information about the environment."
      ]
    },
    {
      "cell_type": "code",
      "execution_count": null,
      "metadata": {
        "id": "1iWX9CxqCabi",
        "colab": {
          "base_uri": "https://localhost:8080/"
        },
        "outputId": "52812078-041b-44aa-f800-5a9a0caeacef"
      },
      "outputs": [
        {
          "output_type": "stream",
          "name": "stdout",
          "text": [
            "Number of agents: 1\n",
            "Number of actions: 4\n",
            "States look like:\n",
            " [1.         0.         0.         0.         0.84408134 0.\n",
            " 0.         1.         0.         0.0748472  0.         1.\n",
            " 0.         0.         0.25755    1.         0.         0.\n",
            " 0.         0.74177343 0.         1.         0.         0.\n",
            " 0.25854847 0.         0.         1.         0.         0.09355672\n",
            " 0.         1.         0.         0.         0.31969345 0.\n",
            " 0.        ]\n",
            "States have length: 37\n"
          ]
        }
      ],
      "source": [
        "## reset the environment\n",
        "env_info = env.reset(train_mode=True)[brain_name]\n",
        "## number of agents in the environment\n",
        "print('Number of agents:', len(env_info.agents))\n",
        "## number of actions\n",
        "action_size = brain.vector_action_space_size\n",
        "print('Number of actions:', action_size)\n",
        "## examine the state space\n",
        "state = env_info.vector_observations[0]\n",
        "print('States look like:\\n', state)\n",
        "state_size = len(state)\n",
        "print('States have length:', state_size)"
      ]
    },
    {
      "cell_type": "markdown",
      "metadata": {
        "id": "N1uk5TwTCabj"
      },
      "source": [
        "### **3. Take Random Actions in the Environment**  \n",
        "\n",
        "In the next code cell, you will learn how to use the Python API to control the agent and receive feedback from the environment.\n",
        "\n",
        "Once this cell is executed, you will watch the agent's performance, if it selects an action (uniformly) at random with each time step.  A window should pop up that allows you to observe the agent, as it moves through the environment.  \n",
        "\n",
        "Of course, as part of the project, you'll have to change the code so that the agent is able to use its experience to gradually choose better actions when interacting with the environment!"
      ]
    },
    {
      "cell_type": "code",
      "execution_count": null,
      "metadata": {
        "id": "Q4fkinLMCabj"
      },
      "outputs": [],
      "source": [
        "# %%time\n",
        "# env_info = env.reset(train_mode=False)[brain_name] # reset the environment\n",
        "# state = env_info.vector_observations[0]            # get the current state\n",
        "# score = 0                                          # initialize the score\n",
        "# while True:\n",
        "#     action = np.random.randint(action_size)        # select an action\n",
        "#     env_info = env.step(action)[brain_name]        # send the action to the environment\n",
        "#     next_state = env_info.vector_observations[0]   # get the next state\n",
        "#     reward = env_info.rewards[0]                   # get the reward\n",
        "#     done = env_info.local_done[0]                  # see if episode has finished\n",
        "#     score += reward                                # update the score\n",
        "#     state = next_state                             # roll over the state to next time step\n",
        "#     if done:                                       # exit loop if episode finished\n",
        "#         break\n",
        "# print(\"Score: {}\".format(score))\n",
        "# # env.close()\n",
        "# ## Wall time: 29.8 s"
      ]
    },
    {
      "cell_type": "markdown",
      "metadata": {
        "id": "ujhLsquRCabk"
      },
      "source": [
        "When finished, you can close the environment."
      ]
    },
    {
      "cell_type": "markdown",
      "metadata": {
        "id": "Zi47q_qRCabk"
      },
      "source": [
        "### **4. It's Your Turn!**  \n",
        "\n",
        "Now it's your turn to train your own agent to solve the environment!  When training the environment, set `train_mode=True`, so that the line for resetting the environment looks like the following:\n",
        "```python\n",
        "env_info = env.reset(train_mode=True)[brain_name]\n",
        "```  \n"
      ]
    },
    {
      "cell_type": "markdown",
      "source": [
        "#### **class QNetwork**  "
      ],
      "metadata": {
        "id": "7iRZgpcgxEqZ"
      }
    },
    {
      "cell_type": "code",
      "source": [
        "import torch\n",
        "import torch.nn as nn\n",
        "import torch.nn.functional as F\n",
        "\n",
        "class QNetwork(nn.Module):\n",
        "    \"\"\"Actor (Policy) Model.\"\"\"\n",
        "\n",
        "    def __init__(self, state_size, action_size, seed):\n",
        "        \"\"\"Initialize parameters and build model.\n",
        "        Params\n",
        "        ======\n",
        "            state_size (int): Dimension of each state\n",
        "            action_size (int): Dimension of each action\n",
        "            seed (int): Random seed\n",
        "        \"\"\"\n",
        "        super(QNetwork, self).__init__()\n",
        "        self.seed = torch.manual_seed(seed)\n",
        "        \"*** YOUR CODE HERE ***\"\n",
        "        self.layer1 = nn.Linear(state_size, 64)\n",
        "        self.layer2 = nn.Linear(64, 64)\n",
        "        self.layer3_adv = nn.Linear(in_features=64, out_features=action_size) ## advantage\n",
        "        self.layer3_val = nn.Linear(in_features=64, out_features=1) ## state value\n",
        "\n",
        "    def forward(self, state):\n",
        "        \"\"\"Build a network that maps state -> action values.\"\"\"\n",
        "        x = F.relu(self.layer1(state))\n",
        "        x = F.relu(self.layer2(x))\n",
        "        adv, val = self.layer3_adv(x), self.layer3_val(x)\n",
        "        # print(val.shape, adv.shape, adv.mean(1).shape,\n",
        "        #       adv.mean(1).unsqueeze(1).expand(x.size(0), action_size).shape)\n",
        "        return (val + adv - adv.mean(1).unsqueeze(1).expand(x.size(0), action_size)) / (2**0.5)"
      ],
      "metadata": {
        "id": "heidiYbOcioo"
      },
      "execution_count": null,
      "outputs": []
    },
    {
      "cell_type": "code",
      "source": [
        "# ## verify tensor shapes\n",
        "# ## e.g. torch.Size([1, 1]) torch.Size([1, 4]) torch.Size([1]) torch.Size([1, 4])\n",
        "# ##      tensor([[-0.0165,  0.0439, -0.0170, -0.0675]], grad_fn=<DivBackward0>)\n",
        "# import numpy as np\n",
        "# qnetwork = QNetwork(37, 4, 0)\n",
        "# state = np.random.rand(37)\n",
        "# state = torch.from_numpy(state).float().unsqueeze(0)\n",
        "# qnetwork.forward(state)"
      ],
      "metadata": {
        "id": "-yU2oe9co0dW"
      },
      "execution_count": null,
      "outputs": []
    },
    {
      "cell_type": "markdown",
      "source": [
        "#### **class ReplayBuffer**     "
      ],
      "metadata": {
        "id": "6l4Jf0G_xNjv"
      }
    },
    {
      "cell_type": "code",
      "source": [
        "import numpy as np\n",
        "import random\n",
        "from collections import namedtuple, deque\n",
        "import torch\n",
        "import torch.nn.functional as F\n",
        "import torch.optim as optim\n",
        "\n",
        "BUFFER_SIZE = int(1e5)  # replay buffer size\n",
        "BATCH_SIZE = 64         # minibatch size\n",
        "GAMMA = 0.99            # discount factor\n",
        "TAU = 1e-3              # for soft update of target parameters\n",
        "LR = 5e-4               # learning rate\n",
        "UPDATE_EVERY = 4        # how often to update the network\n",
        "\n",
        "device = torch.device(\"cuda:0\" if torch.cuda.is_available() else \"cpu\")\n",
        "\n",
        "class ReplayBuffer:\n",
        "    \"\"\"Fixed-size buffer to store experience tuples.\"\"\"\n",
        "\n",
        "    def __init__(self, action_size, buffer_size, batch_size, seed):\n",
        "        \"\"\"Initialize a ReplayBuffer object.\n",
        "\n",
        "        Params\n",
        "        ======\n",
        "            action_size (int): dimension of each action\n",
        "            buffer_size (int): maximum size of buffer\n",
        "            batch_size (int): size of each training batch\n",
        "            seed (int): random seed\n",
        "        \"\"\"\n",
        "        self.action_size = action_size\n",
        "        self.memory = deque(maxlen=buffer_size)\n",
        "        self.batch_size = batch_size\n",
        "        self.experience = namedtuple(\"Experience\", field_names=[\"state\", \"action\", \"reward\", \"next_state\", \"done\"])\n",
        "        self.seed = random.seed(seed)\n",
        "\n",
        "    def add(self, state, action, reward, next_state, done):\n",
        "        \"\"\"Add a new experience to memory.\"\"\"\n",
        "        e = self.experience(state, action, reward, next_state, done)\n",
        "        self.memory.append(e)\n",
        "\n",
        "    def sample(self):\n",
        "        \"\"\"Randomly sample a batch of experiences from memory.\"\"\"\n",
        "        experiences = random.sample(self.memory, k=self.batch_size)\n",
        "\n",
        "        states = torch.from_numpy(np.vstack([e.state for e in experiences if e])).float().to(device) ## aka. observations\n",
        "        actions = torch.from_numpy(np.vstack([e.action for e in experiences if e])).long().to(device)\n",
        "        rewards = torch.from_numpy(np.vstack([e.reward for e in experiences if e])).float().to(device)\n",
        "        next_states = torch.from_numpy(np.vstack([e.next_state for e in experiences if e])).float().to(device)\n",
        "        dones = torch.from_numpy(np.vstack([e.done for e in experiences if e]).astype(np.uint8)).float().to(device)\n",
        "\n",
        "        return (states, actions, rewards, next_states, dones)\n",
        "\n",
        "    def __len__(self):\n",
        "        \"\"\"Return the current size of internal memory.\"\"\"\n",
        "        return len(self.memory)"
      ],
      "metadata": {
        "id": "xSDkHEfQc8Yr"
      },
      "execution_count": null,
      "outputs": []
    },
    {
      "cell_type": "markdown",
      "source": [
        "#### **class Agent**  "
      ],
      "metadata": {
        "id": "5TfjidDqxR-C"
      }
    },
    {
      "cell_type": "code",
      "source": [
        "class Agent():\n",
        "    \"\"\"Interacts with and learns from the environment.\"\"\"\n",
        "\n",
        "    def __init__(self, state_size, action_size, seed):\n",
        "        \"\"\"Initialize an Agent object.\n",
        "\n",
        "        Params\n",
        "        ======\n",
        "            state_size (int): dimension of each state\n",
        "            action_size (int): dimension of each action\n",
        "            seed (int): random seed\n",
        "        \"\"\"\n",
        "        self.state_size = state_size\n",
        "        self.action_size = action_size\n",
        "        self.seed = random.seed(seed)\n",
        "\n",
        "        # Q-Network\n",
        "        self.qnetwork_local = QNetwork(state_size, action_size, seed).to(device)\n",
        "        self.qnetwork_target = QNetwork(state_size, action_size, seed).to(device)\n",
        "        self.optimizer = optim.Adam(self.qnetwork_local.parameters(), lr=LR)\n",
        "\n",
        "        # Replay memory\n",
        "        self.memory = ReplayBuffer(action_size, BUFFER_SIZE, BATCH_SIZE, seed)\n",
        "        # Initialize time step (for updating every UPDATE_EVERY steps)\n",
        "        self.t_step = 0\n",
        "\n",
        "    def step(self, state, action, reward, next_state, done):\n",
        "        # Save experience in replay memory\n",
        "        self.memory.add(state, action, reward, next_state, done)\n",
        "\n",
        "        # Learn every UPDATE_EVERY time steps.\n",
        "        self.t_step = (self.t_step + 1) % UPDATE_EVERY\n",
        "        if self.t_step == 0:\n",
        "            # If enough samples are available in memory, get random subset and learn\n",
        "            if len(self.memory) > BATCH_SIZE:\n",
        "                experiences = self.memory.sample()\n",
        "                self.learn(experiences, GAMMA)\n",
        "\n",
        "    def act(self, state, eps=0.):\n",
        "        \"\"\"Returns actions for given state as per current policy.\n",
        "\n",
        "        Params\n",
        "        ======\n",
        "            state (array_like): current state\n",
        "            eps (float): epsilon, for epsilon-greedy action selection\n",
        "        \"\"\"\n",
        "        state = torch.from_numpy(state).float().unsqueeze(0).to(device)\n",
        "        self.qnetwork_local.eval()\n",
        "        with torch.no_grad():\n",
        "            action_values = self.qnetwork_local(state)\n",
        "        self.qnetwork_local.train()\n",
        "\n",
        "        # Epsilon-greedy action selection\n",
        "        if random.random() > eps:\n",
        "            return np.argmax(action_values.cpu().data.numpy())\n",
        "        else:\n",
        "            return random.choice(np.arange(self.action_size))\n",
        "\n",
        "    def learn(self, experiences, gamma):\n",
        "        \"\"\"Update value parameters using given batch of experience tuples.\n",
        "        target_j = reward_j + gamma * max_a ()\n",
        "\n",
        "        Params\n",
        "        ======\n",
        "            experiences (Tuple[torch.Tensor]): tuple of (s, a, r, s', done) tuples\n",
        "            gamma (float): discount factor\n",
        "        \"\"\"\n",
        "        states, actions, rewards, next_states, dones = experiences\n",
        "\n",
        "        ## TODO: compute and minimize the loss\n",
        "        \"*** YOUR CODE HERE ***\"\n",
        "        # Get max predicted Q values (for next states) from target model\n",
        "        Q_targets_next = self.qnetwork_target(next_states).detach().max(1)[0].unsqueeze(1)\n",
        "        # Compute Q targets for current states\n",
        "        Q_targets = rewards + (gamma * Q_targets_next * (1-dones))\n",
        "\n",
        "        # Get expected Q values from local model\n",
        "        Q_expected = self.qnetwork_local(states).gather(1, actions)\n",
        "\n",
        "        # Compute loss\n",
        "        loss = F.mse_loss(Q_expected, Q_targets)\n",
        "        # Minimize the loss\n",
        "        self.optimizer.zero_grad()\n",
        "        loss.backward()\n",
        "        self.optimizer.step()\n",
        "\n",
        "        ## clip the gradients\n",
        "        nn.utils.clip_grad_norm_(self.qnetwork_local.parameters(), 10.)\n",
        "        nn.utils.clip_grad_norm_(self.qnetwork_target.parameters(), 10.)\n",
        "\n",
        "        # ------------------- update target network ------------------- #\n",
        "        self.soft_update(self.qnetwork_local, self.qnetwork_target, TAU)\n",
        "\n",
        "    def soft_update(self, local_model, target_model, tau):\n",
        "        \"\"\"Soft update model parameters.\n",
        "        θ_target = τ*θ_local + (1 - τ)*θ_target\n",
        "\n",
        "        Params\n",
        "        ======\n",
        "            local_model (PyTorch model): weights will be copied from\n",
        "            target_model (PyTorch model): weights will be copied to\n",
        "            tau (float): interpolation parameter\n",
        "        \"\"\"\n",
        "        for target_param, local_param in zip(target_model.parameters(), local_model.parameters()):\n",
        "            target_param.data.copy_(tau*local_param.data + (1.0-tau)*target_param.data)"
      ],
      "metadata": {
        "id": "jkWEhpWodak6"
      },
      "execution_count": null,
      "outputs": []
    },
    {
      "cell_type": "code",
      "source": [
        "agent = Agent(state_size=state_size, action_size=action_size, seed=0)\n",
        "# print(agent.qnetwork_local)\n",
        "for param in list(agent.qnetwork_local.parameters()):\n",
        "    print(param.shape)"
      ],
      "metadata": {
        "id": "XrL6hmKSdkXw",
        "colab": {
          "base_uri": "https://localhost:8080/"
        },
        "outputId": "e3973dd3-2b39-43ba-cd1f-81d7905a2d0b"
      },
      "execution_count": null,
      "outputs": [
        {
          "output_type": "stream",
          "name": "stdout",
          "text": [
            "torch.Size([64, 37])\n",
            "torch.Size([64])\n",
            "torch.Size([64, 64])\n",
            "torch.Size([64])\n",
            "torch.Size([4, 64])\n",
            "torch.Size([4])\n",
            "torch.Size([1, 64])\n",
            "torch.Size([1])\n"
          ]
        }
      ]
    },
    {
      "cell_type": "markdown",
      "source": [
        "**Benchmark Implementation**  \n",
        "\n",
        "In case you get stuck, note that you should be able to solve the project by making only minor modifications to the DQN code provided as part of the Deep Q-Networks lesson. Please see the image below for an example of how you might expect your agent's score to evolve. If you're interested in about how long it should take, in the solution code for the project, we were able to solve the project **in fewer than 1800 episodes**."
      ],
      "metadata": {
        "id": "VDq9ciUTo6qt"
      }
    },
    {
      "cell_type": "markdown",
      "source": [
        "#### **function train()**"
      ],
      "metadata": {
        "id": "Z1DvJnO7xZ2t"
      }
    },
    {
      "cell_type": "code",
      "source": [
        "%%time\n",
        "import sys\n",
        "from tqdm import tqdm\n",
        "\n",
        "def train(n_episodes=2000, max_t=1000, eps_start=1.0, eps_end=0.01, eps_decay=0.995):\n",
        "    \"\"\"Deep Q-Learning.\n",
        "\n",
        "    Params\n",
        "    ======\n",
        "        n_episodes (int): maximum number of training episodes\n",
        "        max_t (int): maximum number of timesteps per episode\n",
        "        eps_start (float): starting value of epsilon, for epsilon-greedy action selection\n",
        "        eps_end (float): minimum value of epsilon\n",
        "        eps_decay (float): multiplicative factor (per episode) for decreasing epsilon\n",
        "    \"\"\"\n",
        "    scores = []                        # list containing scores from each episode\n",
        "    scores_window = deque(maxlen=100)  # last 100 scores\n",
        "    score_max = float('-inf')\n",
        "    is_solved = False\n",
        "    eps = eps_start                    # initialize epsilon\n",
        "    for i_episode in range(1, n_episodes+1):\n",
        "    # for i_episode in tqdm(range(1, n_episodes+1), desc=\"Episodes\", position=0, leave=True):\n",
        "        state = env.reset(train_mode=True)[brain_name].vector_observations[0]\n",
        "        score = 0\n",
        "        for t in range(max_t):\n",
        "            action = agent.act(state, eps)\n",
        "            env_info = env.step(action)[brain_name]\n",
        "            next_state, reward, done = env_info.vector_observations[0], \\\n",
        "                                       env_info.rewards[0], env_info.local_done[0]\n",
        "            agent.step(state, action, reward, next_state, done) ## learn every UPDATE_EVERY = 4 steps\n",
        "            state = next_state\n",
        "            score += reward\n",
        "            if done:\n",
        "                break\n",
        "        scores_window.append(score)       # save most recent score\n",
        "        scores.append(score)              # save most recent score\n",
        "        eps = max(eps_end, eps_decay*eps) # decrease epsilon\n",
        "        print('\\rEpisode {}\\tAverage Score: {:.2f}'.format(i_episode, np.mean(scores_window)), end=\"\")\n",
        "        if i_episode % 100==0:\n",
        "            print('\\rEpisode {}\\tAverage Score: {:.2f}'.format(i_episode, np.mean(scores_window)))\n",
        "        scores_mean = np.mean(scores_window)\n",
        "        if scores_mean>=20. and scores_mean>score_max:\n",
        "            score_max = scores_mean\n",
        "            if not is_solved:\n",
        "                is_solved = True\n",
        "                print('\\nEnvironment solved in {:d} episodes!'.format(i_episode-100))\n",
        "            print(\"\\nCheckpoint is saved at episode {:d}, average score: {:.2f}\".format(i_episode, np.mean(scores_window)))\n",
        "            torch.save(agent.qnetwork_local.state_dict(), f'checkpoint_{i_episode}.pth')\n",
        "    return scores\n",
        "\n",
        "scores = train()"
      ],
      "metadata": {
        "id": "ZXwpOfAgohD3",
        "colab": {
          "base_uri": "https://localhost:8080/"
        },
        "outputId": "545d04be-a438-4e99-fe13-b2d26ee8b265"
      },
      "execution_count": null,
      "outputs": [
        {
          "output_type": "stream",
          "name": "stdout",
          "text": [
            "Episode 100\tAverage Score: 0.41\n",
            "Episode 200\tAverage Score: 2.81\n",
            "Episode 300\tAverage Score: 6.19\n",
            "Episode 400\tAverage Score: 9.32\n",
            "Episode 500\tAverage Score: 13.57\n",
            "Episode 600\tAverage Score: 15.33\n",
            "Episode 700\tAverage Score: 15.67\n",
            "Episode 800\tAverage Score: 15.87\n",
            "Episode 900\tAverage Score: 16.20\n",
            "Episode 1000\tAverage Score: 16.47\n",
            "Episode 1100\tAverage Score: 16.46\n",
            "Episode 1200\tAverage Score: 17.12\n",
            "Episode 1300\tAverage Score: 16.46\n",
            "Episode 1400\tAverage Score: 16.58\n",
            "Episode 1500\tAverage Score: 16.43\n",
            "Episode 1600\tAverage Score: 15.84\n",
            "Episode 1700\tAverage Score: 16.37\n",
            "Episode 1800\tAverage Score: 17.03\n",
            "Episode 1900\tAverage Score: 17.03\n",
            "Episode 2000\tAverage Score: 17.03\n",
            "CPU times: user 31min 45s, sys: 1min 57s, total: 33min 43s\n",
            "Wall time: 45min 39s\n"
          ]
        }
      ]
    },
    {
      "cell_type": "markdown",
      "source": [
        "Tesla T4, linear_256_64:  \n",
        "2000 episodes, avg score around 15  \n",
        "Wall time: 29min 39s  "
      ],
      "metadata": {
        "id": "rgdfw3T94sBp"
      }
    },
    {
      "cell_type": "code",
      "source": [
        "## since the training didn't reach 20, the desired score, no checkpoint has been automatically save.\n",
        "## manually save the model weights.\n",
        "torch.save(agent.qnetwork_local.state_dict(), f'dqn_checkpoint_2000.pth')"
      ],
      "metadata": {
        "id": "6M1IUnaK3sWv"
      },
      "execution_count": null,
      "outputs": []
    },
    {
      "cell_type": "code",
      "source": [
        "import numpy as np\n",
        "import pandas as pd\n",
        "import matplotlib.pyplot as plt\n",
        "%matplotlib inline\n",
        "# plot the scores\n",
        "fig = plt.figure()\n",
        "ax = fig.add_subplot(111)\n",
        "plt.plot(np.arange(len(scores)), scores)\n",
        "plt.plot(np.arange(len(scores)), pd.DataFrame(scores).rolling(window=100).mean())\n",
        "plt.ylabel('Score')\n",
        "plt.xlabel('Episode #')\n",
        "plt.show()"
      ],
      "metadata": {
        "id": "xW7u04YVt8yM",
        "colab": {
          "base_uri": "https://localhost:8080/",
          "height": 449
        },
        "outputId": "486bc1db-056f-4dbb-b854-ecf4979570d3"
      },
      "execution_count": null,
      "outputs": [
        {
          "output_type": "display_data",
          "data": {
            "text/plain": [
              "<Figure size 640x480 with 1 Axes>"
            ],
            "image/png": "[encoded data removed]"
          },
          "metadata": {}
        }
      ]
    },
    {
      "cell_type": "markdown",
      "source": [
        "# **\\<BOTTOM>**  "
      ],
      "metadata": {
        "id": "igVarKO4ZdSz"
      }
    }
  ],
  "metadata": {
    "kernelspec": {
      "display_name": "Python 3",
      "name": "python3"
    },
    "language_info": {
      "codemirror_mode": {
        "name": "ipython",
        "version": 3
      },
      "file_extension": ".py",
      "mimetype": "text/x-python",
      "name": "python",
      "nbconvert_exporter": "python",
      "pygments_lexer": "ipython3",
      "version": "3.6.4"
    },
    "colab": {
      "provenance": [],
      "include_colab_link": true
    }
  },
  "nbformat": 4,
  "nbformat_minor": 0
}