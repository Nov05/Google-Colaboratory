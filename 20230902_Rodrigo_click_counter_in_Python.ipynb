{
  "nbformat": 4,
  "nbformat_minor": 0,
  "metadata": {
    "colab": {
      "provenance": [],
      "toc_visible": true,
      "authorship_tag": "ABX9TyNALMGAsWk9HXCPncotEpT6",
      "include_colab_link": true
    },
    "kernelspec": {
      "name": "python3",
      "display_name": "Python 3"
    },
    "language_info": {
      "name": "python"
    }
  },
  "cells": [
    {
      "cell_type": "markdown",
      "metadata": {
        "id": "view-in-github",
        "colab_type": "text"
      },
      "source": [
        "<a href=\"https://colab.research.google.com/github/Nov05/Google-Colaboratory/blob/master/20230902_Rodrigo_click_counter_in_Python.ipynb\" target=\"_parent\"><img src=\"https://colab.research.google.com/assets/colab-badge.svg\" alt=\"Open In Colab\"/></a>"
      ]
    },
    {
      "cell_type": "markdown",
      "source": [
        "origin: https://twitter.com/mathsppblog/status/1697930125885448606  \n",
        "<img src=\"https://pbs.twimg.com/media/F5BCVV0WMAA-KcN?format=jpg&name=4096x4096\" width=500>"
      ],
      "metadata": {
        "id": "Foq164fs4nB4"
      }
    },
    {
      "cell_type": "markdown",
      "source": [
        "# **dicimal counter**"
      ],
      "metadata": {
        "id": "BXE0d1be594v"
      }
    },
    {
      "cell_type": "code",
      "execution_count": 29,
      "metadata": {
        "colab": {
          "base_uri": "https://localhost:8080/"
        },
        "id": "UkoukvvP1CyK",
        "outputId": "ae763979-4127-4d4e-f208-81e3b8bc7d43"
      },
      "outputs": [
        {
          "output_type": "stream",
          "name": "stdout",
          "text": [
            "0000\n",
            "0001\n",
            "0999\n",
            "1000\n",
            "1001\n",
            "9998\n",
            "9999\n",
            "0000\n",
            "0001\n",
            "0002\n"
          ]
        }
      ],
      "source": [
        "from itertools import cycle, zip_longest\n",
        "DISK_NUM, DISK_RANGE = 4, 10\n",
        "\n",
        "class click_counter:\n",
        "    def __init__(self, disks=DISK_NUM):\n",
        "        self._state = [None for _ in range(disks)]\n",
        "        self._disks = [cycle(list(zip_longest (range(DISK_RANGE), [True], fillvalue=False))) for _ in range(disks)]\n",
        "        self._disk_count = disks\n",
        "\n",
        "    def __iter__(self):\n",
        "        return self\n",
        "\n",
        "    def __next__(self):\n",
        "        disk_to_rotate = self._disk_count - 1\n",
        "        rotate_next = True\n",
        "        while disk_to_rotate >= 0 and rotate_next:\n",
        "            value, rotate_next = next(self._disks[disk_to_rotate])\n",
        "            self._state[disk_to_rotate] = value\n",
        "            disk_to_rotate -= 1\n",
        "        return \"\".join(map(str, self._state))\n",
        "\n",
        "    def click(self):\n",
        "        return next(self)\n",
        "\n",
        "if __name__ == \"__main__\":\n",
        "    clicker = click_counter()\n",
        "    for i in range(DISK_RANGE**DISK_NUM+3):\n",
        "        # if i<2 or (998<i<1002) or (9997<i<10003): ## github can't render this properly\n",
        "        if i<2 or (i>998 and i<1002) or (i>9997 and i<10003):\n",
        "            print(clicker.click()) # 0000, 0001...\n",
        "        else:\n",
        "            clicker.click()"
      ]
    },
    {
      "cell_type": "markdown",
      "source": [
        "# **binary counter**"
      ],
      "metadata": {
        "id": "pWuwiTQc55WO"
      }
    },
    {
      "cell_type": "code",
      "source": [
        "from itertools import cycle, zip_longest\n",
        "DISK_NUM, DISK_RANGE = 4, 2\n",
        "\n",
        "class click_counter:\n",
        "    def __init__(self, disks=DISK_NUM):\n",
        "        self._state = [None for _ in range(disks)]\n",
        "        self._disks = [cycle(list(zip_longest(range(DISK_RANGE), [True], fillvalue=False))) for _ in range(disks)]\n",
        "        self._disk_count = disks\n",
        "\n",
        "    def __iter__(self):\n",
        "        return self\n",
        "\n",
        "    def __next__(self):\n",
        "        disk_to_rotate = self._disk_count - 1\n",
        "        rotate_next = True\n",
        "        while disk_to_rotate >= 0 and rotate_next:\n",
        "            value, rotate_next = next(self._disks[disk_to_rotate])\n",
        "            self._state[disk_to_rotate] = value\n",
        "            disk_to_rotate -= 1\n",
        "        return \"\".join(map(str, self._state))\n",
        "\n",
        "    def click(self):\n",
        "        return next(self)\n",
        "\n",
        "if __name__ == \"__main__\":\n",
        "    clicker = click_counter()\n",
        "    for i in range(DISK_RANGE**DISK_NUM+2):\n",
        "        print(clicker.click()) # 0000, 0001..."
      ],
      "metadata": {
        "colab": {
          "base_uri": "https://localhost:8080/"
        },
        "id": "uNvVuevG2spK",
        "outputId": "e6958643-a5e7-414a-8011-c1b114b0ed5f"
      },
      "execution_count": 12,
      "outputs": [
        {
          "output_type": "stream",
          "name": "stdout",
          "text": [
            "0000\n",
            "0001\n",
            "0010\n",
            "0011\n",
            "0100\n",
            "0101\n",
            "0110\n",
            "0111\n",
            "1000\n",
            "1001\n",
            "1010\n",
            "1011\n",
            "1100\n",
            "1101\n",
            "1110\n",
            "1111\n",
            "0000\n",
            "0001\n"
          ]
        }
      ]
    },
    {
      "cell_type": "markdown",
      "source": [
        "# **hexadecimal counter**"
      ],
      "metadata": {
        "id": "z-XTqFar8YT2"
      }
    },
    {
      "cell_type": "code",
      "source": [
        "from itertools import cycle, zip_longest\n",
        "DISK_NUM, DISK_RANGE = 4, 16\n",
        "\n",
        "class click_counter:\n",
        "    def __init__(self, disks=DISK_NUM):\n",
        "        self._state = [None for _ in range(disks)]\n",
        "        self._disks = [cycle(list(zip_longest(range(DISK_RANGE), [True], fillvalue=False))) for _ in range(disks)]\n",
        "        self._disk_count = disks\n",
        "\n",
        "    def __iter__(self):\n",
        "        return self\n",
        "\n",
        "    def __next__(self):\n",
        "        disk_to_rotate = self._disk_count - 1\n",
        "        rotate_next = True\n",
        "        while disk_to_rotate >= 0 and rotate_next:\n",
        "            value, rotate_next = next(self._disks[disk_to_rotate])\n",
        "            self._state[disk_to_rotate] = value\n",
        "            disk_to_rotate -= 1\n",
        "        return \"\".join(map(lambda x: hex(x)[-1].upper(), self._state))\n",
        "\n",
        "    def click(self):\n",
        "        return next(self)\n",
        "\n",
        "if __name__ == \"__main__\":\n",
        "    clicker = click_counter()\n",
        "    for i in range(DISK_RANGE**DISK_NUM+2):\n",
        "        if i<3 or i>65532:\n",
        "            print(clicker.click()) # 0000, 0001...\n",
        "        else:\n",
        "            clicker.click()"
      ],
      "metadata": {
        "colab": {
          "base_uri": "https://localhost:8080/"
        },
        "id": "XgaXFMw55oXK",
        "outputId": "7372776d-bb7c-4d29-d893-984c49a9b237"
      },
      "execution_count": 28,
      "outputs": [
        {
          "output_type": "stream",
          "name": "stdout",
          "text": [
            "0000\n",
            "0001\n",
            "0002\n",
            "FFFD\n",
            "FFFE\n",
            "FFFF\n",
            "0000\n",
            "0001\n"
          ]
        }
      ]
    },
    {
      "cell_type": "code",
      "source": [
        "import string\n",
        "print(string.hexdigits)\n",
        "print(hex(10))\n",
        "print([hex(i)[-1].upper() for i in range(16)])"
      ],
      "metadata": {
        "colab": {
          "base_uri": "https://localhost:8080/"
        },
        "id": "0ikuIgmI840p",
        "outputId": "e1899efc-2008-421f-deb3-b7e2a810de04"
      },
      "execution_count": 25,
      "outputs": [
        {
          "output_type": "stream",
          "name": "stdout",
          "text": [
            "0123456789abcdefABCDEF\n",
            "0xa\n",
            "['0', '1', '2', '3', '4', '5', '6', '7', '8', '9', 'A', 'B', 'C', 'D', 'E', 'F']\n"
          ]
        }
      ]
    },
    {
      "cell_type": "code",
      "source": [],
      "metadata": {
        "id": "tYfUGNMz8-Hu"
      },
      "execution_count": null,
      "outputs": []
    }
  ]
}