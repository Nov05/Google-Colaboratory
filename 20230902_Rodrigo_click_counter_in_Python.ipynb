{
  "nbformat": 4,
  "nbformat_minor": 0,
  "metadata": {
    "colab": {
      "provenance": [],
      "toc_visible": true,
      "authorship_tag": "ABX9TyMOpzOcVIZxPtifkU5NarxN",
      "include_colab_link": true
    },
    "kernelspec": {
      "name": "python3",
      "display_name": "Python 3"
    },
    "language_info": {
      "name": "python"
    }
  },
  "cells": [
    {
      "cell_type": "markdown",
      "metadata": {
        "id": "view-in-github",
        "colab_type": "text"
      },
      "source": [
        "<a href=\"https://colab.research.google.com/github/Nov05/Google-Colaboratory/blob/master/20230902_Rodrigo_click_counter_in_Python.ipynb\" target=\"_parent\"><img src=\"https://colab.research.google.com/assets/colab-badge.svg\" alt=\"Open In Colab\"/></a>"
      ]
    },
    {
      "cell_type": "markdown",
      "source": [
        "origin: https://twitter.com/mathsppblog/status/1697930125885448606  \n",
        "<img src=\"https://pbs.twimg.com/media/F5BCVV0WMAA-KcN?format=jpg&name=4096x4096\" width=500>"
      ],
      "metadata": {
        "id": "Foq164fs4nB4"
      }
    },
    {
      "cell_type": "markdown",
      "source": [
        "* the key design of this algorithm is to use two data structures:  \n",
        " (a) a itertools.**cycle** to represent each disk range, e.g. 0-9;  \n",
        " (b) a **list** to represent the disks, e.g. disk 0-3.  \n",
        "* for the disk range, it always starts from a digit and increases till the end of the range and starts over for the beginning of the range, e.g. for a decimal counter disk, it might starts from 0, then 1, 2,... till 9, then goes back to 0.  \n",
        "* for the disks, if a disk reaches the end of the range, it will carry 1 to the next disk, e.g. 0009 -> 0010, or 9999 -> 0000.  "
      ],
      "metadata": {
        "id": "elovNBVn3x1Y"
      }
    },
    {
      "cell_type": "markdown",
      "source": [
        "# **decimal counter**"
      ],
      "metadata": {
        "id": "BXE0d1be594v"
      }
    },
    {
      "cell_type": "code",
      "execution_count": null,
      "metadata": {
        "colab": {
          "base_uri": "https://localhost:8080/"
        },
        "id": "UkoukvvP1CyK",
        "outputId": "a1abaef8-4010-495f-91a3-c57d687786fa"
      },
      "outputs": [
        {
          "output_type": "stream",
          "name": "stdout",
          "text": [
            "0000\n",
            "0001\n",
            "0999\n",
            "1000\n",
            "1001\n",
            "9998\n",
            "9999\n",
            "0000\n",
            "0001\n",
            "0002\n"
          ]
        }
      ],
      "source": [
        "from itertools import cycle, zip_longest\n",
        "DISK_NUM, DISK_RANGE = 4, 10\n",
        "\n",
        "class click_counter:\n",
        "    def __init__(self,\n",
        "                 disk_num=4,\n",
        "                 disk_range=10,\n",
        "                 str_func=str):\n",
        "        self._disk_num = disk_num\n",
        "        self._str_func = str_func\n",
        "        self._state = [None for _ in range(disk_num)]\n",
        "        self._disks = [cycle(zip_longest(range(disk_range), [True], fillvalue=False)) for _ in range(disk_num)]\n",
        "\n",
        "    def __iter__(self):\n",
        "        return self\n",
        "\n",
        "    def __next__(self):\n",
        "        disk_to_rotate, rotate_next = self._disk_num-1, True\n",
        "        while disk_to_rotate >= 0 and rotate_next:\n",
        "            self._state[disk_to_rotate], rotate_next = next(self._disks[disk_to_rotate])\n",
        "            disk_to_rotate -= 1\n",
        "        return \"\".join(map(self._str_func, self._state))\n",
        "\n",
        "    def click(self):\n",
        "        return next(self)\n",
        "\n",
        "if __name__ == \"__main__\":\n",
        "    clicker = click_counter()\n",
        "    for i in range(DISK_RANGE**DISK_NUM+3):\n",
        "        if i<2 or (998< i <1002) or i>DISK_RANGE**DISK_NUM-3:\n",
        "        ## github can't render the expressions properly if there are < s without spaces\n",
        "        # if i<2 or (i>998 and i<1002) or (i>9997 and i<10003):\n",
        "            print(clicker.click()) # 0000, 0001...\n",
        "        else:\n",
        "            clicker.click()"
      ]
    },
    {
      "cell_type": "code",
      "source": [
        "## no need to convert zip_longest object to list\n",
        "c = cycle((zip_longest(range(10),[True])))\n",
        "next(c)"
      ],
      "metadata": {
        "colab": {
          "base_uri": "https://localhost:8080/"
        },
        "id": "qmYjp4B2Snku",
        "outputId": "c60d62d3-ec35-401d-a9d3-dc67e235f300"
      },
      "execution_count": null,
      "outputs": [
        {
          "output_type": "execute_result",
          "data": {
            "text/plain": [
              "(0, True)"
            ]
          },
          "metadata": {},
          "execution_count": 26
        }
      ]
    },
    {
      "cell_type": "markdown",
      "source": [
        "# **binary counter**"
      ],
      "metadata": {
        "id": "pWuwiTQc55WO"
      }
    },
    {
      "cell_type": "code",
      "source": [
        "DISK_NUM, DISK_RANGE = 6, 2\n",
        "\n",
        "if __name__ == \"__main__\":\n",
        "    clicker = click_counter(disk_num=DISK_NUM, disk_range=DISK_RANGE)\n",
        "    for i in range(DISK_RANGE**DISK_NUM*3+2):\n",
        "        print(f\"{clicker.click()}, \", end=\"\") # 0000, 0001...\n",
        "        if not (i+1)%15: print('\\n', end=\"\")"
      ],
      "metadata": {
        "colab": {
          "base_uri": "https://localhost:8080/"
        },
        "id": "uNvVuevG2spK",
        "outputId": "02a5f2fb-951f-47d2-b332-2e1ca6a34b63"
      },
      "execution_count": null,
      "outputs": [
        {
          "output_type": "stream",
          "name": "stdout",
          "text": [
            "000000, 000001, 000010, 000011, 000100, 000101, 000110, 000111, 001000, 001001, 001010, 001011, 001100, 001101, 001110, \n",
            "001111, 010000, 010001, 010010, 010011, 010100, 010101, 010110, 010111, 011000, 011001, 011010, 011011, 011100, 011101, \n",
            "011110, 011111, 100000, 100001, 100010, 100011, 100100, 100101, 100110, 100111, 101000, 101001, 101010, 101011, 101100, \n",
            "101101, 101110, 101111, 110000, 110001, 110010, 110011, 110100, 110101, 110110, 110111, 111000, 111001, 111010, 111011, \n",
            "111100, 111101, 111110, 111111, 000000, 000001, 000010, 000011, 000100, 000101, 000110, 000111, 001000, 001001, 001010, \n",
            "001011, 001100, 001101, 001110, 001111, 010000, 010001, 010010, 010011, 010100, 010101, 010110, 010111, 011000, 011001, \n",
            "011010, 011011, 011100, 011101, 011110, 011111, 100000, 100001, 100010, 100011, 100100, 100101, 100110, 100111, 101000, \n",
            "101001, 101010, 101011, 101100, 101101, 101110, 101111, 110000, 110001, 110010, 110011, 110100, 110101, 110110, 110111, \n",
            "111000, 111001, 111010, 111011, 111100, 111101, 111110, 111111, 000000, 000001, 000010, 000011, 000100, 000101, 000110, \n",
            "000111, 001000, 001001, 001010, 001011, 001100, 001101, 001110, 001111, 010000, 010001, 010010, 010011, 010100, 010101, \n",
            "010110, 010111, 011000, 011001, 011010, 011011, 011100, 011101, 011110, 011111, 100000, 100001, 100010, 100011, 100100, \n",
            "100101, 100110, 100111, 101000, 101001, 101010, 101011, 101100, 101101, 101110, 101111, 110000, 110001, 110010, 110011, \n",
            "110100, 110101, 110110, 110111, 111000, 111001, 111010, 111011, 111100, 111101, 111110, 111111, 000000, 000001, "
          ]
        }
      ]
    },
    {
      "cell_type": "markdown",
      "source": [
        "# **hexadecimal counter**"
      ],
      "metadata": {
        "id": "z-XTqFar8YT2"
      }
    },
    {
      "cell_type": "code",
      "source": [
        "DISK_NUM, DISK_RANGE = 4, 16\n",
        "STR_FUNC = lambda x: hex(x)[-1].upper()\n",
        "\n",
        "if __name__ == \"__main__\":\n",
        "    clicker = click_counter(disk_num=DISK_NUM, disk_range=DISK_RANGE, str_func=STR_FUNC)\n",
        "    for i in range(DISK_RANGE**DISK_NUM+2):\n",
        "        if i<3 or i>DISK_RANGE**DISK_NUM-4:\n",
        "            print(clicker.click()) # 0000, 0001...\n",
        "        else:\n",
        "            clicker.click()"
      ],
      "metadata": {
        "colab": {
          "base_uri": "https://localhost:8080/"
        },
        "id": "XgaXFMw55oXK",
        "outputId": "71883b4e-3260-416a-830f-410303d58678"
      },
      "execution_count": null,
      "outputs": [
        {
          "output_type": "stream",
          "name": "stdout",
          "text": [
            "0000\n",
            "0001\n",
            "0002\n",
            "FFFD\n",
            "FFFE\n",
            "FFFF\n",
            "0000\n",
            "0001\n"
          ]
        }
      ]
    },
    {
      "cell_type": "code",
      "source": [
        "import string\n",
        "print(string.hexdigits)\n",
        "print(hex(10))\n",
        "print([hex(i)[-1].upper() for i in range(16)])"
      ],
      "metadata": {
        "colab": {
          "base_uri": "https://localhost:8080/"
        },
        "id": "0ikuIgmI840p",
        "outputId": "e1899efc-2008-421f-deb3-b7e2a810de04"
      },
      "execution_count": null,
      "outputs": [
        {
          "output_type": "stream",
          "name": "stdout",
          "text": [
            "0123456789abcdefABCDEF\n",
            "0xa\n",
            "['0', '1', '2', '3', '4', '5', '6', '7', '8', '9', 'A', 'B', 'C', 'D', 'E', 'F']\n"
          ]
        }
      ]
    },
    {
      "cell_type": "code",
      "source": [
        "import numpy as np\n",
        "print([np.base_repr(i, 32) for i in range(32)])\n",
        "print([np.base_repr(i, 36) for i in range(36)])\n",
        "## ValueError: Bases greater than 36 not handled in base_repr."
      ],
      "metadata": {
        "colab": {
          "base_uri": "https://localhost:8080/"
        },
        "id": "tYfUGNMz8-Hu",
        "outputId": "f35e5622-7031-40bc-fc71-da3ed6f6852d"
      },
      "execution_count": null,
      "outputs": [
        {
          "output_type": "stream",
          "name": "stdout",
          "text": [
            "['0', '1', '2', '3', '4', '5', '6', '7', '8', '9', 'A', 'B', 'C', 'D', 'E', 'F', 'G', 'H', 'I', 'J', 'K', 'L', 'M', 'N', 'O', 'P', 'Q', 'R', 'S', 'T', 'U', 'V']\n",
            "['0', '1', '2', '3', '4', '5', '6', '7', '8', '9', 'A', 'B', 'C', 'D', 'E', 'F', 'G', 'H', 'I', 'J', 'K', 'L', 'M', 'N', 'O', 'P', 'Q', 'R', 'S', 'T', 'U', 'V', 'W', 'X', 'Y', 'Z']\n"
          ]
        }
      ]
    },
    {
      "cell_type": "code",
      "source": [],
      "metadata": {
        "id": "ldL-j6DYByDv"
      },
      "execution_count": null,
      "outputs": []
    }
  ]
}