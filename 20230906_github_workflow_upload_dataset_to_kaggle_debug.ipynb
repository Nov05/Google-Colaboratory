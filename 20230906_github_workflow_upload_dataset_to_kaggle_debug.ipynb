{
  "nbformat": 4,
  "nbformat_minor": 0,
  "metadata": {
    "colab": {
      "provenance": [],
      "toc_visible": true,
      "authorship_tag": "ABX9TyOl+g2k3NWTvpl0r/5TTGDY",
      "include_colab_link": true
    },
    "kernelspec": {
      "name": "python3",
      "display_name": "Python 3"
    },
    "language_info": {
      "name": "python"
    }
  },
  "cells": [
    {
      "cell_type": "markdown",
      "metadata": {
        "id": "view-in-github",
        "colab_type": "text"
      },
      "source": [
        "<a href=\"https://colab.research.google.com/github/Nov05/Google-Colaboratory/blob/master/20230906_github_workflow_upload_dataset_to_kaggle_debug.ipynb\" target=\"_parent\"><img src=\"https://colab.research.google.com/assets/colab-badge.svg\" alt=\"Open In Colab\"/></a>"
      ]
    },
    {
      "cell_type": "markdown",
      "source": [
        "# **\\<TOP>**\n",
        "\n",
        "notebook created by nov05 on 2023-09-06  "
      ],
      "metadata": {
        "id": "3iJzB9RFbVRj"
      }
    },
    {
      "cell_type": "markdown",
      "source": [
        "github workflow action  \n",
        "https://github.com/jaimevalero/push-kaggle-dataset  \n",
        "https://github.com/jaimevalero/push-kaggle-dataset/issues/14  \n",
        "\n",
        "example kaggle dataset created from github repo  \n",
        "https://www.kaggle.com/datasets/josarago/kaggle--feedback-prize-ell   \n",
        "https://www.kaggle.com/datasets/wenjingliu/kaggle--feedback-prize-ell  "
      ],
      "metadata": {
        "id": "DaCSPKrk_RdC"
      }
    },
    {
      "cell_type": "markdown",
      "source": [
        "# **set up kaggle here in colab**"
      ],
      "metadata": {
        "id": "zhFsf-cmOxHH"
      }
    },
    {
      "cell_type": "code",
      "execution_count": null,
      "metadata": {
        "id": "4JQCZnLr9LNr"
      },
      "outputs": [],
      "source": [
        "!pip install kaggle --upgrade\n",
        "## Requirement already satisfied: kaggle in /usr/local/lib/python3.10/dist-packages (1.5.16)"
      ]
    },
    {
      "cell_type": "code",
      "source": [
        "## upload kaggle.json to /root/.kaggle, then change the access to it\n",
        "!chmod 600 /root/.kaggle/kaggle.json"
      ],
      "metadata": {
        "id": "jMCw9Gei92R1"
      },
      "execution_count": null,
      "outputs": []
    },
    {
      "cell_type": "code",
      "source": [
        "## OSError: Could not find kaggle.json. Make sure it's located in /root/.kaggle. Or use the environment method.\n",
        "## Warning: Your Kaggle API key is readable by other users on this system! To fix this, you can run 'chmod 600 /root/.kaggle/kaggle.json'\n",
        "import kaggle"
      ],
      "metadata": {
        "id": "NlGr5npu9QJ9"
      },
      "execution_count": null,
      "outputs": []
    },
    {
      "cell_type": "markdown",
      "source": [
        "# **this is the issue that I ran into**\n",
        "\n",
        "I am not able to run the action successfully to upload my github repo code as a dataset to Kaggle.  "
      ],
      "metadata": {
        "id": "jGq_Pjt2O7Vw"
      }
    },
    {
      "cell_type": "markdown",
      "source": [
        "https://github.com/Nov05/kaggle--feedback-prize-ell/actions/runs/6105480385/job/16569053188    \n",
        "```\n",
        "2023-09-07 04:40:18.107 | INFO     | __main__:execute:22 - bashCommand= kaggle datasets status ***/kaggle--feedback-prize-ell\n",
        "2023-09-07 04:40:18.580 | INFO     | __main__:execute:25 - output=b'403 - Forbidden\\n'\n",
        "2023-09-07 04:40:18.581 | DEBUG    | __main__:execute:26 - error=None\n",
        "2023-09-07 04:40:18.581 | DEBUG    | __main__:perform_job:103 - result for ***/kaggle--feedback-prize-ell is result=b'403 - Forbidden\\n'\n",
        "2023-09-07 04:40:18.581 | DEBUG    | __main__:perform_job:105 - has_to_create_new_dataset=True\n",
        "```\n",
        "\n",
        "I assume this is fine, cause the dataset hasn't been created in kaggle yet.  \n",
        "\n",
        "```\n",
        "2023-09-07 04:40:18.596 | INFO     | __main__:execute:22 - bashCommand=kaggle datasets create --dir-mode tar  --public\n",
        "2023-09-07 04:40:18.830 | INFO     | __main__:execute:25 - output=b'The dataset title must be between 6 and 50 characters\\n'\n",
        "2023-09-07 04:40:18.831 | DEBUG    | __main__:execute:26 - error=None\n",
        "2023-09-07 04:40:18.831 | ERROR    | __main__:<module>:201 - An error has been caught in function '<module>', process 'MainProcess' (1), thread 'MainThread' (140582980443008):\n",
        "Traceback (most recent call last):\n",
        "\n",
        "> File \"/app/entrypoint.py\", line 201, in <module>\n",
        "    main()\n",
        "    └ <function main at 0x7fdc056deaf0>\n",
        "\n",
        "  File \"/app/entrypoint.py\", line 193, in main\n",
        "    perform_job()\n",
        "    └ <function perform_job at 0x7fdc056de4c0>\n",
        "\n",
        "  File \"/app/entrypoint.py\", line 124, in perform_job\n",
        "    logger.info(f\"Dataset creation result: {exception}\")\n",
        "    │      └ <function Logger.info at 0x7fdc05932d30>\n",
        "    └ <loguru.logger handlers=[(id=0, level=10, sink=<stderr>)]>\n",
        "\n",
        "NameError: name 'exception' is not defined\n",
        "```\n",
        "[File \"/app/entrypoint.py\", line 124, in perform_job](https://github.com/jaimevalero/push-kaggle-dataset/blob/v3/entrypoint.py)  \n",
        "```\n",
        "123    result = execute(f\"kaggle datasets create --dir-mode tar {vars}\").decode(\"utf-8\")\n",
        "124    logger.info(f\"Dataset creation result: {exception}\")\n",
        "```\n",
        "👉 I think here it oughts to be \"**result**\" rather than \"**exception**\"?  "
      ],
      "metadata": {
        "id": "OIR9Gq44-1Ew"
      }
    },
    {
      "cell_type": "markdown",
      "source": [
        "# **kaggle datasets api**"
      ],
      "metadata": {
        "id": "LdgrKs7wYhRw"
      }
    },
    {
      "cell_type": "code",
      "source": [
        "!kaggle datasets -h"
      ],
      "metadata": {
        "colab": {
          "base_uri": "https://localhost:8080/"
        },
        "id": "C0xI7yssHGaa",
        "outputId": "22b19085-525a-478a-f5fb-d5f158b9a620"
      },
      "execution_count": null,
      "outputs": [
        {
          "output_type": "stream",
          "name": "stdout",
          "text": [
            "usage: kaggle datasets\n",
            "       [-h]\n",
            "       {list,files,download,create,version,init,metadata,status}\n",
            "       ...\n",
            "\n",
            "options:\n",
            "  -h, --help\n",
            "    show this help message and exit\n",
            "\n",
            "commands:\n",
            "  {list,files,download,create,version,init,metadata,status}\n",
            "    list\n",
            "    List available datasets\n",
            "    files\n",
            "    List dataset files\n",
            "    download\n",
            "    Download dataset files\n",
            "    create\n",
            "    Create a new dataset\n",
            "    version\n",
            "    Create a new dataset version\n",
            "    init\n",
            "    Initialize metadata file for dataset creation\n",
            "    metadata\n",
            "    Download metadata about a dataset\n",
            "    status\n",
            "    Get the creation status for a dataset\n"
          ]
        }
      ]
    },
    {
      "cell_type": "markdown",
      "source": [
        "# **kaggle datasets status, metadata, list, files**\n",
        "\n",
        "the return messages could be confusing.  "
      ],
      "metadata": {
        "id": "2m-KTOpJMyjM"
      }
    },
    {
      "cell_type": "code",
      "source": [
        "## this is a valid dataset, however \"status\" returns 404\n",
        "## https://www.kaggle.com/datasets/josarago/kaggle--feedback-prize-ell\n",
        "\n",
        "!kaggle datasets status josarago/kaggle--feedback-prize-ell\n",
        "## 404 - Not Found - Not found\n",
        "\n",
        "!kaggle datasets metadata josarago/kaggle--feedback-prize-ell\n",
        "## Downloaded metadata to /content/dataset-metadata.json"
      ],
      "metadata": {
        "colab": {
          "base_uri": "https://localhost:8080/"
        },
        "id": "bLL1iWRGFFPE",
        "outputId": "5855c9ad-e0f4-47d1-963e-fc68f8e2241b"
      },
      "execution_count": null,
      "outputs": [
        {
          "output_type": "stream",
          "name": "stdout",
          "text": [
            "404 - Not Found - Not found\n",
            "Downloaded metadata to /content/dataset-metadata.json\n"
          ]
        }
      ]
    },
    {
      "cell_type": "code",
      "source": [
        "## this dataset doesn't exit, and \"status\" returns 403\n",
        "!kaggle datasets status josarago/abcdefghijk\n",
        "## 403 - Forbidden - Permission 'datasets.get' was denied"
      ],
      "metadata": {
        "colab": {
          "base_uri": "https://localhost:8080/"
        },
        "id": "1XuxFT4ONR9E",
        "outputId": "48cc489c-d92c-4175-c9d4-e5d7f7c08c4e"
      },
      "execution_count": null,
      "outputs": [
        {
          "output_type": "stream",
          "name": "stdout",
          "text": [
            "403 - Forbidden - Permission 'datasets.get' was denied\n"
          ]
        }
      ]
    },
    {
      "cell_type": "code",
      "source": [
        "!kaggle datasets list -s josarago\n",
        "!kaggle datasets list -s soorajtomar"
      ],
      "metadata": {
        "colab": {
          "base_uri": "https://localhost:8080/"
        },
        "id": "l8LHVUWkHB_L",
        "outputId": "7822e8ec-e455-454c-fce4-1b128bf026e5"
      },
      "execution_count": null,
      "outputs": [
        {
          "output_type": "stream",
          "name": "stdout",
          "text": [
            "ref                                  title                           size  lastUpdated          downloadCount  voteCount  usabilityRating  \n",
            "-----------------------------------  ------------------------------  ----  -------------------  -------------  ---------  ---------------  \n",
            "josarago/kaggle--feedback-prize-ell  feedback-prize-ell-github-repo  14KB  2022-12-07 17:37:06              4          0  0.3125           \n",
            "josarago/python-decouple             python-decouple                  9KB  2022-12-16 21:25:31              5          0  0.25             \n",
            "ref                               title                   size  lastUpdated          downloadCount  voteCount  usabilityRating  \n",
            "--------------------------------  ---------------------  -----  -------------------  -------------  ---------  ---------------  \n",
            "soorajtomar/cyberbullying-tweets  Cyberbullying Tweets   441KB  2023-08-22 06:39:50            298         23  0.9411765        \n"
          ]
        }
      ]
    },
    {
      "cell_type": "code",
      "source": [
        "## https://www.kaggle.com/datasets/soorajtomar/cyberbullying-tweets\n",
        "!kaggle datasets status soorajtomar/cyberbullying-tweets\n",
        "## 404 - Not Found - Not found"
      ],
      "metadata": {
        "colab": {
          "base_uri": "https://localhost:8080/"
        },
        "id": "z6fn-3H1FHOT",
        "outputId": "3b388e0d-23e5-4f4a-9a8c-9b619594cc67"
      },
      "execution_count": null,
      "outputs": [
        {
          "output_type": "stream",
          "name": "stdout",
          "text": [
            "404 - Not Found - Not found\n"
          ]
        }
      ]
    },
    {
      "cell_type": "code",
      "source": [
        "!kaggle datasets status shashwatwork/visual-led-status-dataset\n",
        "## 404 - Not Found - Not found\n",
        "!kaggle datasets metadata shashwatwork/visual-led-status-dataset\n",
        "## Downloaded metadata to /content/dataset-metadata.json"
      ],
      "metadata": {
        "colab": {
          "base_uri": "https://localhost:8080/"
        },
        "id": "639qjLeKJBu6",
        "outputId": "5db549b5-504a-4457-da62-5ee70d053138"
      },
      "execution_count": null,
      "outputs": [
        {
          "output_type": "stream",
          "name": "stdout",
          "text": [
            "404 - Not Found - Not found\n",
            "Downloaded metadata to /content/dataset-metadata.json\n"
          ]
        }
      ]
    },
    {
      "cell_type": "code",
      "source": [
        "!kaggle datasets files shashwatwork/visual-led-status-dataset\n",
        "## max() arg is an empty sequence"
      ],
      "metadata": {
        "colab": {
          "base_uri": "https://localhost:8080/"
        },
        "id": "Yga6fvEUKHXq",
        "outputId": "fa8eeb61-963a-4fbd-99c8-c675221c9d82"
      },
      "execution_count": null,
      "outputs": [
        {
          "output_type": "stream",
          "name": "stdout",
          "text": [
            "max() arg is an empty sequence\n"
          ]
        }
      ]
    },
    {
      "cell_type": "code",
      "source": [
        "## https://www.kaggle.com/datasets/shashwatwork/visual-led-status-dataset\n",
        "\"\"\"\n",
        "Downloading visual-led-status-dataset.zip to /content\n",
        " 13% 869M/6.59G [00:09<01:01, 99.7MB/s]\n",
        "User cancelled operation\n",
        "\"\"\"\n",
        "!kaggle datasets download shashwatwork/visual-led-status-dataset"
      ],
      "metadata": {
        "colab": {
          "base_uri": "https://localhost:8080/"
        },
        "id": "peFN1huvF6vi",
        "outputId": "28c41dc5-966a-461f-90a7-363216a0dc61"
      },
      "execution_count": null,
      "outputs": [
        {
          "output_type": "stream",
          "name": "stdout",
          "text": [
            "Downloading visual-led-status-dataset.zip to /content\n",
            " 13% 869M/6.59G [00:09<01:01, 99.7MB/s]\n",
            "User cancelled operation\n"
          ]
        }
      ]
    },
    {
      "cell_type": "markdown",
      "source": [
        "# **kaggle datasets init**"
      ],
      "metadata": {
        "id": "7mx-ifjhbHtY"
      }
    },
    {
      "cell_type": "code",
      "source": [
        "## this dataset doesn't exist\n",
        "\n",
        "!kaggle datasets status wenjingliu/kaggle--feedback-prize-ell\n",
        "## 403 - Forbidden - Permission 'datasets.get' was denied\n",
        "\n",
        "!kaggle datasets metadata wenjingliu/kaggle--feedback-prize-ell\n",
        "## 403 - Forbidden - Permission 'datasets.get' was denied"
      ],
      "metadata": {
        "colab": {
          "base_uri": "https://localhost:8080/"
        },
        "id": "TJX4NBJK9tmD",
        "outputId": "c0923f91-f260-4b6b-e65c-7dafbadf863b"
      },
      "execution_count": null,
      "outputs": [
        {
          "output_type": "stream",
          "name": "stdout",
          "text": [
            "403 - Forbidden - Permission 'datasets.get' was denied\n",
            "403 - Forbidden - Permission 'datasets.get' was denied\n"
          ]
        }
      ]
    },
    {
      "cell_type": "code",
      "source": [
        "!kaggle datasets init\n",
        "## Data package template written to: /content/dataset-metadata.json"
      ],
      "metadata": {
        "colab": {
          "base_uri": "https://localhost:8080/"
        },
        "id": "ALzSd-VaLz3x",
        "outputId": "7af28b9d-8136-4c5a-a8d6-705d8ebb2897"
      },
      "execution_count": null,
      "outputs": [
        {
          "output_type": "stream",
          "name": "stdout",
          "text": [
            "Data package template written to: /content/dataset-metadata.json\n"
          ]
        }
      ]
    },
    {
      "cell_type": "markdown",
      "source": [
        "https://github.com/Kaggle/kaggle-api#create-a-new-dataset  \n",
        "\n",
        "**dataset-metadata.json**    \n",
        "```\n",
        "{\n",
        "  \"title\": \"INSERT_TITLE_HERE\",\n",
        "  \"id\": \"***/INSERT_SLUG_HERE\",\n",
        "  \"licenses\": [\n",
        "    {\n",
        "      \"name\": \"CC0-1.0\"\n",
        "    }\n",
        "  ]\n",
        "}\n",
        "```"
      ],
      "metadata": {
        "id": "IrUQdzGKLb7Y"
      }
    },
    {
      "cell_type": "code",
      "source": [
        "## create folder, change working directory\n",
        "# !mkdir test\n",
        "%cd /content/test\n",
        "!dir\n",
        "!pwd"
      ],
      "metadata": {
        "colab": {
          "base_uri": "https://localhost:8080/"
        },
        "id": "zrCBwOFueaPs",
        "outputId": "3c9cd5ba-5e73-4707-b2b9-71ecea001431"
      },
      "execution_count": null,
      "outputs": [
        {
          "output_type": "stream",
          "name": "stdout",
          "text": [
            "/content/test\n",
            "dataset-metadata.json\n",
            "/content/test\n"
          ]
        }
      ]
    },
    {
      "cell_type": "code",
      "source": [
        "!kaggle datasets create -p /content/test\n",
        "## I removed the '-' character in the title to eliminate the following error\n",
        "## The dataset title must be between 6 and 50 characters\n",
        "\n",
        "## Skipping folder: .ipynb_checkpoints; use '--dir-mode' to upload folders\n",
        "## Dataset creation error: Please upload at least one file"
      ],
      "metadata": {
        "colab": {
          "base_uri": "https://localhost:8080/"
        },
        "id": "T2zv8ycFeQKo",
        "outputId": "787cd78f-5385-4076-c660-e3310b36a7b3"
      },
      "execution_count": null,
      "outputs": [
        {
          "output_type": "stream",
          "name": "stdout",
          "text": [
            "Skipping folder: .ipynb_checkpoints; use '--dir-mode' to upload folders\n",
            "Dataset creation error: Please upload at least one file\n"
          ]
        }
      ]
    },
    {
      "cell_type": "markdown",
      "source": [
        "# **successfully uploaded a github repo as a kaggle dataset with the github action**"
      ],
      "metadata": {
        "id": "ysANNH2dk518"
      }
    },
    {
      "cell_type": "markdown",
      "source": [
        "👉 I **removed the '-' character in the title** to eliminate the following error.  \n",
        "`The dataset title must be between 6 and 50 characters`  \n",
        "I still got the error, however [the Kaggle dataset](https://www.kaggle.com/datasets/wenjingliu/kaggle--feedback-prize-ell) was created successfully with all files in it.    \n",
        "https://github.com/Nov05/kaggle--feedback-prize-ell/actions/runs/6106653867/job/16572121364  \n",
        "\n",
        "👉 also, the kaggle api returned some helpful information this time.  \n",
        "`Warning: Looks like you're using an outdated API Version, please consider updating (server 1.5.15 / client 1.5.12)`    \n",
        "\n",
        "<img src=\"https://raw.githubusercontent.com/Nov05/pictures/master/colab/2023-09-07%2002_32_35-Nov05%20is%20uploading%20github%20code%20to%20kaggle%20%C2%B7%20Nov05_kaggle--feedback-prize-ell%40e6cf-min.jpg\" width=800>\n",
        "\n",
        "<img src=\"https://raw.githubusercontent.com/Nov05/pictures/master/colab/2023-09-07%2002_22_52-Code%20for%20Feedback%20Prize%20English%20Language%20Learning%20_%20Kaggle-min.jpg\" width=800>\n"
      ],
      "metadata": {
        "id": "rze_xPwig2-e"
      }
    },
    {
      "cell_type": "markdown",
      "source": [
        "# **bug-fixed the github action**  \n",
        "\n",
        "https://github.com/Nov05/kaggle--feedback-prize-ell/actions/runs/6107223545  "
      ],
      "metadata": {
        "id": "e7WkSuIXwTdc"
      }
    },
    {
      "cell_type": "markdown",
      "source": [
        "# **\\<BOTTOM>**"
      ],
      "metadata": {
        "id": "T7JgNNFdbOwu"
      }
    }
  ]
}