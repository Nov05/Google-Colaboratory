{
  "nbformat": 4,
  "nbformat_minor": 0,
  "metadata": {
    "colab": {
      "provenance": [],
      "authorship_tag": "ABX9TyPL1y6WiZfLa1/BO2UVmiFt",
      "include_colab_link": true
    },
    "kernelspec": {
      "name": "python3",
      "display_name": "Python 3"
    },
    "language_info": {
      "name": "python"
    },
    "widgets": {
      "application/vnd.jupyter.widget-state+json": {
        "27d170da1ad14b6ea52235836839fa98": {
          "model_module": "@jupyter-widgets/controls",
          "model_name": "HBoxModel",
          "model_module_version": "2.0.0",
          "state": {
            "_dom_classes": [],
            "_model_module": "@jupyter-widgets/controls",
            "_model_module_version": "2.0.0",
            "_model_name": "HBoxModel",
            "_view_count": null,
            "_view_module": "@jupyter-widgets/controls",
            "_view_module_version": "2.0.0",
            "_view_name": "HBoxView",
            "box_style": "",
            "children": [
              "IPY_MODEL_492baf2e6ec64a8298317f9c75222c7b",
              "IPY_MODEL_831917f553a24c8f8255ab87c733a48f",
              "IPY_MODEL_823d616ee25f49ad9c61a989048b745b"
            ],
            "layout": "IPY_MODEL_b14a192f529b4a0e9acc4300998cdde5",
            "tabbable": null,
            "tooltip": null
          }
        },
        "492baf2e6ec64a8298317f9c75222c7b": {
          "model_module": "@jupyter-widgets/controls",
          "model_name": "HTMLModel",
          "model_module_version": "2.0.0",
          "state": {
            "_dom_classes": [],
            "_model_module": "@jupyter-widgets/controls",
            "_model_module_version": "2.0.0",
            "_model_name": "HTMLModel",
            "_view_count": null,
            "_view_module": "@jupyter-widgets/controls",
            "_view_module_version": "2.0.0",
            "_view_name": "HTMLView",
            "description": "",
            "description_allow_html": false,
            "layout": "IPY_MODEL_348a6ac13a474c42a63385885e34d49b",
            "placeholder": "​",
            "style": "IPY_MODEL_d997f5aab7aa44338aa7e89b1e71021f",
            "tabbable": null,
            "tooltip": null,
            "value": "config.json: 100%"
          }
        },
        "831917f553a24c8f8255ab87c733a48f": {
          "model_module": "@jupyter-widgets/controls",
          "model_name": "FloatProgressModel",
          "model_module_version": "2.0.0",
          "state": {
            "_dom_classes": [],
            "_model_module": "@jupyter-widgets/controls",
            "_model_module_version": "2.0.0",
            "_model_name": "FloatProgressModel",
            "_view_count": null,
            "_view_module": "@jupyter-widgets/controls",
            "_view_module_version": "2.0.0",
            "_view_name": "ProgressView",
            "bar_style": "success",
            "description": "",
            "description_allow_html": false,
            "layout": "IPY_MODEL_b61d0976b91d40a9aa7531ac9a56b9e7",
            "max": 743,
            "min": 0,
            "orientation": "horizontal",
            "style": "IPY_MODEL_c46e02011bc44a4285138e3670f51172",
            "tabbable": null,
            "tooltip": null,
            "value": 743
          }
        },
        "823d616ee25f49ad9c61a989048b745b": {
          "model_module": "@jupyter-widgets/controls",
          "model_name": "HTMLModel",
          "model_module_version": "2.0.0",
          "state": {
            "_dom_classes": [],
            "_model_module": "@jupyter-widgets/controls",
            "_model_module_version": "2.0.0",
            "_model_name": "HTMLModel",
            "_view_count": null,
            "_view_module": "@jupyter-widgets/controls",
            "_view_module_version": "2.0.0",
            "_view_name": "HTMLView",
            "description": "",
            "description_allow_html": false,
            "layout": "IPY_MODEL_2dd52da656cd47a0985df9aa2915fdc3",
            "placeholder": "​",
            "style": "IPY_MODEL_e669f63ecd244914a3bba5c62253e5b5",
            "tabbable": null,
            "tooltip": null,
            "value": " 743/743 [00:00&lt;00:00, 33.5kB/s]"
          }
        },
        "b14a192f529b4a0e9acc4300998cdde5": {
          "model_module": "@jupyter-widgets/base",
          "model_name": "LayoutModel",
          "model_module_version": "2.0.0",
          "state": {
            "_model_module": "@jupyter-widgets/base",
            "_model_module_version": "2.0.0",
            "_model_name": "LayoutModel",
            "_view_count": null,
            "_view_module": "@jupyter-widgets/base",
            "_view_module_version": "2.0.0",
            "_view_name": "LayoutView",
            "align_content": null,
            "align_items": null,
            "align_self": null,
            "border_bottom": null,
            "border_left": null,
            "border_right": null,
            "border_top": null,
            "bottom": null,
            "display": null,
            "flex": null,
            "flex_flow": null,
            "grid_area": null,
            "grid_auto_columns": null,
            "grid_auto_flow": null,
            "grid_auto_rows": null,
            "grid_column": null,
            "grid_gap": null,
            "grid_row": null,
            "grid_template_areas": null,
            "grid_template_columns": null,
            "grid_template_rows": null,
            "height": null,
            "justify_content": null,
            "justify_items": null,
            "left": null,
            "margin": null,
            "max_height": null,
            "max_width": null,
            "min_height": null,
            "min_width": null,
            "object_fit": null,
            "object_position": null,
            "order": null,
            "overflow": null,
            "padding": null,
            "right": null,
            "top": null,
            "visibility": null,
            "width": null
          }
        },
        "348a6ac13a474c42a63385885e34d49b": {
          "model_module": "@jupyter-widgets/base",
          "model_name": "LayoutModel",
          "model_module_version": "2.0.0",
          "state": {
            "_model_module": "@jupyter-widgets/base",
            "_model_module_version": "2.0.0",
            "_model_name": "LayoutModel",
            "_view_count": null,
            "_view_module": "@jupyter-widgets/base",
            "_view_module_version": "2.0.0",
            "_view_name": "LayoutView",
            "align_content": null,
            "align_items": null,
            "align_self": null,
            "border_bottom": null,
            "border_left": null,
            "border_right": null,
            "border_top": null,
            "bottom": null,
            "display": null,
            "flex": null,
            "flex_flow": null,
            "grid_area": null,
            "grid_auto_columns": null,
            "grid_auto_flow": null,
            "grid_auto_rows": null,
            "grid_column": null,
            "grid_gap": null,
            "grid_row": null,
            "grid_template_areas": null,
            "grid_template_columns": null,
            "grid_template_rows": null,
            "height": null,
            "justify_content": null,
            "justify_items": null,
            "left": null,
            "margin": null,
            "max_height": null,
            "max_width": null,
            "min_height": null,
            "min_width": null,
            "object_fit": null,
            "object_position": null,
            "order": null,
            "overflow": null,
            "padding": null,
            "right": null,
            "top": null,
            "visibility": null,
            "width": null
          }
        },
        "d997f5aab7aa44338aa7e89b1e71021f": {
          "model_module": "@jupyter-widgets/controls",
          "model_name": "HTMLStyleModel",
          "model_module_version": "2.0.0",
          "state": {
            "_model_module": "@jupyter-widgets/controls",
            "_model_module_version": "2.0.0",
            "_model_name": "HTMLStyleModel",
            "_view_count": null,
            "_view_module": "@jupyter-widgets/base",
            "_view_module_version": "2.0.0",
            "_view_name": "StyleView",
            "background": null,
            "description_width": "",
            "font_size": null,
            "text_color": null
          }
        },
        "b61d0976b91d40a9aa7531ac9a56b9e7": {
          "model_module": "@jupyter-widgets/base",
          "model_name": "LayoutModel",
          "model_module_version": "2.0.0",
          "state": {
            "_model_module": "@jupyter-widgets/base",
            "_model_module_version": "2.0.0",
            "_model_name": "LayoutModel",
            "_view_count": null,
            "_view_module": "@jupyter-widgets/base",
            "_view_module_version": "2.0.0",
            "_view_name": "LayoutView",
            "align_content": null,
            "align_items": null,
            "align_self": null,
            "border_bottom": null,
            "border_left": null,
            "border_right": null,
            "border_top": null,
            "bottom": null,
            "display": null,
            "flex": null,
            "flex_flow": null,
            "grid_area": null,
            "grid_auto_columns": null,
            "grid_auto_flow": null,
            "grid_auto_rows": null,
            "grid_column": null,
            "grid_gap": null,
            "grid_row": null,
            "grid_template_areas": null,
            "grid_template_columns": null,
            "grid_template_rows": null,
            "height": null,
            "justify_content": null,
            "justify_items": null,
            "left": null,
            "margin": null,
            "max_height": null,
            "max_width": null,
            "min_height": null,
            "min_width": null,
            "object_fit": null,
            "object_position": null,
            "order": null,
            "overflow": null,
            "padding": null,
            "right": null,
            "top": null,
            "visibility": null,
            "width": null
          }
        },
        "c46e02011bc44a4285138e3670f51172": {
          "model_module": "@jupyter-widgets/controls",
          "model_name": "ProgressStyleModel",
          "model_module_version": "2.0.0",
          "state": {
            "_model_module": "@jupyter-widgets/controls",
            "_model_module_version": "2.0.0",
            "_model_name": "ProgressStyleModel",
            "_view_count": null,
            "_view_module": "@jupyter-widgets/base",
            "_view_module_version": "2.0.0",
            "_view_name": "StyleView",
            "bar_color": null,
            "description_width": ""
          }
        },
        "2dd52da656cd47a0985df9aa2915fdc3": {
          "model_module": "@jupyter-widgets/base",
          "model_name": "LayoutModel",
          "model_module_version": "2.0.0",
          "state": {
            "_model_module": "@jupyter-widgets/base",
            "_model_module_version": "2.0.0",
            "_model_name": "LayoutModel",
            "_view_count": null,
            "_view_module": "@jupyter-widgets/base",
            "_view_module_version": "2.0.0",
            "_view_name": "LayoutView",
            "align_content": null,
            "align_items": null,
            "align_self": null,
            "border_bottom": null,
            "border_left": null,
            "border_right": null,
            "border_top": null,
            "bottom": null,
            "display": null,
            "flex": null,
            "flex_flow": null,
            "grid_area": null,
            "grid_auto_columns": null,
            "grid_auto_flow": null,
            "grid_auto_rows": null,
            "grid_column": null,
            "grid_gap": null,
            "grid_row": null,
            "grid_template_areas": null,
            "grid_template_columns": null,
            "grid_template_rows": null,
            "height": null,
            "justify_content": null,
            "justify_items": null,
            "left": null,
            "margin": null,
            "max_height": null,
            "max_width": null,
            "min_height": null,
            "min_width": null,
            "object_fit": null,
            "object_position": null,
            "order": null,
            "overflow": null,
            "padding": null,
            "right": null,
            "top": null,
            "visibility": null,
            "width": null
          }
        },
        "e669f63ecd244914a3bba5c62253e5b5": {
          "model_module": "@jupyter-widgets/controls",
          "model_name": "HTMLStyleModel",
          "model_module_version": "2.0.0",
          "state": {
            "_model_module": "@jupyter-widgets/controls",
            "_model_module_version": "2.0.0",
            "_model_name": "HTMLStyleModel",
            "_view_count": null,
            "_view_module": "@jupyter-widgets/base",
            "_view_module_version": "2.0.0",
            "_view_name": "StyleView",
            "background": null,
            "description_width": "",
            "font_size": null,
            "text_color": null
          }
        },
        "176f603cbfbc43b49bae7060736860e3": {
          "model_module": "@jupyter-widgets/base",
          "model_name": "LayoutModel",
          "model_module_version": "2.0.0",
          "state": {
            "_model_module": "@jupyter-widgets/base",
            "_model_module_version": "2.0.0",
            "_model_name": "LayoutModel",
            "_view_count": null,
            "_view_module": "@jupyter-widgets/base",
            "_view_module_version": "2.0.0",
            "_view_name": "LayoutView",
            "align_content": null,
            "align_items": null,
            "align_self": null,
            "border_bottom": null,
            "border_left": null,
            "border_right": null,
            "border_top": null,
            "bottom": null,
            "display": null,
            "flex": null,
            "flex_flow": null,
            "grid_area": null,
            "grid_auto_columns": null,
            "grid_auto_flow": null,
            "grid_auto_rows": null,
            "grid_column": null,
            "grid_gap": null,
            "grid_row": null,
            "grid_template_areas": null,
            "grid_template_columns": null,
            "grid_template_rows": null,
            "height": null,
            "justify_content": null,
            "justify_items": null,
            "left": null,
            "margin": null,
            "max_height": null,
            "max_width": null,
            "min_height": null,
            "min_width": null,
            "object_fit": null,
            "object_position": null,
            "order": null,
            "overflow": null,
            "padding": null,
            "right": null,
            "top": null,
            "visibility": null,
            "width": null
          }
        },
        "bcd2387e6e674130bfc2691c607abb81": {
          "model_module": "@jupyter-widgets/controls",
          "model_name": "ProgressStyleModel",
          "model_module_version": "2.0.0",
          "state": {
            "_model_module": "@jupyter-widgets/controls",
            "_model_module_version": "2.0.0",
            "_model_name": "ProgressStyleModel",
            "_view_count": null,
            "_view_module": "@jupyter-widgets/base",
            "_view_module_version": "2.0.0",
            "_view_name": "StyleView",
            "bar_color": null,
            "description_width": ""
          }
        },
        "d3388c3723ac48268b641a4fc3e242e4": {
          "model_module": "@jupyter-widgets/base",
          "model_name": "LayoutModel",
          "model_module_version": "2.0.0",
          "state": {
            "_model_module": "@jupyter-widgets/base",
            "_model_module_version": "2.0.0",
            "_model_name": "LayoutModel",
            "_view_count": null,
            "_view_module": "@jupyter-widgets/base",
            "_view_module_version": "2.0.0",
            "_view_name": "LayoutView",
            "align_content": null,
            "align_items": null,
            "align_self": null,
            "border_bottom": null,
            "border_left": null,
            "border_right": null,
            "border_top": null,
            "bottom": null,
            "display": null,
            "flex": null,
            "flex_flow": null,
            "grid_area": null,
            "grid_auto_columns": null,
            "grid_auto_flow": null,
            "grid_auto_rows": null,
            "grid_column": null,
            "grid_gap": null,
            "grid_row": null,
            "grid_template_areas": null,
            "grid_template_columns": null,
            "grid_template_rows": null,
            "height": null,
            "justify_content": null,
            "justify_items": null,
            "left": null,
            "margin": null,
            "max_height": null,
            "max_width": null,
            "min_height": null,
            "min_width": null,
            "object_fit": null,
            "object_position": null,
            "order": null,
            "overflow": null,
            "padding": null,
            "right": null,
            "top": null,
            "visibility": null,
            "width": null
          }
        },
        "3f75e6c364b2440ab5821a361ea14916": {
          "model_module": "@jupyter-widgets/controls",
          "model_name": "HTMLStyleModel",
          "model_module_version": "2.0.0",
          "state": {
            "_model_module": "@jupyter-widgets/controls",
            "_model_module_version": "2.0.0",
            "_model_name": "HTMLStyleModel",
            "_view_count": null,
            "_view_module": "@jupyter-widgets/base",
            "_view_module_version": "2.0.0",
            "_view_name": "StyleView",
            "background": null,
            "description_width": "",
            "font_size": null,
            "text_color": null
          }
        },
        "6333bb9a7d3c459089574b8a9a825ecc": {
          "model_module": "@jupyter-widgets/base",
          "model_name": "LayoutModel",
          "model_module_version": "2.0.0",
          "state": {
            "_model_module": "@jupyter-widgets/base",
            "_model_module_version": "2.0.0",
            "_model_name": "LayoutModel",
            "_view_count": null,
            "_view_module": "@jupyter-widgets/base",
            "_view_module_version": "2.0.0",
            "_view_name": "LayoutView",
            "align_content": null,
            "align_items": null,
            "align_self": null,
            "border_bottom": null,
            "border_left": null,
            "border_right": null,
            "border_top": null,
            "bottom": null,
            "display": null,
            "flex": null,
            "flex_flow": null,
            "grid_area": null,
            "grid_auto_columns": null,
            "grid_auto_flow": null,
            "grid_auto_rows": null,
            "grid_column": null,
            "grid_gap": null,
            "grid_row": null,
            "grid_template_areas": null,
            "grid_template_columns": null,
            "grid_template_rows": null,
            "height": null,
            "justify_content": null,
            "justify_items": null,
            "left": null,
            "margin": null,
            "max_height": null,
            "max_width": null,
            "min_height": null,
            "min_width": null,
            "object_fit": null,
            "object_position": null,
            "order": null,
            "overflow": null,
            "padding": null,
            "right": null,
            "top": null,
            "visibility": null,
            "width": null
          }
        },
        "cfd12c4f2ef84b7e85f403c0c50eb916": {
          "model_module": "@jupyter-widgets/controls",
          "model_name": "HTMLStyleModel",
          "model_module_version": "2.0.0",
          "state": {
            "_model_module": "@jupyter-widgets/controls",
            "_model_module_version": "2.0.0",
            "_model_name": "HTMLStyleModel",
            "_view_count": null,
            "_view_module": "@jupyter-widgets/base",
            "_view_module_version": "2.0.0",
            "_view_name": "StyleView",
            "background": null,
            "description_width": "",
            "font_size": null,
            "text_color": null
          }
        },
        "7fd8641908674fb99fff0eeef2378f89": {
          "model_module": "@jupyter-widgets/controls",
          "model_name": "HTMLModel",
          "model_module_version": "2.0.0",
          "state": {
            "_dom_classes": [],
            "_model_module": "@jupyter-widgets/controls",
            "_model_module_version": "2.0.0",
            "_model_name": "HTMLModel",
            "_view_count": null,
            "_view_module": "@jupyter-widgets/controls",
            "_view_module_version": "2.0.0",
            "_view_name": "HTMLView",
            "description": "",
            "description_allow_html": false,
            "layout": "IPY_MODEL_d3388c3723ac48268b641a4fc3e242e4",
            "placeholder": "​",
            "style": "IPY_MODEL_3f75e6c364b2440ab5821a361ea14916",
            "tabbable": null,
            "tooltip": null,
            "value": "pytorch_model.bin: 100%"
          }
        },
        "76b3b2ce98db4515864846f24690f478": {
          "model_module": "@jupyter-widgets/controls",
          "model_name": "FloatProgressModel",
          "model_module_version": "2.0.0",
          "state": {
            "_dom_classes": [],
            "_model_module": "@jupyter-widgets/controls",
            "_model_module_version": "2.0.0",
            "_model_name": "FloatProgressModel",
            "_view_count": null,
            "_view_module": "@jupyter-widgets/controls",
            "_view_module_version": "2.0.0",
            "_view_name": "ProgressView",
            "bar_style": "success",
            "description": "",
            "description_allow_html": false,
            "layout": "IPY_MODEL_176f603cbfbc43b49bae7060736860e3",
            "max": 133508397,
            "min": 0,
            "orientation": "horizontal",
            "style": "IPY_MODEL_bcd2387e6e674130bfc2691c607abb81",
            "tabbable": null,
            "tooltip": null,
            "value": 133508397
          }
        },
        "3491215882c5492583ea9f9de8cb03f3": {
          "model_module": "@jupyter-widgets/controls",
          "model_name": "HTMLModel",
          "model_module_version": "2.0.0",
          "state": {
            "_dom_classes": [],
            "_model_module": "@jupyter-widgets/controls",
            "_model_module_version": "2.0.0",
            "_model_name": "HTMLModel",
            "_view_count": null,
            "_view_module": "@jupyter-widgets/controls",
            "_view_module_version": "2.0.0",
            "_view_name": "HTMLView",
            "description": "",
            "description_allow_html": false,
            "layout": "IPY_MODEL_6333bb9a7d3c459089574b8a9a825ecc",
            "placeholder": "​",
            "style": "IPY_MODEL_cfd12c4f2ef84b7e85f403c0c50eb916",
            "tabbable": null,
            "tooltip": null,
            "value": " 134M/134M [00:03&lt;00:00, 38.1MB/s]"
          }
        },
        "391fa33df6ea48dcac8713cfececaa63": {
          "model_module": "@jupyter-widgets/base",
          "model_name": "LayoutModel",
          "model_module_version": "2.0.0",
          "state": {
            "_model_module": "@jupyter-widgets/base",
            "_model_module_version": "2.0.0",
            "_model_name": "LayoutModel",
            "_view_count": null,
            "_view_module": "@jupyter-widgets/base",
            "_view_module_version": "2.0.0",
            "_view_name": "LayoutView",
            "align_content": null,
            "align_items": null,
            "align_self": null,
            "border_bottom": null,
            "border_left": null,
            "border_right": null,
            "border_top": null,
            "bottom": null,
            "display": null,
            "flex": null,
            "flex_flow": null,
            "grid_area": null,
            "grid_auto_columns": null,
            "grid_auto_flow": null,
            "grid_auto_rows": null,
            "grid_column": null,
            "grid_gap": null,
            "grid_row": null,
            "grid_template_areas": null,
            "grid_template_columns": null,
            "grid_template_rows": null,
            "height": null,
            "justify_content": null,
            "justify_items": null,
            "left": null,
            "margin": null,
            "max_height": null,
            "max_width": null,
            "min_height": null,
            "min_width": null,
            "object_fit": null,
            "object_position": null,
            "order": null,
            "overflow": null,
            "padding": null,
            "right": null,
            "top": null,
            "visibility": null,
            "width": null
          }
        },
        "c55488dabee34de8bc1c7a70c6d6b6d1": {
          "model_module": "@jupyter-widgets/controls",
          "model_name": "HBoxModel",
          "model_module_version": "2.0.0",
          "state": {
            "_dom_classes": [],
            "_model_module": "@jupyter-widgets/controls",
            "_model_module_version": "2.0.0",
            "_model_name": "HBoxModel",
            "_view_count": null,
            "_view_module": "@jupyter-widgets/controls",
            "_view_module_version": "2.0.0",
            "_view_name": "HBoxView",
            "box_style": "",
            "children": [
              "IPY_MODEL_7fd8641908674fb99fff0eeef2378f89",
              "IPY_MODEL_76b3b2ce98db4515864846f24690f478",
              "IPY_MODEL_3491215882c5492583ea9f9de8cb03f3"
            ],
            "layout": "IPY_MODEL_391fa33df6ea48dcac8713cfececaa63",
            "tabbable": null,
            "tooltip": null
          }
        },
        "06a7bd306c2f4d179baf44c45b6b81c0": {
          "model_module": "@jupyter-widgets/base",
          "model_name": "LayoutModel",
          "model_module_version": "2.0.0",
          "state": {
            "_model_module": "@jupyter-widgets/base",
            "_model_module_version": "2.0.0",
            "_model_name": "LayoutModel",
            "_view_count": null,
            "_view_module": "@jupyter-widgets/base",
            "_view_module_version": "2.0.0",
            "_view_name": "LayoutView",
            "align_content": null,
            "align_items": null,
            "align_self": null,
            "border_bottom": null,
            "border_left": null,
            "border_right": null,
            "border_top": null,
            "bottom": null,
            "display": null,
            "flex": null,
            "flex_flow": null,
            "grid_area": null,
            "grid_auto_columns": null,
            "grid_auto_flow": null,
            "grid_auto_rows": null,
            "grid_column": null,
            "grid_gap": null,
            "grid_row": null,
            "grid_template_areas": null,
            "grid_template_columns": null,
            "grid_template_rows": null,
            "height": null,
            "justify_content": null,
            "justify_items": null,
            "left": null,
            "margin": null,
            "max_height": null,
            "max_width": null,
            "min_height": null,
            "min_width": null,
            "object_fit": null,
            "object_position": null,
            "order": null,
            "overflow": null,
            "padding": null,
            "right": null,
            "top": null,
            "visibility": null,
            "width": null
          }
        },
        "298830f0b3b54b7483fafd56d5021e9c": {
          "model_module": "@jupyter-widgets/controls",
          "model_name": "ProgressStyleModel",
          "model_module_version": "2.0.0",
          "state": {
            "_model_module": "@jupyter-widgets/controls",
            "_model_module_version": "2.0.0",
            "_model_name": "ProgressStyleModel",
            "_view_count": null,
            "_view_module": "@jupyter-widgets/base",
            "_view_module_version": "2.0.0",
            "_view_name": "StyleView",
            "bar_color": null,
            "description_width": ""
          }
        },
        "447366522afc48b782c8a44e52c25529": {
          "model_module": "@jupyter-widgets/base",
          "model_name": "LayoutModel",
          "model_module_version": "2.0.0",
          "state": {
            "_model_module": "@jupyter-widgets/base",
            "_model_module_version": "2.0.0",
            "_model_name": "LayoutModel",
            "_view_count": null,
            "_view_module": "@jupyter-widgets/base",
            "_view_module_version": "2.0.0",
            "_view_name": "LayoutView",
            "align_content": null,
            "align_items": null,
            "align_self": null,
            "border_bottom": null,
            "border_left": null,
            "border_right": null,
            "border_top": null,
            "bottom": null,
            "display": null,
            "flex": null,
            "flex_flow": null,
            "grid_area": null,
            "grid_auto_columns": null,
            "grid_auto_flow": null,
            "grid_auto_rows": null,
            "grid_column": null,
            "grid_gap": null,
            "grid_row": null,
            "grid_template_areas": null,
            "grid_template_columns": null,
            "grid_template_rows": null,
            "height": null,
            "justify_content": null,
            "justify_items": null,
            "left": null,
            "margin": null,
            "max_height": null,
            "max_width": null,
            "min_height": null,
            "min_width": null,
            "object_fit": null,
            "object_position": null,
            "order": null,
            "overflow": null,
            "padding": null,
            "right": null,
            "top": null,
            "visibility": null,
            "width": null
          }
        },
        "17d531625b38499ea6b72c3438f3429c": {
          "model_module": "@jupyter-widgets/controls",
          "model_name": "HTMLStyleModel",
          "model_module_version": "2.0.0",
          "state": {
            "_model_module": "@jupyter-widgets/controls",
            "_model_module_version": "2.0.0",
            "_model_name": "HTMLStyleModel",
            "_view_count": null,
            "_view_module": "@jupyter-widgets/base",
            "_view_module_version": "2.0.0",
            "_view_name": "StyleView",
            "background": null,
            "description_width": "",
            "font_size": null,
            "text_color": null
          }
        },
        "38dffa7bf843449f9e8f20a9c7d3ebff": {
          "model_module": "@jupyter-widgets/base",
          "model_name": "LayoutModel",
          "model_module_version": "2.0.0",
          "state": {
            "_model_module": "@jupyter-widgets/base",
            "_model_module_version": "2.0.0",
            "_model_name": "LayoutModel",
            "_view_count": null,
            "_view_module": "@jupyter-widgets/base",
            "_view_module_version": "2.0.0",
            "_view_name": "LayoutView",
            "align_content": null,
            "align_items": null,
            "align_self": null,
            "border_bottom": null,
            "border_left": null,
            "border_right": null,
            "border_top": null,
            "bottom": null,
            "display": null,
            "flex": null,
            "flex_flow": null,
            "grid_area": null,
            "grid_auto_columns": null,
            "grid_auto_flow": null,
            "grid_auto_rows": null,
            "grid_column": null,
            "grid_gap": null,
            "grid_row": null,
            "grid_template_areas": null,
            "grid_template_columns": null,
            "grid_template_rows": null,
            "height": null,
            "justify_content": null,
            "justify_items": null,
            "left": null,
            "margin": null,
            "max_height": null,
            "max_width": null,
            "min_height": null,
            "min_width": null,
            "object_fit": null,
            "object_position": null,
            "order": null,
            "overflow": null,
            "padding": null,
            "right": null,
            "top": null,
            "visibility": null,
            "width": null
          }
        },
        "989f906bd1614f3085771f813c68807a": {
          "model_module": "@jupyter-widgets/controls",
          "model_name": "HTMLStyleModel",
          "model_module_version": "2.0.0",
          "state": {
            "_model_module": "@jupyter-widgets/controls",
            "_model_module_version": "2.0.0",
            "_model_name": "HTMLStyleModel",
            "_view_count": null,
            "_view_module": "@jupyter-widgets/base",
            "_view_module_version": "2.0.0",
            "_view_name": "StyleView",
            "background": null,
            "description_width": "",
            "font_size": null,
            "text_color": null
          }
        },
        "31a018953bbf4052a9693f1c30acd5d7": {
          "model_module": "@jupyter-widgets/controls",
          "model_name": "HTMLModel",
          "model_module_version": "2.0.0",
          "state": {
            "_dom_classes": [],
            "_model_module": "@jupyter-widgets/controls",
            "_model_module_version": "2.0.0",
            "_model_name": "HTMLModel",
            "_view_count": null,
            "_view_module": "@jupyter-widgets/controls",
            "_view_module_version": "2.0.0",
            "_view_name": "HTMLView",
            "description": "",
            "description_allow_html": false,
            "layout": "IPY_MODEL_447366522afc48b782c8a44e52c25529",
            "placeholder": "​",
            "style": "IPY_MODEL_17d531625b38499ea6b72c3438f3429c",
            "tabbable": null,
            "tooltip": null,
            "value": "tokenizer_config.json: 100%"
          }
        },
        "98f0366e1a3144608d807aeb9d7a2aff": {
          "model_module": "@jupyter-widgets/controls",
          "model_name": "FloatProgressModel",
          "model_module_version": "2.0.0",
          "state": {
            "_dom_classes": [],
            "_model_module": "@jupyter-widgets/controls",
            "_model_module_version": "2.0.0",
            "_model_name": "FloatProgressModel",
            "_view_count": null,
            "_view_module": "@jupyter-widgets/controls",
            "_view_module_version": "2.0.0",
            "_view_name": "ProgressView",
            "bar_style": "success",
            "description": "",
            "description_allow_html": false,
            "layout": "IPY_MODEL_06a7bd306c2f4d179baf44c45b6b81c0",
            "max": 366,
            "min": 0,
            "orientation": "horizontal",
            "style": "IPY_MODEL_298830f0b3b54b7483fafd56d5021e9c",
            "tabbable": null,
            "tooltip": null,
            "value": 366
          }
        },
        "f4575672a3c8498689cb24ae22f17417": {
          "model_module": "@jupyter-widgets/controls",
          "model_name": "HTMLModel",
          "model_module_version": "2.0.0",
          "state": {
            "_dom_classes": [],
            "_model_module": "@jupyter-widgets/controls",
            "_model_module_version": "2.0.0",
            "_model_name": "HTMLModel",
            "_view_count": null,
            "_view_module": "@jupyter-widgets/controls",
            "_view_module_version": "2.0.0",
            "_view_name": "HTMLView",
            "description": "",
            "description_allow_html": false,
            "layout": "IPY_MODEL_38dffa7bf843449f9e8f20a9c7d3ebff",
            "placeholder": "​",
            "style": "IPY_MODEL_989f906bd1614f3085771f813c68807a",
            "tabbable": null,
            "tooltip": null,
            "value": " 366/366 [00:00&lt;00:00, 13.6kB/s]"
          }
        },
        "3b72f1537907443781cd70b72ef7f130": {
          "model_module": "@jupyter-widgets/base",
          "model_name": "LayoutModel",
          "model_module_version": "2.0.0",
          "state": {
            "_model_module": "@jupyter-widgets/base",
            "_model_module_version": "2.0.0",
            "_model_name": "LayoutModel",
            "_view_count": null,
            "_view_module": "@jupyter-widgets/base",
            "_view_module_version": "2.0.0",
            "_view_name": "LayoutView",
            "align_content": null,
            "align_items": null,
            "align_self": null,
            "border_bottom": null,
            "border_left": null,
            "border_right": null,
            "border_top": null,
            "bottom": null,
            "display": null,
            "flex": null,
            "flex_flow": null,
            "grid_area": null,
            "grid_auto_columns": null,
            "grid_auto_flow": null,
            "grid_auto_rows": null,
            "grid_column": null,
            "grid_gap": null,
            "grid_row": null,
            "grid_template_areas": null,
            "grid_template_columns": null,
            "grid_template_rows": null,
            "height": null,
            "justify_content": null,
            "justify_items": null,
            "left": null,
            "margin": null,
            "max_height": null,
            "max_width": null,
            "min_height": null,
            "min_width": null,
            "object_fit": null,
            "object_position": null,
            "order": null,
            "overflow": null,
            "padding": null,
            "right": null,
            "top": null,
            "visibility": null,
            "width": null
          }
        },
        "ce4018d3c04e43d1b9265e34ebf69147": {
          "model_module": "@jupyter-widgets/controls",
          "model_name": "HBoxModel",
          "model_module_version": "2.0.0",
          "state": {
            "_dom_classes": [],
            "_model_module": "@jupyter-widgets/controls",
            "_model_module_version": "2.0.0",
            "_model_name": "HBoxModel",
            "_view_count": null,
            "_view_module": "@jupyter-widgets/controls",
            "_view_module_version": "2.0.0",
            "_view_name": "HBoxView",
            "box_style": "",
            "children": [
              "IPY_MODEL_31a018953bbf4052a9693f1c30acd5d7",
              "IPY_MODEL_98f0366e1a3144608d807aeb9d7a2aff",
              "IPY_MODEL_f4575672a3c8498689cb24ae22f17417"
            ],
            "layout": "IPY_MODEL_3b72f1537907443781cd70b72ef7f130",
            "tabbable": null,
            "tooltip": null
          }
        },
        "e605913322524092ab211a6d74c26b5a": {
          "model_module": "@jupyter-widgets/base",
          "model_name": "LayoutModel",
          "model_module_version": "2.0.0",
          "state": {
            "_model_module": "@jupyter-widgets/base",
            "_model_module_version": "2.0.0",
            "_model_name": "LayoutModel",
            "_view_count": null,
            "_view_module": "@jupyter-widgets/base",
            "_view_module_version": "2.0.0",
            "_view_name": "LayoutView",
            "align_content": null,
            "align_items": null,
            "align_self": null,
            "border_bottom": null,
            "border_left": null,
            "border_right": null,
            "border_top": null,
            "bottom": null,
            "display": null,
            "flex": null,
            "flex_flow": null,
            "grid_area": null,
            "grid_auto_columns": null,
            "grid_auto_flow": null,
            "grid_auto_rows": null,
            "grid_column": null,
            "grid_gap": null,
            "grid_row": null,
            "grid_template_areas": null,
            "grid_template_columns": null,
            "grid_template_rows": null,
            "height": null,
            "justify_content": null,
            "justify_items": null,
            "left": null,
            "margin": null,
            "max_height": null,
            "max_width": null,
            "min_height": null,
            "min_width": null,
            "object_fit": null,
            "object_position": null,
            "order": null,
            "overflow": null,
            "padding": null,
            "right": null,
            "top": null,
            "visibility": null,
            "width": null
          }
        },
        "3cfebf27ec5843dea32ea8ca5dd397ea": {
          "model_module": "@jupyter-widgets/controls",
          "model_name": "ProgressStyleModel",
          "model_module_version": "2.0.0",
          "state": {
            "_model_module": "@jupyter-widgets/controls",
            "_model_module_version": "2.0.0",
            "_model_name": "ProgressStyleModel",
            "_view_count": null,
            "_view_module": "@jupyter-widgets/base",
            "_view_module_version": "2.0.0",
            "_view_name": "StyleView",
            "bar_color": null,
            "description_width": ""
          }
        },
        "29baff6709164c05bfa043f1b9f0824c": {
          "model_module": "@jupyter-widgets/base",
          "model_name": "LayoutModel",
          "model_module_version": "2.0.0",
          "state": {
            "_model_module": "@jupyter-widgets/base",
            "_model_module_version": "2.0.0",
            "_model_name": "LayoutModel",
            "_view_count": null,
            "_view_module": "@jupyter-widgets/base",
            "_view_module_version": "2.0.0",
            "_view_name": "LayoutView",
            "align_content": null,
            "align_items": null,
            "align_self": null,
            "border_bottom": null,
            "border_left": null,
            "border_right": null,
            "border_top": null,
            "bottom": null,
            "display": null,
            "flex": null,
            "flex_flow": null,
            "grid_area": null,
            "grid_auto_columns": null,
            "grid_auto_flow": null,
            "grid_auto_rows": null,
            "grid_column": null,
            "grid_gap": null,
            "grid_row": null,
            "grid_template_areas": null,
            "grid_template_columns": null,
            "grid_template_rows": null,
            "height": null,
            "justify_content": null,
            "justify_items": null,
            "left": null,
            "margin": null,
            "max_height": null,
            "max_width": null,
            "min_height": null,
            "min_width": null,
            "object_fit": null,
            "object_position": null,
            "order": null,
            "overflow": null,
            "padding": null,
            "right": null,
            "top": null,
            "visibility": null,
            "width": null
          }
        },
        "68a56e455cd24f15ba377f902ecc3b6b": {
          "model_module": "@jupyter-widgets/controls",
          "model_name": "HTMLStyleModel",
          "model_module_version": "2.0.0",
          "state": {
            "_model_module": "@jupyter-widgets/controls",
            "_model_module_version": "2.0.0",
            "_model_name": "HTMLStyleModel",
            "_view_count": null,
            "_view_module": "@jupyter-widgets/base",
            "_view_module_version": "2.0.0",
            "_view_name": "StyleView",
            "background": null,
            "description_width": "",
            "font_size": null,
            "text_color": null
          }
        },
        "382eb7ea278941e7914a35edc4574e4c": {
          "model_module": "@jupyter-widgets/base",
          "model_name": "LayoutModel",
          "model_module_version": "2.0.0",
          "state": {
            "_model_module": "@jupyter-widgets/base",
            "_model_module_version": "2.0.0",
            "_model_name": "LayoutModel",
            "_view_count": null,
            "_view_module": "@jupyter-widgets/base",
            "_view_module_version": "2.0.0",
            "_view_name": "LayoutView",
            "align_content": null,
            "align_items": null,
            "align_self": null,
            "border_bottom": null,
            "border_left": null,
            "border_right": null,
            "border_top": null,
            "bottom": null,
            "display": null,
            "flex": null,
            "flex_flow": null,
            "grid_area": null,
            "grid_auto_columns": null,
            "grid_auto_flow": null,
            "grid_auto_rows": null,
            "grid_column": null,
            "grid_gap": null,
            "grid_row": null,
            "grid_template_areas": null,
            "grid_template_columns": null,
            "grid_template_rows": null,
            "height": null,
            "justify_content": null,
            "justify_items": null,
            "left": null,
            "margin": null,
            "max_height": null,
            "max_width": null,
            "min_height": null,
            "min_width": null,
            "object_fit": null,
            "object_position": null,
            "order": null,
            "overflow": null,
            "padding": null,
            "right": null,
            "top": null,
            "visibility": null,
            "width": null
          }
        },
        "718c1a6cb6de402a9ae4e4bb6cdaf1f1": {
          "model_module": "@jupyter-widgets/controls",
          "model_name": "HTMLStyleModel",
          "model_module_version": "2.0.0",
          "state": {
            "_model_module": "@jupyter-widgets/controls",
            "_model_module_version": "2.0.0",
            "_model_name": "HTMLStyleModel",
            "_view_count": null,
            "_view_module": "@jupyter-widgets/base",
            "_view_module_version": "2.0.0",
            "_view_name": "StyleView",
            "background": null,
            "description_width": "",
            "font_size": null,
            "text_color": null
          }
        },
        "4ce30617da1c4c0990444834f2afd7b6": {
          "model_module": "@jupyter-widgets/controls",
          "model_name": "HTMLModel",
          "model_module_version": "2.0.0",
          "state": {
            "_dom_classes": [],
            "_model_module": "@jupyter-widgets/controls",
            "_model_module_version": "2.0.0",
            "_model_name": "HTMLModel",
            "_view_count": null,
            "_view_module": "@jupyter-widgets/controls",
            "_view_module_version": "2.0.0",
            "_view_name": "HTMLView",
            "description": "",
            "description_allow_html": false,
            "layout": "IPY_MODEL_29baff6709164c05bfa043f1b9f0824c",
            "placeholder": "​",
            "style": "IPY_MODEL_68a56e455cd24f15ba377f902ecc3b6b",
            "tabbable": null,
            "tooltip": null,
            "value": "vocab.txt: 100%"
          }
        },
        "1a2666d384cf4804a60465505a901f22": {
          "model_module": "@jupyter-widgets/controls",
          "model_name": "FloatProgressModel",
          "model_module_version": "2.0.0",
          "state": {
            "_dom_classes": [],
            "_model_module": "@jupyter-widgets/controls",
            "_model_module_version": "2.0.0",
            "_model_name": "FloatProgressModel",
            "_view_count": null,
            "_view_module": "@jupyter-widgets/controls",
            "_view_module_version": "2.0.0",
            "_view_name": "ProgressView",
            "bar_style": "success",
            "description": "",
            "description_allow_html": false,
            "layout": "IPY_MODEL_e605913322524092ab211a6d74c26b5a",
            "max": 231508,
            "min": 0,
            "orientation": "horizontal",
            "style": "IPY_MODEL_3cfebf27ec5843dea32ea8ca5dd397ea",
            "tabbable": null,
            "tooltip": null,
            "value": 231508
          }
        },
        "b3fbf16df65940c688c19d8b5b8ed4d1": {
          "model_module": "@jupyter-widgets/controls",
          "model_name": "HTMLModel",
          "model_module_version": "2.0.0",
          "state": {
            "_dom_classes": [],
            "_model_module": "@jupyter-widgets/controls",
            "_model_module_version": "2.0.0",
            "_model_name": "HTMLModel",
            "_view_count": null,
            "_view_module": "@jupyter-widgets/controls",
            "_view_module_version": "2.0.0",
            "_view_name": "HTMLView",
            "description": "",
            "description_allow_html": false,
            "layout": "IPY_MODEL_382eb7ea278941e7914a35edc4574e4c",
            "placeholder": "​",
            "style": "IPY_MODEL_718c1a6cb6de402a9ae4e4bb6cdaf1f1",
            "tabbable": null,
            "tooltip": null,
            "value": " 232k/232k [00:00&lt;00:00, 596kB/s]"
          }
        },
        "75711a434d5b4a33b62383db67774243": {
          "model_module": "@jupyter-widgets/base",
          "model_name": "LayoutModel",
          "model_module_version": "2.0.0",
          "state": {
            "_model_module": "@jupyter-widgets/base",
            "_model_module_version": "2.0.0",
            "_model_name": "LayoutModel",
            "_view_count": null,
            "_view_module": "@jupyter-widgets/base",
            "_view_module_version": "2.0.0",
            "_view_name": "LayoutView",
            "align_content": null,
            "align_items": null,
            "align_self": null,
            "border_bottom": null,
            "border_left": null,
            "border_right": null,
            "border_top": null,
            "bottom": null,
            "display": null,
            "flex": null,
            "flex_flow": null,
            "grid_area": null,
            "grid_auto_columns": null,
            "grid_auto_flow": null,
            "grid_auto_rows": null,
            "grid_column": null,
            "grid_gap": null,
            "grid_row": null,
            "grid_template_areas": null,
            "grid_template_columns": null,
            "grid_template_rows": null,
            "height": null,
            "justify_content": null,
            "justify_items": null,
            "left": null,
            "margin": null,
            "max_height": null,
            "max_width": null,
            "min_height": null,
            "min_width": null,
            "object_fit": null,
            "object_position": null,
            "order": null,
            "overflow": null,
            "padding": null,
            "right": null,
            "top": null,
            "visibility": null,
            "width": null
          }
        },
        "9594200c15be488196be74643750fddb": {
          "model_module": "@jupyter-widgets/controls",
          "model_name": "HBoxModel",
          "model_module_version": "2.0.0",
          "state": {
            "_dom_classes": [],
            "_model_module": "@jupyter-widgets/controls",
            "_model_module_version": "2.0.0",
            "_model_name": "HBoxModel",
            "_view_count": null,
            "_view_module": "@jupyter-widgets/controls",
            "_view_module_version": "2.0.0",
            "_view_name": "HBoxView",
            "box_style": "",
            "children": [
              "IPY_MODEL_4ce30617da1c4c0990444834f2afd7b6",
              "IPY_MODEL_1a2666d384cf4804a60465505a901f22",
              "IPY_MODEL_b3fbf16df65940c688c19d8b5b8ed4d1"
            ],
            "layout": "IPY_MODEL_75711a434d5b4a33b62383db67774243",
            "tabbable": null,
            "tooltip": null
          }
        },
        "59f4932ed32e4f45a0a8df4e14df181f": {
          "model_module": "@jupyter-widgets/base",
          "model_name": "LayoutModel",
          "model_module_version": "2.0.0",
          "state": {
            "_model_module": "@jupyter-widgets/base",
            "_model_module_version": "2.0.0",
            "_model_name": "LayoutModel",
            "_view_count": null,
            "_view_module": "@jupyter-widgets/base",
            "_view_module_version": "2.0.0",
            "_view_name": "LayoutView",
            "align_content": null,
            "align_items": null,
            "align_self": null,
            "border_bottom": null,
            "border_left": null,
            "border_right": null,
            "border_top": null,
            "bottom": null,
            "display": null,
            "flex": null,
            "flex_flow": null,
            "grid_area": null,
            "grid_auto_columns": null,
            "grid_auto_flow": null,
            "grid_auto_rows": null,
            "grid_column": null,
            "grid_gap": null,
            "grid_row": null,
            "grid_template_areas": null,
            "grid_template_columns": null,
            "grid_template_rows": null,
            "height": null,
            "justify_content": null,
            "justify_items": null,
            "left": null,
            "margin": null,
            "max_height": null,
            "max_width": null,
            "min_height": null,
            "min_width": null,
            "object_fit": null,
            "object_position": null,
            "order": null,
            "overflow": null,
            "padding": null,
            "right": null,
            "top": null,
            "visibility": null,
            "width": null
          }
        },
        "3a945bdba0a14983b73ded00ca5fb1b7": {
          "model_module": "@jupyter-widgets/controls",
          "model_name": "ProgressStyleModel",
          "model_module_version": "2.0.0",
          "state": {
            "_model_module": "@jupyter-widgets/controls",
            "_model_module_version": "2.0.0",
            "_model_name": "ProgressStyleModel",
            "_view_count": null,
            "_view_module": "@jupyter-widgets/base",
            "_view_module_version": "2.0.0",
            "_view_name": "StyleView",
            "bar_color": null,
            "description_width": ""
          }
        },
        "931c1d566773416bb4f1fbbe86aa4ce1": {
          "model_module": "@jupyter-widgets/base",
          "model_name": "LayoutModel",
          "model_module_version": "2.0.0",
          "state": {
            "_model_module": "@jupyter-widgets/base",
            "_model_module_version": "2.0.0",
            "_model_name": "LayoutModel",
            "_view_count": null,
            "_view_module": "@jupyter-widgets/base",
            "_view_module_version": "2.0.0",
            "_view_name": "LayoutView",
            "align_content": null,
            "align_items": null,
            "align_self": null,
            "border_bottom": null,
            "border_left": null,
            "border_right": null,
            "border_top": null,
            "bottom": null,
            "display": null,
            "flex": null,
            "flex_flow": null,
            "grid_area": null,
            "grid_auto_columns": null,
            "grid_auto_flow": null,
            "grid_auto_rows": null,
            "grid_column": null,
            "grid_gap": null,
            "grid_row": null,
            "grid_template_areas": null,
            "grid_template_columns": null,
            "grid_template_rows": null,
            "height": null,
            "justify_content": null,
            "justify_items": null,
            "left": null,
            "margin": null,
            "max_height": null,
            "max_width": null,
            "min_height": null,
            "min_width": null,
            "object_fit": null,
            "object_position": null,
            "order": null,
            "overflow": null,
            "padding": null,
            "right": null,
            "top": null,
            "visibility": null,
            "width": null
          }
        },
        "c4445004699f4d6596ed78dc86ff471c": {
          "model_module": "@jupyter-widgets/controls",
          "model_name": "HTMLStyleModel",
          "model_module_version": "2.0.0",
          "state": {
            "_model_module": "@jupyter-widgets/controls",
            "_model_module_version": "2.0.0",
            "_model_name": "HTMLStyleModel",
            "_view_count": null,
            "_view_module": "@jupyter-widgets/base",
            "_view_module_version": "2.0.0",
            "_view_name": "StyleView",
            "background": null,
            "description_width": "",
            "font_size": null,
            "text_color": null
          }
        },
        "11994d636be44d41b07893a100611b72": {
          "model_module": "@jupyter-widgets/base",
          "model_name": "LayoutModel",
          "model_module_version": "2.0.0",
          "state": {
            "_model_module": "@jupyter-widgets/base",
            "_model_module_version": "2.0.0",
            "_model_name": "LayoutModel",
            "_view_count": null,
            "_view_module": "@jupyter-widgets/base",
            "_view_module_version": "2.0.0",
            "_view_name": "LayoutView",
            "align_content": null,
            "align_items": null,
            "align_self": null,
            "border_bottom": null,
            "border_left": null,
            "border_right": null,
            "border_top": null,
            "bottom": null,
            "display": null,
            "flex": null,
            "flex_flow": null,
            "grid_area": null,
            "grid_auto_columns": null,
            "grid_auto_flow": null,
            "grid_auto_rows": null,
            "grid_column": null,
            "grid_gap": null,
            "grid_row": null,
            "grid_template_areas": null,
            "grid_template_columns": null,
            "grid_template_rows": null,
            "height": null,
            "justify_content": null,
            "justify_items": null,
            "left": null,
            "margin": null,
            "max_height": null,
            "max_width": null,
            "min_height": null,
            "min_width": null,
            "object_fit": null,
            "object_position": null,
            "order": null,
            "overflow": null,
            "padding": null,
            "right": null,
            "top": null,
            "visibility": null,
            "width": null
          }
        },
        "647606a57a3e40d4917a0f875eae6961": {
          "model_module": "@jupyter-widgets/controls",
          "model_name": "HTMLStyleModel",
          "model_module_version": "2.0.0",
          "state": {
            "_model_module": "@jupyter-widgets/controls",
            "_model_module_version": "2.0.0",
            "_model_name": "HTMLStyleModel",
            "_view_count": null,
            "_view_module": "@jupyter-widgets/base",
            "_view_module_version": "2.0.0",
            "_view_name": "StyleView",
            "background": null,
            "description_width": "",
            "font_size": null,
            "text_color": null
          }
        },
        "1f267e86f5af445cb33519e7377d1278": {
          "model_module": "@jupyter-widgets/controls",
          "model_name": "HTMLModel",
          "model_module_version": "2.0.0",
          "state": {
            "_dom_classes": [],
            "_model_module": "@jupyter-widgets/controls",
            "_model_module_version": "2.0.0",
            "_model_name": "HTMLModel",
            "_view_count": null,
            "_view_module": "@jupyter-widgets/controls",
            "_view_module_version": "2.0.0",
            "_view_name": "HTMLView",
            "description": "",
            "description_allow_html": false,
            "layout": "IPY_MODEL_931c1d566773416bb4f1fbbe86aa4ce1",
            "placeholder": "​",
            "style": "IPY_MODEL_c4445004699f4d6596ed78dc86ff471c",
            "tabbable": null,
            "tooltip": null,
            "value": "tokenizer.json: 100%"
          }
        },
        "bcc5cb3934a34ec08331a1945ee4f82f": {
          "model_module": "@jupyter-widgets/controls",
          "model_name": "FloatProgressModel",
          "model_module_version": "2.0.0",
          "state": {
            "_dom_classes": [],
            "_model_module": "@jupyter-widgets/controls",
            "_model_module_version": "2.0.0",
            "_model_name": "FloatProgressModel",
            "_view_count": null,
            "_view_module": "@jupyter-widgets/controls",
            "_view_module_version": "2.0.0",
            "_view_name": "ProgressView",
            "bar_style": "success",
            "description": "",
            "description_allow_html": false,
            "layout": "IPY_MODEL_59f4932ed32e4f45a0a8df4e14df181f",
            "max": 711396,
            "min": 0,
            "orientation": "horizontal",
            "style": "IPY_MODEL_3a945bdba0a14983b73ded00ca5fb1b7",
            "tabbable": null,
            "tooltip": null,
            "value": 711396
          }
        },
        "d555e2e2d39e4da68fe3729bb2edc6eb": {
          "model_module": "@jupyter-widgets/controls",
          "model_name": "HTMLModel",
          "model_module_version": "2.0.0",
          "state": {
            "_dom_classes": [],
            "_model_module": "@jupyter-widgets/controls",
            "_model_module_version": "2.0.0",
            "_model_name": "HTMLModel",
            "_view_count": null,
            "_view_module": "@jupyter-widgets/controls",
            "_view_module_version": "2.0.0",
            "_view_name": "HTMLView",
            "description": "",
            "description_allow_html": false,
            "layout": "IPY_MODEL_11994d636be44d41b07893a100611b72",
            "placeholder": "​",
            "style": "IPY_MODEL_647606a57a3e40d4917a0f875eae6961",
            "tabbable": null,
            "tooltip": null,
            "value": " 711k/711k [00:00&lt;00:00, 915kB/s]"
          }
        },
        "255de0c42b18440b81d05d25275c497d": {
          "model_module": "@jupyter-widgets/base",
          "model_name": "LayoutModel",
          "model_module_version": "2.0.0",
          "state": {
            "_model_module": "@jupyter-widgets/base",
            "_model_module_version": "2.0.0",
            "_model_name": "LayoutModel",
            "_view_count": null,
            "_view_module": "@jupyter-widgets/base",
            "_view_module_version": "2.0.0",
            "_view_name": "LayoutView",
            "align_content": null,
            "align_items": null,
            "align_self": null,
            "border_bottom": null,
            "border_left": null,
            "border_right": null,
            "border_top": null,
            "bottom": null,
            "display": null,
            "flex": null,
            "flex_flow": null,
            "grid_area": null,
            "grid_auto_columns": null,
            "grid_auto_flow": null,
            "grid_auto_rows": null,
            "grid_column": null,
            "grid_gap": null,
            "grid_row": null,
            "grid_template_areas": null,
            "grid_template_columns": null,
            "grid_template_rows": null,
            "height": null,
            "justify_content": null,
            "justify_items": null,
            "left": null,
            "margin": null,
            "max_height": null,
            "max_width": null,
            "min_height": null,
            "min_width": null,
            "object_fit": null,
            "object_position": null,
            "order": null,
            "overflow": null,
            "padding": null,
            "right": null,
            "top": null,
            "visibility": null,
            "width": null
          }
        },
        "badc1876fd1d454db83583e83cc4a154": {
          "model_module": "@jupyter-widgets/controls",
          "model_name": "HBoxModel",
          "model_module_version": "2.0.0",
          "state": {
            "_dom_classes": [],
            "_model_module": "@jupyter-widgets/controls",
            "_model_module_version": "2.0.0",
            "_model_name": "HBoxModel",
            "_view_count": null,
            "_view_module": "@jupyter-widgets/controls",
            "_view_module_version": "2.0.0",
            "_view_name": "HBoxView",
            "box_style": "",
            "children": [
              "IPY_MODEL_1f267e86f5af445cb33519e7377d1278",
              "IPY_MODEL_bcc5cb3934a34ec08331a1945ee4f82f",
              "IPY_MODEL_d555e2e2d39e4da68fe3729bb2edc6eb"
            ],
            "layout": "IPY_MODEL_255de0c42b18440b81d05d25275c497d",
            "tabbable": null,
            "tooltip": null
          }
        },
        "9879c2233d2943a488ca16c5416f56e4": {
          "model_module": "@jupyter-widgets/base",
          "model_name": "LayoutModel",
          "model_module_version": "2.0.0",
          "state": {
            "_model_module": "@jupyter-widgets/base",
            "_model_module_version": "2.0.0",
            "_model_name": "LayoutModel",
            "_view_count": null,
            "_view_module": "@jupyter-widgets/base",
            "_view_module_version": "2.0.0",
            "_view_name": "LayoutView",
            "align_content": null,
            "align_items": null,
            "align_self": null,
            "border_bottom": null,
            "border_left": null,
            "border_right": null,
            "border_top": null,
            "bottom": null,
            "display": null,
            "flex": null,
            "flex_flow": null,
            "grid_area": null,
            "grid_auto_columns": null,
            "grid_auto_flow": null,
            "grid_auto_rows": null,
            "grid_column": null,
            "grid_gap": null,
            "grid_row": null,
            "grid_template_areas": null,
            "grid_template_columns": null,
            "grid_template_rows": null,
            "height": null,
            "justify_content": null,
            "justify_items": null,
            "left": null,
            "margin": null,
            "max_height": null,
            "max_width": null,
            "min_height": null,
            "min_width": null,
            "object_fit": null,
            "object_position": null,
            "order": null,
            "overflow": null,
            "padding": null,
            "right": null,
            "top": null,
            "visibility": null,
            "width": null
          }
        },
        "c15db66840f3458597683afa416477b5": {
          "model_module": "@jupyter-widgets/controls",
          "model_name": "ProgressStyleModel",
          "model_module_version": "2.0.0",
          "state": {
            "_model_module": "@jupyter-widgets/controls",
            "_model_module_version": "2.0.0",
            "_model_name": "ProgressStyleModel",
            "_view_count": null,
            "_view_module": "@jupyter-widgets/base",
            "_view_module_version": "2.0.0",
            "_view_name": "StyleView",
            "bar_color": null,
            "description_width": ""
          }
        },
        "aa15481bf033402a914d5259ff13fe5d": {
          "model_module": "@jupyter-widgets/base",
          "model_name": "LayoutModel",
          "model_module_version": "2.0.0",
          "state": {
            "_model_module": "@jupyter-widgets/base",
            "_model_module_version": "2.0.0",
            "_model_name": "LayoutModel",
            "_view_count": null,
            "_view_module": "@jupyter-widgets/base",
            "_view_module_version": "2.0.0",
            "_view_name": "LayoutView",
            "align_content": null,
            "align_items": null,
            "align_self": null,
            "border_bottom": null,
            "border_left": null,
            "border_right": null,
            "border_top": null,
            "bottom": null,
            "display": null,
            "flex": null,
            "flex_flow": null,
            "grid_area": null,
            "grid_auto_columns": null,
            "grid_auto_flow": null,
            "grid_auto_rows": null,
            "grid_column": null,
            "grid_gap": null,
            "grid_row": null,
            "grid_template_areas": null,
            "grid_template_columns": null,
            "grid_template_rows": null,
            "height": null,
            "justify_content": null,
            "justify_items": null,
            "left": null,
            "margin": null,
            "max_height": null,
            "max_width": null,
            "min_height": null,
            "min_width": null,
            "object_fit": null,
            "object_position": null,
            "order": null,
            "overflow": null,
            "padding": null,
            "right": null,
            "top": null,
            "visibility": null,
            "width": null
          }
        },
        "78d127d6161345ed8f974f5ae1b39fae": {
          "model_module": "@jupyter-widgets/controls",
          "model_name": "HTMLStyleModel",
          "model_module_version": "2.0.0",
          "state": {
            "_model_module": "@jupyter-widgets/controls",
            "_model_module_version": "2.0.0",
            "_model_name": "HTMLStyleModel",
            "_view_count": null,
            "_view_module": "@jupyter-widgets/base",
            "_view_module_version": "2.0.0",
            "_view_name": "StyleView",
            "background": null,
            "description_width": "",
            "font_size": null,
            "text_color": null
          }
        },
        "2039acdd4270436081d783a6ea6f0d9c": {
          "model_module": "@jupyter-widgets/base",
          "model_name": "LayoutModel",
          "model_module_version": "2.0.0",
          "state": {
            "_model_module": "@jupyter-widgets/base",
            "_model_module_version": "2.0.0",
            "_model_name": "LayoutModel",
            "_view_count": null,
            "_view_module": "@jupyter-widgets/base",
            "_view_module_version": "2.0.0",
            "_view_name": "LayoutView",
            "align_content": null,
            "align_items": null,
            "align_self": null,
            "border_bottom": null,
            "border_left": null,
            "border_right": null,
            "border_top": null,
            "bottom": null,
            "display": null,
            "flex": null,
            "flex_flow": null,
            "grid_area": null,
            "grid_auto_columns": null,
            "grid_auto_flow": null,
            "grid_auto_rows": null,
            "grid_column": null,
            "grid_gap": null,
            "grid_row": null,
            "grid_template_areas": null,
            "grid_template_columns": null,
            "grid_template_rows": null,
            "height": null,
            "justify_content": null,
            "justify_items": null,
            "left": null,
            "margin": null,
            "max_height": null,
            "max_width": null,
            "min_height": null,
            "min_width": null,
            "object_fit": null,
            "object_position": null,
            "order": null,
            "overflow": null,
            "padding": null,
            "right": null,
            "top": null,
            "visibility": null,
            "width": null
          }
        },
        "5dae72c1eb6f48088f41e3165c8ed005": {
          "model_module": "@jupyter-widgets/controls",
          "model_name": "HTMLStyleModel",
          "model_module_version": "2.0.0",
          "state": {
            "_model_module": "@jupyter-widgets/controls",
            "_model_module_version": "2.0.0",
            "_model_name": "HTMLStyleModel",
            "_view_count": null,
            "_view_module": "@jupyter-widgets/base",
            "_view_module_version": "2.0.0",
            "_view_name": "StyleView",
            "background": null,
            "description_width": "",
            "font_size": null,
            "text_color": null
          }
        },
        "deee9cfb5c284a5a9961b44fea31ab05": {
          "model_module": "@jupyter-widgets/controls",
          "model_name": "HTMLModel",
          "model_module_version": "2.0.0",
          "state": {
            "_dom_classes": [],
            "_model_module": "@jupyter-widgets/controls",
            "_model_module_version": "2.0.0",
            "_model_name": "HTMLModel",
            "_view_count": null,
            "_view_module": "@jupyter-widgets/controls",
            "_view_module_version": "2.0.0",
            "_view_name": "HTMLView",
            "description": "",
            "description_allow_html": false,
            "layout": "IPY_MODEL_aa15481bf033402a914d5259ff13fe5d",
            "placeholder": "​",
            "style": "IPY_MODEL_78d127d6161345ed8f974f5ae1b39fae",
            "tabbable": null,
            "tooltip": null,
            "value": "special_tokens_map.json: 100%"
          }
        },
        "3865198ec29446b39f923fde1c46f981": {
          "model_module": "@jupyter-widgets/controls",
          "model_name": "FloatProgressModel",
          "model_module_version": "2.0.0",
          "state": {
            "_dom_classes": [],
            "_model_module": "@jupyter-widgets/controls",
            "_model_module_version": "2.0.0",
            "_model_name": "FloatProgressModel",
            "_view_count": null,
            "_view_module": "@jupyter-widgets/controls",
            "_view_module_version": "2.0.0",
            "_view_name": "ProgressView",
            "bar_style": "success",
            "description": "",
            "description_allow_html": false,
            "layout": "IPY_MODEL_9879c2233d2943a488ca16c5416f56e4",
            "max": 125,
            "min": 0,
            "orientation": "horizontal",
            "style": "IPY_MODEL_c15db66840f3458597683afa416477b5",
            "tabbable": null,
            "tooltip": null,
            "value": 125
          }
        },
        "87aadfbf755f4795a62553feba638bb9": {
          "model_module": "@jupyter-widgets/controls",
          "model_name": "HTMLModel",
          "model_module_version": "2.0.0",
          "state": {
            "_dom_classes": [],
            "_model_module": "@jupyter-widgets/controls",
            "_model_module_version": "2.0.0",
            "_model_name": "HTMLModel",
            "_view_count": null,
            "_view_module": "@jupyter-widgets/controls",
            "_view_module_version": "2.0.0",
            "_view_name": "HTMLView",
            "description": "",
            "description_allow_html": false,
            "layout": "IPY_MODEL_2039acdd4270436081d783a6ea6f0d9c",
            "placeholder": "​",
            "style": "IPY_MODEL_5dae72c1eb6f48088f41e3165c8ed005",
            "tabbable": null,
            "tooltip": null,
            "value": " 125/125 [00:00&lt;00:00, 6.68kB/s]"
          }
        },
        "8c0bacf9b1904acda0f9790be393161c": {
          "model_module": "@jupyter-widgets/base",
          "model_name": "LayoutModel",
          "model_module_version": "2.0.0",
          "state": {
            "_model_module": "@jupyter-widgets/base",
            "_model_module_version": "2.0.0",
            "_model_name": "LayoutModel",
            "_view_count": null,
            "_view_module": "@jupyter-widgets/base",
            "_view_module_version": "2.0.0",
            "_view_name": "LayoutView",
            "align_content": null,
            "align_items": null,
            "align_self": null,
            "border_bottom": null,
            "border_left": null,
            "border_right": null,
            "border_top": null,
            "bottom": null,
            "display": null,
            "flex": null,
            "flex_flow": null,
            "grid_area": null,
            "grid_auto_columns": null,
            "grid_auto_flow": null,
            "grid_auto_rows": null,
            "grid_column": null,
            "grid_gap": null,
            "grid_row": null,
            "grid_template_areas": null,
            "grid_template_columns": null,
            "grid_template_rows": null,
            "height": null,
            "justify_content": null,
            "justify_items": null,
            "left": null,
            "margin": null,
            "max_height": null,
            "max_width": null,
            "min_height": null,
            "min_width": null,
            "object_fit": null,
            "object_position": null,
            "order": null,
            "overflow": null,
            "padding": null,
            "right": null,
            "top": null,
            "visibility": null,
            "width": null
          }
        },
        "d314d761c0a84d49851715b3c1af799f": {
          "model_module": "@jupyter-widgets/controls",
          "model_name": "HBoxModel",
          "model_module_version": "2.0.0",
          "state": {
            "_dom_classes": [],
            "_model_module": "@jupyter-widgets/controls",
            "_model_module_version": "2.0.0",
            "_model_name": "HBoxModel",
            "_view_count": null,
            "_view_module": "@jupyter-widgets/controls",
            "_view_module_version": "2.0.0",
            "_view_name": "HBoxView",
            "box_style": "",
            "children": [
              "IPY_MODEL_deee9cfb5c284a5a9961b44fea31ab05",
              "IPY_MODEL_3865198ec29446b39f923fde1c46f981",
              "IPY_MODEL_87aadfbf755f4795a62553feba638bb9"
            ],
            "layout": "IPY_MODEL_8c0bacf9b1904acda0f9790be393161c",
            "tabbable": null,
            "tooltip": null
          }
        }
      }
    }
  },
  "cells": [
    {
      "cell_type": "markdown",
      "metadata": {
        "id": "view-in-github",
        "colab_type": "text"
      },
      "source": [
        "<a href=\"https://colab.research.google.com/github/Nov05/Google-Colaboratory/blob/master/20231214_chatgpt_3_5_turbo_%2B_llama_index_(RAG)_with_the_book_of_mormon.ipynb\" target=\"_parent\"><img src=\"https://colab.research.google.com/assets/colab-badge.svg\" alt=\"Open In Colab\"/></a>"
      ]
    },
    {
      "cell_type": "markdown",
      "source": [
        "# **\\<TOP\\>**  \n",
        "* 2023-12-14  \n",
        "* go to [the short course folder](https://drive.google.com/drive/folders/1NUa9wsPDILnlhnSZu95iylnccYYzv27g)\n",
        "* 20231214_L3-Sentence_window_retrieval.ipynb  \n",
        "\n",
        "---\n",
        "\n",
        "* [check openai billing](https://platform.openai.com/account/billing/overview) (need to turn off the vpn web protection)\n",
        "* [Using the Book of Mormon to Answer Life’s Questions](https://www.churchofjesuschrist.org/youth/activities/new/using-the-book-of-mormon-to-answer-lifes-questions?lang=eng)    "
      ],
      "metadata": {
        "id": "--atyDzoDziY"
      }
    },
    {
      "cell_type": "code",
      "execution_count": null,
      "metadata": {
        "id": "lXimyQVpDy2Y"
      },
      "outputs": [],
      "source": [
        "## download a folder\n",
        "# !gdown --no-check-certificate --folder https://drive.google.com/drive/folders/10LpvZD_trQ7t0J3NeMoP6zFvU8ZmwvCv\n",
        "# !cp /content/l3_files/* /content\n",
        "# !rm -r /content/l3_files\n",
        "\n",
        "## download a file\n",
        "!gdown --no-check-certificate 'https://drive.google.com/uc?export=download&id=1qHEVMw6wZV7NdOV3E68nZySkmvBhPZ5-'"
      ]
    },
    {
      "cell_type": "code",
      "source": [
        "!pip install openai==1.3.5\n",
        "!pip install llama-index==0.9.8\n",
        "!pip install python-dotenv\n",
        "!pip install trulens-eval==0.18.1\n",
        "!pip install pypdf\n",
        "!pip uninstall transformers ## 4.35.2 pre-installed by colab\n",
        "!pip install transformers==4.33.2\n",
        "!pip install sentence-transformers==2.2.2\n",
        "## restart the session"
      ],
      "metadata": {
        "id": "G_YI7yaUJAlz"
      },
      "execution_count": null,
      "outputs": []
    },
    {
      "cell_type": "code",
      "source": [
        "from google.colab import output\n",
        "output.enable_custom_widget_manager()\n",
        "# output.disable_custom_widget_manager()"
      ],
      "metadata": {
        "id": "QnhzI7tZJfon"
      },
      "execution_count": 19,
      "outputs": []
    },
    {
      "cell_type": "code",
      "source": [
        "import warnings\n",
        "warnings.filterwarnings('ignore')"
      ],
      "metadata": {
        "id": "-99XxxNkJiQK"
      },
      "execution_count": 2,
      "outputs": []
    },
    {
      "cell_type": "code",
      "source": [
        "import os\n",
        "from google.colab import userdata\n",
        "os.environ[\"OPENAI_API_KEY\"] = userdata.get('OPENAI_API_KEY')\n",
        "os.environ[\"OPENAI_API_KEY\"]"
      ],
      "metadata": {
        "id": "FxWFp-afN0fw"
      },
      "execution_count": null,
      "outputs": []
    },
    {
      "cell_type": "markdown",
      "source": [
        "# **Lesson 3: Sentence Window Retrieval**"
      ],
      "metadata": {
        "id": "NJyzmTxsKHC2"
      }
    },
    {
      "cell_type": "code",
      "source": [
        "import utils\n",
        "import os\n",
        "import openai\n",
        "from google.colab import userdata\n",
        "openai.api_key = utils.get_openai_api_key()"
      ],
      "metadata": {
        "id": "GeV82HrAJn0b"
      },
      "execution_count": 3,
      "outputs": []
    },
    {
      "cell_type": "code",
      "source": [
        "from llama_index import SimpleDirectoryReader\n",
        "path = '/content/The Book of Mormon_50 pages.pdf'\n",
        "documents = SimpleDirectoryReader(\n",
        "    input_files=[path]\n",
        ").load_data()\n",
        "print(type(documents))\n",
        "print(len(documents))\n",
        "print(type(documents[0]))\n",
        "print(documents[0])"
      ],
      "metadata": {
        "colab": {
          "base_uri": "https://localhost:8080/"
        },
        "id": "4q1mdHHjLIb1",
        "outputId": "8fa63272-c583-4f40-c92a-1ec5b7ab5965"
      },
      "execution_count": 6,
      "outputs": [
        {
          "output_type": "stream",
          "name": "stdout",
          "text": [
            "<class 'list'>\n",
            "50\n",
            "<class 'llama_index.schema.Document'>\n",
            "Doc ID: b51dac0d-f1cd-4638-b8a4-8138f3df91a4\n",
            "Text: The   Book of MorMon Another T estament of   Jesus Christ\n",
            "Published by   The Church of Jesus Christ of Latter-day Saints Salt\n",
            "Lake City, Utah, USA\n"
          ]
        }
      ]
    },
    {
      "cell_type": "code",
      "source": [
        "from llama_index import Document\n",
        "document = Document(text=\"\\n\\n\".join([doc.text for doc in documents]))"
      ],
      "metadata": {
        "id": "dyRqBDqvLjkn"
      },
      "execution_count": 8,
      "outputs": []
    },
    {
      "cell_type": "code",
      "source": [
        "import os\n",
        "from llama_index import ServiceContext, VectorStoreIndex, StorageContext\n",
        "from llama_index.node_parser import SentenceWindowNodeParser\n",
        "from llama_index.indices.postprocessor import MetadataReplacementPostProcessor\n",
        "from llama_index.indices.postprocessor import SentenceTransformerRerank\n",
        "from llama_index import load_index_from_storage\n",
        "\n",
        "\n",
        "def build_sentence_window_index(\n",
        "    documents,\n",
        "    llm,\n",
        "    embed_model=\"local:BAAI/bge-small-en-v1.5\",\n",
        "    sentence_window_size=3,\n",
        "    save_dir=\"sentence_index\",\n",
        "):\n",
        "    # create the sentence window node parser w/ default settings\n",
        "    node_parser = SentenceWindowNodeParser.from_defaults(\n",
        "        window_size=sentence_window_size,\n",
        "        window_metadata_key=\"window\",\n",
        "        original_text_metadata_key=\"original_text\",\n",
        "    )\n",
        "    sentence_context = ServiceContext.from_defaults(\n",
        "        llm=llm,\n",
        "        embed_model=embed_model,\n",
        "        node_parser=node_parser,\n",
        "    )\n",
        "    if not os.path.exists(save_dir):\n",
        "        sentence_index = VectorStoreIndex.from_documents(\n",
        "            documents, service_context=sentence_context\n",
        "        )\n",
        "        sentence_index.storage_context.persist(persist_dir=save_dir)\n",
        "    else:\n",
        "        sentence_index = load_index_from_storage(\n",
        "            StorageContext.from_defaults(persist_dir=save_dir),\n",
        "            service_context=sentence_context,\n",
        "        )\n",
        "\n",
        "    return sentence_index\n",
        "\n",
        "\n",
        "def get_sentence_window_query_engine(\n",
        "    sentence_index, similarity_top_k=6, rerank_top_n=2\n",
        "):\n",
        "    # define postprocessors\n",
        "    postproc = MetadataReplacementPostProcessor(target_metadata_key=\"window\")\n",
        "    rerank = SentenceTransformerRerank(\n",
        "        top_n=rerank_top_n, model=\"BAAI/bge-reranker-base\"\n",
        "    )\n",
        "\n",
        "    sentence_window_engine = sentence_index.as_query_engine(\n",
        "        similarity_top_k=similarity_top_k, node_postprocessors=[postproc, rerank]\n",
        "    )\n",
        "    return sentence_window_engine"
      ],
      "metadata": {
        "id": "__3g9ulLKSLP"
      },
      "execution_count": 4,
      "outputs": []
    },
    {
      "cell_type": "code",
      "source": [
        "from llama_index.llms import OpenAI\n",
        "index = build_sentence_window_index(\n",
        "    [document],\n",
        "    llm=OpenAI(model=\"gpt-3.5-turbo\", temperature=0.1),\n",
        "    save_dir=\"./sentence_index\",\n",
        ")"
      ],
      "metadata": {
        "colab": {
          "base_uri": "https://localhost:8080/",
          "height": 53,
          "referenced_widgets": [
            "27d170da1ad14b6ea52235836839fa98",
            "492baf2e6ec64a8298317f9c75222c7b",
            "831917f553a24c8f8255ab87c733a48f",
            "823d616ee25f49ad9c61a989048b745b",
            "b14a192f529b4a0e9acc4300998cdde5",
            "348a6ac13a474c42a63385885e34d49b",
            "d997f5aab7aa44338aa7e89b1e71021f",
            "b61d0976b91d40a9aa7531ac9a56b9e7",
            "c46e02011bc44a4285138e3670f51172",
            "2dd52da656cd47a0985df9aa2915fdc3",
            "e669f63ecd244914a3bba5c62253e5b5",
            "176f603cbfbc43b49bae7060736860e3",
            "bcd2387e6e674130bfc2691c607abb81",
            "d3388c3723ac48268b641a4fc3e242e4",
            "3f75e6c364b2440ab5821a361ea14916",
            "6333bb9a7d3c459089574b8a9a825ecc",
            "cfd12c4f2ef84b7e85f403c0c50eb916",
            "7fd8641908674fb99fff0eeef2378f89",
            "76b3b2ce98db4515864846f24690f478",
            "3491215882c5492583ea9f9de8cb03f3",
            "391fa33df6ea48dcac8713cfececaa63",
            "c55488dabee34de8bc1c7a70c6d6b6d1",
            "06a7bd306c2f4d179baf44c45b6b81c0",
            "298830f0b3b54b7483fafd56d5021e9c",
            "447366522afc48b782c8a44e52c25529",
            "17d531625b38499ea6b72c3438f3429c",
            "38dffa7bf843449f9e8f20a9c7d3ebff",
            "989f906bd1614f3085771f813c68807a",
            "31a018953bbf4052a9693f1c30acd5d7",
            "98f0366e1a3144608d807aeb9d7a2aff",
            "f4575672a3c8498689cb24ae22f17417",
            "3b72f1537907443781cd70b72ef7f130",
            "ce4018d3c04e43d1b9265e34ebf69147",
            "e605913322524092ab211a6d74c26b5a",
            "3cfebf27ec5843dea32ea8ca5dd397ea",
            "29baff6709164c05bfa043f1b9f0824c",
            "68a56e455cd24f15ba377f902ecc3b6b",
            "382eb7ea278941e7914a35edc4574e4c",
            "718c1a6cb6de402a9ae4e4bb6cdaf1f1",
            "4ce30617da1c4c0990444834f2afd7b6",
            "1a2666d384cf4804a60465505a901f22",
            "b3fbf16df65940c688c19d8b5b8ed4d1",
            "75711a434d5b4a33b62383db67774243",
            "9594200c15be488196be74643750fddb",
            "59f4932ed32e4f45a0a8df4e14df181f",
            "3a945bdba0a14983b73ded00ca5fb1b7",
            "931c1d566773416bb4f1fbbe86aa4ce1",
            "c4445004699f4d6596ed78dc86ff471c",
            "11994d636be44d41b07893a100611b72",
            "647606a57a3e40d4917a0f875eae6961",
            "1f267e86f5af445cb33519e7377d1278",
            "bcc5cb3934a34ec08331a1945ee4f82f",
            "d555e2e2d39e4da68fe3729bb2edc6eb",
            "255de0c42b18440b81d05d25275c497d",
            "badc1876fd1d454db83583e83cc4a154",
            "9879c2233d2943a488ca16c5416f56e4",
            "c15db66840f3458597683afa416477b5",
            "aa15481bf033402a914d5259ff13fe5d",
            "78d127d6161345ed8f974f5ae1b39fae",
            "2039acdd4270436081d783a6ea6f0d9c",
            "5dae72c1eb6f48088f41e3165c8ed005",
            "deee9cfb5c284a5a9961b44fea31ab05",
            "3865198ec29446b39f923fde1c46f981",
            "87aadfbf755f4795a62553feba638bb9",
            "8c0bacf9b1904acda0f9790be393161c",
            "d314d761c0a84d49851715b3c1af799f"
          ]
        },
        "id": "lUVKZwQgKb7h",
        "outputId": "9f7b2ca9-797c-4ab6-bd8a-f880e0867668"
      },
      "execution_count": 9,
      "outputs": [
        {
          "output_type": "stream",
          "name": "stderr",
          "text": [
            "[nltk_data] Downloading package punkt to /tmp/llama_index...\n",
            "[nltk_data]   Unzipping tokenizers/punkt.zip.\n"
          ]
        },
        {
          "output_type": "display_data",
          "data": {
            "text/plain": [
              "config.json:   0%|          | 0.00/743 [00:00<?, ?B/s]"
            ],
            "application/vnd.jupyter.widget-view+json": {
              "version_major": 2,
              "version_minor": 0,
              "model_id": "27d170da1ad14b6ea52235836839fa98"
            }
          },
          "metadata": {
            "application/vnd.jupyter.widget-view+json": {
              "colab": {
                "custom_widget_manager": {
                  "url": "https://ssl.gstatic.com/colaboratory-static/widgets/colab-cdn-widget-manager/b3e629b1971e1542/manager.min.js"
                }
              }
            }
          }
        },
        {
          "output_type": "display_data",
          "data": {
            "text/plain": [
              "pytorch_model.bin:   0%|          | 0.00/134M [00:00<?, ?B/s]"
            ],
            "application/vnd.jupyter.widget-view+json": {
              "version_major": 2,
              "version_minor": 0,
              "model_id": "c55488dabee34de8bc1c7a70c6d6b6d1"
            }
          },
          "metadata": {
            "application/vnd.jupyter.widget-view+json": {
              "colab": {
                "custom_widget_manager": {
                  "url": "https://ssl.gstatic.com/colaboratory-static/widgets/colab-cdn-widget-manager/b3e629b1971e1542/manager.min.js"
                }
              }
            }
          }
        },
        {
          "output_type": "display_data",
          "data": {
            "text/plain": [
              "tokenizer_config.json:   0%|          | 0.00/366 [00:00<?, ?B/s]"
            ],
            "application/vnd.jupyter.widget-view+json": {
              "version_major": 2,
              "version_minor": 0,
              "model_id": "ce4018d3c04e43d1b9265e34ebf69147"
            }
          },
          "metadata": {
            "application/vnd.jupyter.widget-view+json": {
              "colab": {
                "custom_widget_manager": {
                  "url": "https://ssl.gstatic.com/colaboratory-static/widgets/colab-cdn-widget-manager/b3e629b1971e1542/manager.min.js"
                }
              }
            }
          }
        },
        {
          "output_type": "display_data",
          "data": {
            "text/plain": [
              "vocab.txt:   0%|          | 0.00/232k [00:00<?, ?B/s]"
            ],
            "application/vnd.jupyter.widget-view+json": {
              "version_major": 2,
              "version_minor": 0,
              "model_id": "9594200c15be488196be74643750fddb"
            }
          },
          "metadata": {
            "application/vnd.jupyter.widget-view+json": {
              "colab": {
                "custom_widget_manager": {
                  "url": "https://ssl.gstatic.com/colaboratory-static/widgets/colab-cdn-widget-manager/b3e629b1971e1542/manager.min.js"
                }
              }
            }
          }
        },
        {
          "output_type": "display_data",
          "data": {
            "text/plain": [
              "tokenizer.json:   0%|          | 0.00/711k [00:00<?, ?B/s]"
            ],
            "application/vnd.jupyter.widget-view+json": {
              "version_major": 2,
              "version_minor": 0,
              "model_id": "badc1876fd1d454db83583e83cc4a154"
            }
          },
          "metadata": {
            "application/vnd.jupyter.widget-view+json": {
              "colab": {
                "custom_widget_manager": {
                  "url": "https://ssl.gstatic.com/colaboratory-static/widgets/colab-cdn-widget-manager/b3e629b1971e1542/manager.min.js"
                }
              }
            }
          }
        },
        {
          "output_type": "display_data",
          "data": {
            "text/plain": [
              "special_tokens_map.json:   0%|          | 0.00/125 [00:00<?, ?B/s]"
            ],
            "application/vnd.jupyter.widget-view+json": {
              "version_major": 2,
              "version_minor": 0,
              "model_id": "d314d761c0a84d49851715b3c1af799f"
            }
          },
          "metadata": {
            "application/vnd.jupyter.widget-view+json": {
              "colab": {
                "custom_widget_manager": {
                  "url": "https://ssl.gstatic.com/colaboratory-static/widgets/colab-cdn-widget-manager/b3e629b1971e1542/manager.min.js"
                }
              }
            }
          }
        }
      ]
    },
    {
      "cell_type": "code",
      "source": [
        "# %%time\n",
        "# query_engine = get_sentence_window_query_engine(index, similarity_top_k=6)"
      ],
      "metadata": {
        "id": "IK2cIFUXKiER"
      },
      "execution_count": null,
      "outputs": []
    },
    {
      "cell_type": "markdown",
      "source": [
        "# **TruLens Evaluation**  "
      ],
      "metadata": {
        "id": "5XsGUBwNL1lQ"
      }
    },
    {
      "cell_type": "code",
      "source": [
        "eval_questions = []\n",
        "path = '/content/questions.txt'\n",
        "with open(path, 'r') as file:\n",
        "    for line in file:\n",
        "        # Remove newline character and convert to integer\n",
        "        item = line.strip()\n",
        "        eval_questions.append(item)"
      ],
      "metadata": {
        "id": "N7LBBHkuMUzz"
      },
      "execution_count": 11,
      "outputs": []
    },
    {
      "cell_type": "code",
      "source": [
        "from trulens_eval import Tru\n",
        "def run_evals(eval_questions, tru_recorder, query_engine):\n",
        "    for question in eval_questions:\n",
        "        with tru_recorder as recording:\n",
        "            response = query_engine.query(question)"
      ],
      "metadata": {
        "id": "7N9MY1QpMeW5"
      },
      "execution_count": 12,
      "outputs": []
    },
    {
      "cell_type": "code",
      "source": [
        "from utils import get_prebuilt_trulens_recorder\n",
        "from trulens_eval import Tru\n",
        "Tru().reset_database()"
      ],
      "metadata": {
        "colab": {
          "base_uri": "https://localhost:8080/"
        },
        "id": "gZXTanVjMhSf",
        "outputId": "b95b0921-3051-4102-9f25-2e79c5c9904e"
      },
      "execution_count": 13,
      "outputs": [
        {
          "output_type": "stream",
          "name": "stdout",
          "text": [
            "🦑 Tru initialized with db url sqlite:///default.sqlite .\n",
            "🛑 Secret keys may be written to the database. See the `database_redact_keys` option of `Tru` to prevent this.\n"
          ]
        }
      ]
    },
    {
      "cell_type": "markdown",
      "source": [
        "# **Sentence window size = 3**  "
      ],
      "metadata": {
        "id": "c24k11S2MpgH"
      }
    },
    {
      "cell_type": "code",
      "source": [
        "%%time\n",
        "sentence_index_3 = build_sentence_window_index(\n",
        "    documents,\n",
        "    llm=OpenAI(model=\"gpt-3.5-turbo\", temperature=0.1),\n",
        "    embed_model=\"local:BAAI/bge-small-en-v1.5\",\n",
        "    sentence_window_size=3,\n",
        "    save_dir=\"sentence_index_3\",\n",
        ")\n",
        "sentence_window_engine_3 = get_sentence_window_query_engine(\n",
        "    sentence_index_3\n",
        ")\n",
        "tru_recorder_3 = get_prebuilt_trulens_recorder(\n",
        "    sentence_window_engine_3,\n",
        "    app_id='sentence window engine 3'\n",
        ")\n",
        "## OpenAIError: The api_key client option must be set either by passing api_key to the client\n",
        "## or by setting the OPENAI_API_KEY environment variable"
      ],
      "metadata": {
        "colab": {
          "base_uri": "https://localhost:8080/"
        },
        "id": "XbbYu6ZnMvWA",
        "outputId": "108bddae-a91c-4780-dc05-f25e7ebf2682"
      },
      "execution_count": 16,
      "outputs": [
        {
          "output_type": "stream",
          "name": "stdout",
          "text": [
            "✅ In Answer Relevance, input prompt will be set to __record__.main_input or `Select.RecordInput` .\n",
            "✅ In Answer Relevance, input response will be set to __record__.main_output or `Select.RecordOutput` .\n",
            "✅ In Context Relevance, input prompt will be set to __record__.main_input or `Select.RecordInput` .\n",
            "✅ In Context Relevance, input response will be set to __record__.app.query.rets.source_nodes[:].node.text .\n",
            "✅ In Groundedness, input source will be set to __record__.app.query.rets.source_nodes[:].node.text .\n",
            "✅ In Groundedness, input statement will be set to __record__.main_output or `Select.RecordOutput` .\n",
            "CPU times: user 14 s, sys: 1.11 s, total: 15.1 s\n",
            "Wall time: 16 s\n"
          ]
        }
      ]
    },
    {
      "cell_type": "code",
      "source": [
        "%%time\n",
        "run_evals(eval_questions, tru_recorder_3, sentence_window_engine_3)"
      ],
      "metadata": {
        "colab": {
          "base_uri": "https://localhost:8080/"
        },
        "id": "Ixz3t2lvM8Pr",
        "outputId": "b41db17b-f7aa-463f-9bbf-327d0df9fd8a"
      },
      "execution_count": 20,
      "outputs": [
        {
          "output_type": "stream",
          "name": "stdout",
          "text": [
            "CPU times: user 2min 19s, sys: 15.3 s, total: 2min 35s\n",
            "Wall time: 4min 25s\n"
          ]
        }
      ]
    },
    {
      "cell_type": "code",
      "source": [
        "Tru().run_dashboard()"
      ],
      "metadata": {
        "colab": {
          "base_uri": "https://localhost:8080/"
        },
        "id": "EVZzrwtUM_Pm",
        "outputId": "f3403a98-0eed-403e-afa3-90fd84d00069"
      },
      "execution_count": 18,
      "outputs": [
        {
          "output_type": "stream",
          "name": "stdout",
          "text": [
            "Starting dashboard ...\n",
            "npx: installed 22 in 4.847s\n",
            "\n",
            "Go to this url and submit the ip given here. your url is: https://fruity-squids-hammer.loca.lt\n",
            "\n",
            "  Submit this IP Address: 34.80.55.246\n",
            "\n"
          ]
        },
        {
          "output_type": "execute_result",
          "data": {
            "text/plain": [
              "<Popen: returncode: None args: ['streamlit', 'run', '--server.headless=True'...>"
            ]
          },
          "metadata": {},
          "execution_count": 18
        }
      ]
    },
    {
      "cell_type": "markdown",
      "source": [
        "<img src=\"https://github.com/Nov05/pictures/blob/master/DLAI/20231213_Building%20and%20Evaluating%20Advanced%20RAG/2023-12-14%2011_01_34-Settings.jpg?raw=true\" width=800>  \n",
        "\n",
        "<img src=\"https://github.com/Nov05/pictures/blob/master/DLAI/20231213_Building%20and%20Evaluating%20Advanced%20RAG/2023-12-14%2011_10_03-Settings.jpg?raw=true\" width=800>  \n",
        "\n",
        "<img src=\"https://github.com/Nov05/pictures/blob/master/DLAI/20231213_Building%20and%20Evaluating%20Advanced%20RAG/2023-12-14%2011_14_04-Evaluations.jpg?raw=true\" width=800>"
      ],
      "metadata": {
        "id": "4TDdNfvQZax-"
      }
    },
    {
      "cell_type": "code",
      "source": [
        "## display output texts\n",
        "import textwrap\n",
        "records, feedback = Tru().get_records_and_feedback(app_ids=[]) ## records is a pandas dataframe\n",
        "n_rows = 10\n",
        "for i in range(n_rows):\n",
        "    input, output = records.loc[i, ['input', 'output']]\n",
        "    print('👉', textwrap.fill(input, 100))\n",
        "    print('▪️', textwrap.fill(output, 100))\n",
        "    output = records.loc[i+n_rows, 'output']\n",
        "    print('▪️', textwrap.fill(output, 100), '\\n')"
      ],
      "metadata": {
        "colab": {
          "base_uri": "https://localhost:8080/"
        },
        "id": "BydyDU-elZ4C",
        "outputId": "ca9b5045-8b1a-48be-8762-512209d53d95"
      },
      "execution_count": 47,
      "outputs": [
        {
          "output_type": "stream",
          "name": "stdout",
          "text": [
            "👉 \"What is the purpose of life? (Alma 34)\"\n",
            "▪️ \"The purpose of life is not mentioned in the given context information.\"\n",
            "▪️ \"The purpose of life is not directly mentioned in the given context information.\" \n",
            "\n",
            "👉 \"Does God know me? (Alma 5:38, 58)\"\n",
            "▪️ \"Yes, God knows you. (Alma 5:38, 58)\"\n",
            "▪️ \"Yes, God knows you. (Alma 5:38, 58)\" \n",
            "\n",
            "👉 \"How does God answer prayers? (Enos 1)\"\n",
            "▪️ \"God answers prayers by communicating with individuals through visions and messengers. In Enos 1,\n",
            "the individual had a vision where a messenger related to him the commandments and instructions from\n",
            "God. The individual then obeyed and went to his father to share the vision, and his father confirmed\n",
            "that it was from God. This suggests that God answers prayers by providing guidance and direction\n",
            "through divine communication.\"\n",
            "▪️ \"God answers prayers by communicating with individuals through visions and messengers. In Enos 1,\n",
            "the individual had a vision and received commandments from a messenger sent by God. This shows that\n",
            "God can answer prayers by providing guidance and instructions through supernatural means.\" \n",
            "\n",
            "👉 \"How can a belief in Jesus Christ help me? (Alma 36)\"\n",
            "▪️ \"Believing in Jesus Christ can bring happiness and joy into one's life. It can also help in\n",
            "developing a closer relationship with God and experiencing His love. Additionally, a belief in Jesus\n",
            "Christ can provide guidance and direction in making choices and decisions.\"\n",
            "▪️ \"Believing in Jesus Christ can bring happiness and joy into one's life. It can also help strengthen\n",
            "family relationships and foster love within the family. Additionally, a belief in Jesus Christ can\n",
            "provide a sense of purpose and direction, as well as a closer relationship with God. Ultimately,\n",
            "having faith in Jesus Christ can lead to salvation and eternal life.\" \n",
            "\n",
            "👉 \"What does Jesus Christ expect of me? (2 Nephi 9)\"\n",
            "▪️ \"Jesus Christ expects you to diligently seek Him and His teachings. He desires that you have faith\n",
            "in Him and strive to keep His commandments. He wants you to come to know Him through the power of\n",
            "the Holy Ghost, which is a gift from God. By seeking Him and following His teachings, you can\n",
            "receive His tender mercies and be blessed with deliverance.\"\n",
            "▪️ \"Jesus Christ expects you to diligently seek Him and His teachings. He desires that you have faith\n",
            "in Him and strive to keep His commandments. He wants you to come to know Him through the power of\n",
            "the Holy Ghost, which is a gift from God. Jesus Christ expects you to repent of your sins and rely\n",
            "on His mercy and grace for forgiveness. He also desires that you have a sincere desire to follow Him\n",
            "and to be obedient to His teachings.\" \n",
            "\n",
            "👉 \"Is there life after death? (Alma 40)\"\n",
            "▪️ \"Yes, there is a discussion about life after death in Alma 40.\"\n",
            "▪️ \"Yes, there is a discussion about life after death in Alma 40.\" \n",
            "\n",
            "👉 \"Why does God allow evil and suffering to occur? (2 Nephi 2; Alma 14:9\\u201311; 60:13)\"\n",
            "▪️ \"God allows evil and suffering to occur because it is a consequence of the agency or free will that\n",
            "He has given to His children. People have the ability to choose between good and evil, and sometimes\n",
            "they choose to do wicked things that result in suffering and evil in the world. However, God also\n",
            "provides a way for individuals to overcome evil and find redemption through the Atonement of Jesus\n",
            "Christ.\"\n",
            "▪️ \"God allows evil and suffering to occur as a consequence of the agency or free will that He has\n",
            "given to His children. This agency allows individuals to choose between good and evil, and with that\n",
            "freedom comes the potential for both positive and negative outcomes. The Book of Mormon teaches that\n",
            "God does not interfere with the choices and actions of individuals, but rather allows them to\n",
            "experience the consequences of their choices. This includes the suffering and evil that may result\n",
            "from the wickedness and abominations of individuals. However, it is also taught that God provides a\n",
            "way for individuals to overcome evil and find redemption through faith in Jesus Christ.\" \n",
            "\n",
            "👉 \"How can I find peace and joy? (Mosiah 2, 4)\"\n",
            "▪️ \"By following the teachings and commandments found in the Book of Mormon, specifically in Mosiah\n",
            "chapters 2 and 4, you can find peace and joy. These chapters contain teachings about serving others,\n",
            "repentance, and relying on the Atonement of Jesus Christ. By applying these principles in your life,\n",
            "you can experience the peace and joy that come from living a righteous and fulfilling life.\"\n",
            "▪️ \"By following the teachings and commandments found in the Book of Mormon, specifically in Mosiah\n",
            "chapters 2 and 4, you can find peace and joy. These chapters contain teachings about serving others,\n",
            "being humble, and turning to God for guidance and forgiveness. By applying these principles in your\n",
            "life, you can experience the peace and joy that come from living a righteous and fulfilling life.\" \n",
            "\n",
            "👉 \"How can my family be happier and more united? (Mosiah 2)\"\n",
            "▪️ \"By keeping the commandments and being faithful, your family can experience greater happiness and\n",
            "unity. It is important to teach and remind each other of the things that the Lord has commanded.\n",
            "Additionally, offering sacrifices and expressing gratitude can also contribute to a happier and more\n",
            "united family.\"\n",
            "▪️ \"By keeping the commandments and being faithful, your family can experience greater happiness and\n",
            "unity. It is important to teach your children to follow the Lord's commandments and to be obedient.\n",
            "By doing so, you can receive blessings and guidance from the Lord, just as Nephi did when he prayed\n",
            "in faith. Additionally, showing love and forgiveness towards one another can help strengthen your\n",
            "family bonds.\" \n",
            "\n",
            "👉 \"How can I avoid sin? (Helaman 5)\"\n",
            "▪️ \"By keeping the commandments, one can avoid sin.\"\n",
            "▪️ \"By keeping the commandments, one can avoid sin.\" \n",
            "\n"
          ]
        }
      ]
    },
    {
      "cell_type": "markdown",
      "source": [
        "# **single questions**"
      ],
      "metadata": {
        "id": "IPARYrl_WyTC"
      }
    },
    {
      "cell_type": "code",
      "source": [
        "%%time\n",
        "window_response = sentence_window_engine_3.query(\n",
        "    \"What does Jesus Christ expect of me? (2 Nephi 9)\"\n",
        ")\n",
        "display_response(window_response)"
      ],
      "metadata": {
        "colab": {
          "base_uri": "https://localhost:8080/",
          "height": 81
        },
        "id": "kyrEPkt2Vb1e",
        "outputId": "6320f58b-f390-4146-947d-3e3ca2a1b5e3"
      },
      "execution_count": 21,
      "outputs": [
        {
          "output_type": "display_data",
          "data": {
            "text/plain": [
              "<IPython.core.display.Markdown object>"
            ],
            "text/markdown": "**`Final Response:`** Jesus Christ expects you to diligently seek Him and His teachings. He desires that you have faith in Him and strive to keep His commandments. He wants you to come to know Him through the power of the Holy Ghost, which is a gift from God. By seeking Him and following His teachings, you can receive His tender mercies and be blessed with deliverance."
          },
          "metadata": {}
        }
      ]
    },
    {
      "cell_type": "code",
      "source": [
        "%%time\n",
        "from llama_index.response.notebook_utils import display_response\n",
        "window_response = sentence_window_engine_3.query(\n",
        "    \"What is the purpose of life? (Alma 34)\"\n",
        ")\n",
        "display_response(window_response)"
      ],
      "metadata": {
        "colab": {
          "base_uri": "https://localhost:8080/",
          "height": 82
        },
        "id": "ZaR0ZwvbWd1o",
        "outputId": "f976dfe4-6eb1-4629-834a-d08ec9ed83cf"
      },
      "execution_count": 22,
      "outputs": [
        {
          "output_type": "display_data",
          "data": {
            "text/plain": [
              "<IPython.core.display.Markdown object>"
            ],
            "text/markdown": "**`Final Response:`** The purpose of life is not mentioned in the given context information."
          },
          "metadata": {}
        },
        {
          "output_type": "stream",
          "name": "stdout",
          "text": [
            "CPU times: user 7.86 s, sys: 21.9 ms, total: 7.89 s\n",
            "Wall time: 19 s\n"
          ]
        }
      ]
    },
    {
      "cell_type": "code",
      "source": [
        "%%time\n",
        "question = 'Summarize The First Book of Nephi.' ## check page 23\n",
        "window_response = sentence_window_engine_3.query(question)\n",
        "display_response(window_response)"
      ],
      "metadata": {
        "colab": {
          "base_uri": "https://localhost:8080/",
          "height": 134
        },
        "id": "fc7r6uBBXU2J",
        "outputId": "41145eb1-2d20-45c0-a288-1742974c0f03"
      },
      "execution_count": 23,
      "outputs": [
        {
          "output_type": "display_data",
          "data": {
            "text/plain": [
              "<IPython.core.display.Markdown object>"
            ],
            "text/markdown": "**`Final Response:`** The First Book of Nephi is an account of Lehi and his family, including his wife Sariah and his four sons: Laman, Lemuel, Sam, and Nephi. Lehi is warned by the Lord to leave Jerusalem because he prophesies about the people's iniquity and they want to kill him. They embark on a three-day journey into the wilderness. Later, Nephi witnesses the power of God with the Gentiles who were delivered from captivity. He also sees that they prosper in the land and encounters an angel who asks him if he knows the meaning of a book, to which Nephi admits he does not."
          },
          "metadata": {}
        },
        {
          "output_type": "stream",
          "name": "stdout",
          "text": [
            "CPU times: user 5.01 s, sys: 13 ms, total: 5.03 s\n",
            "Wall time: 14.6 s\n"
          ]
        }
      ]
    },
    {
      "cell_type": "code",
      "source": [
        "%%time\n",
        "question = 'Summarize 1 Nephi Chapter 3.' ## check page 27\n",
        "window_response = sentence_window_engine_3.query(question)\n",
        "display_response(window_response)"
      ],
      "metadata": {
        "colab": {
          "base_uri": "https://localhost:8080/",
          "height": 117
        },
        "id": "J50KNSkodp9-",
        "outputId": "a8d3e61e-c5d2-4b57-cef9-2ae6c62f19ad"
      },
      "execution_count": 28,
      "outputs": [
        {
          "output_type": "display_data",
          "data": {
            "text/plain": [
              "<IPython.core.display.Markdown object>"
            ],
            "text/markdown": "**`Final Response:`** In 1 Nephi Chapter 3, Nephi and his brothers are commanded by the Lord to return to Jerusalem to obtain the plates of brass, which contain the record of the Jews and the genealogy of their forefathers. Laban, the keeper of the plates, refuses to give them up. Nephi persuades his brothers to be faithful in keeping the commandments of God. They gather their gold, silver, and precious things and return to Laban's house."
          },
          "metadata": {}
        },
        {
          "output_type": "stream",
          "name": "stdout",
          "text": [
            "CPU times: user 6.54 s, sys: 496 ms, total: 7.04 s\n",
            "Wall time: 13.3 s\n"
          ]
        }
      ]
    },
    {
      "cell_type": "markdown",
      "source": [
        "# **others**  \n",
        "\n",
        "* [javascript 1](https://stackoverflow.com/questions/71456390/how-to-keep-the-google-colab-running-without-disconnecting-in-2022), [javascript 2](https://stackoverflow.com/questions/76595272/how-to-stop-google-colab-from-automatically-disconnecting-from-google-drive) that keeps colab running  \n",
        "\n",
        "> Keep your session active: Even though this should not be necessary when a script is actively running, you could use a JavaScript code snippet that will press the Colab connect button for you every few minutes. It's not an ideal solution but has been reported to help some users. Please remember this might be against the terms of service, use with caution.  \n",
        "\n",
        ">You should open the browser's developer tools (usually F12), go to the Console tab, paste the above script and hit Enter.  \n",
        "\n",
        "```\n",
        "function ConnectButton(){\n",
        "    console.log(\"Connect pushed\");\n",
        "    document.querySelector(\"#top-toolbar > colab-connect-button\").shadowRoot.querySelector(\"#connect\").click()\n",
        "}\n",
        "setInterval(ConnectButton,60000);\n",
        "```"
      ],
      "metadata": {
        "id": "qAbVFTkRdAqy"
      }
    },
    {
      "cell_type": "markdown",
      "source": [
        "# **\\<BOTTOM\\>**  "
      ],
      "metadata": {
        "id": "liXCZ5RZJL9P"
      }
    }
  ]
}