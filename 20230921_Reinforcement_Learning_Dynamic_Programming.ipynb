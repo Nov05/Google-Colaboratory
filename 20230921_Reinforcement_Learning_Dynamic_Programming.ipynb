{
  "cells": [
    {
      "cell_type": "markdown",
      "metadata": {
        "id": "view-in-github",
        "colab_type": "text"
      },
      "source": [
        "<a href=\"https://colab.research.google.com/github/Nov05/Google-Colaboratory/blob/master/20230921_Reinforcement_Learning_Dynamic_Programming.ipynb\" target=\"_parent\"><img src=\"https://colab.research.google.com/assets/colab-badge.svg\" alt=\"Open In Colab\"/></a>"
      ]
    },
    {
      "cell_type": "markdown",
      "source": [
        "# **\\<TOP>**\n",
        "\n",
        "* notebook modified by nov05 on 2023-09-21  \n",
        "* go to [the course](https://www.evernote.com/shard/s139/sh/ffaabbf5-ea31-5a78-213b-48167e4f0289/UMDzRqSyPGcJwIRoWuQ8P8U8FHKuHtzEgKENP5pJTi-mDtvPgXw9qtCpiA)  \n",
        "* check [the solution notebook](https://drive.google.com/file/d/12oGx94HW4LCR-5NmeqvJ7QsKu3dGzDqI)  \n",
        "\n",
        "👉 [reinforcement learning cheat sheet](https://github.com/udacity/rl-cheatsheet/blob/master/cheatsheet.pdf)  \n",
        "\n",
        "<img src=\"https://github.com/Nov05/pictures/blob/master/Udacity/20231221_reinforcement%20learning/dl_dynamic%20programming.jpg?raw=true\">  "
      ],
      "metadata": {
        "id": "mhyUvntT5a7c"
      }
    },
    {
      "cell_type": "markdown",
      "source": [
        "👉 to reproduce the results:  \n",
        "* uncomment the following cell (Ctrl+/), run it, restart the session (Ctrl+M.).\n",
        "* then comment the cell (Ctrl+/), click on menu \"Runtime -> Run All\" (Ctrl+F9)."
      ],
      "metadata": {
        "id": "s3pPxMQYhv03"
      }
    },
    {
      "cell_type": "code",
      "source": [
        "# ## get the \"dynamic-programming\" folder\n",
        "# !gdown --no-check-certificate --folder https://drive.google.com/drive/folders/11-O8E-C7zZYyixRPJ4uqnSNv03EgfKUL\n",
        "# !pip uninstall gym ## colab pre-installed 0.25.2\n",
        "# !pip install gym==0.9.6\n",
        "# import gym\n",
        "# print(gym.__version__)\n",
        "# ## restart the session \"Ctrl+M.\""
      ],
      "metadata": {
        "id": "iavAYTM4V-xt"
      },
      "execution_count": 1,
      "outputs": []
    },
    {
      "cell_type": "code",
      "source": [
        "%cd /content/dynamic-programming\n",
        "!pwd"
      ],
      "metadata": {
        "colab": {
          "base_uri": "https://localhost:8080/"
        },
        "id": "Z4OdtcEW-yZ2",
        "outputId": "f744e19f-2e2d-403f-c3ea-aaf86fae3371"
      },
      "execution_count": 2,
      "outputs": [
        {
          "output_type": "stream",
          "name": "stdout",
          "text": [
            "/content/dynamic-programming\n",
            "/content/dynamic-programming\n"
          ]
        }
      ]
    },
    {
      "cell_type": "markdown",
      "metadata": {
        "id": "-s6rXnYFjuWp"
      },
      "source": [
        "# Mini Project: Dynamic Programming\n",
        "\n",
        "In this notebook, you will write your own implementations of many classical dynamic programming algorithms.  \n",
        "\n",
        "While we have provided some starter code, you are welcome to erase these hints and write your code from scratch."
      ]
    },
    {
      "cell_type": "markdown",
      "metadata": {
        "id": "qNCMxuYnjuWs"
      },
      "source": [
        "### Part 0: Explore FrozenLakeEnv\n",
        "\n",
        "Use the code cell below to create an instance of the [FrozenLake](https://github.com/openai/gym/blob/master/gym/envs/toy_text/frozen_lake.py) environment."
      ]
    },
    {
      "cell_type": "code",
      "execution_count": 3,
      "metadata": {
        "collapsed": true,
        "id": "rjlAMaQtjuWs"
      },
      "outputs": [],
      "source": [
        "## local import\n",
        "from frozenlake import FrozenLakeEnv\n",
        "env = FrozenLakeEnv()"
      ]
    },
    {
      "cell_type": "markdown",
      "metadata": {
        "id": "8MapNsrNjuWt"
      },
      "source": [
        "The agent moves through a $4 \\times 4$ gridworld, with states numbered as follows:\n",
        "```\n",
        "[[ 0  1  2  3]\n",
        " [ 4  5  6  7]\n",
        " [ 8  9 10 11]\n",
        " [12 13 14 15]]\n",
        "```\n",
        "and the agent has 4 potential actions:\n",
        "```\n",
        "LEFT = 0\n",
        "DOWN = 1\n",
        "RIGHT = 2\n",
        "UP = 3\n",
        "```\n",
        "\n",
        "Thus, $\\mathcal{S}^+ = \\{0, 1, \\ldots, 15\\}$, and $\\mathcal{A} = \\{0, 1, 2, 3\\}$.  Verify this by running the code cell below."
      ]
    },
    {
      "cell_type": "code",
      "execution_count": 4,
      "metadata": {
        "collapsed": true,
        "id": "zVhtIllYjuWu",
        "colab": {
          "base_uri": "https://localhost:8080/"
        },
        "outputId": "81eaa007-f342-4233-c205-ae3e52a31211"
      },
      "outputs": [
        {
          "output_type": "stream",
          "name": "stdout",
          "text": [
            "Discrete(16)\n",
            "Discrete(4)\n",
            "16\n",
            "4\n"
          ]
        }
      ],
      "source": [
        "## print the state space and action space\n",
        "print(env.observation_space)\n",
        "print(env.action_space)\n",
        "## print the total number of states and actions\n",
        "print(env.nS)\n",
        "print(env.nA)"
      ]
    },
    {
      "cell_type": "markdown",
      "metadata": {
        "id": "3fAftlMcjuWu"
      },
      "source": [
        "Dynamic programming assumes that the agent has full knowledge of the MDP (**Markov decision process**).  We have already amended the `frozenlake.py` file to make the one-step dynamics accessible to the agent.  \n",
        "\n",
        "Execute the code cell below to return the one-step dynamics corresponding to a particular state and action.  In particular, `env.P[1][0]` returns the the probability of each possible reward and next state, if the agent is in state 1 of the gridworld and decides to go left."
      ]
    },
    {
      "cell_type": "code",
      "execution_count": 5,
      "metadata": {
        "collapsed": true,
        "id": "tP4b1b7FjuWu",
        "colab": {
          "base_uri": "https://localhost:8080/"
        },
        "outputId": "beeef5fa-d349-481c-ef23-c4ae94e60ece"
      },
      "outputs": [
        {
          "output_type": "execute_result",
          "data": {
            "text/plain": [
              "[(0.3333333333333333, 1, 0.0, False),\n",
              " (0.3333333333333333, 0, 0.0, False),\n",
              " (0.3333333333333333, 5, 0.0, True)]"
            ]
          },
          "metadata": {},
          "execution_count": 5
        }
      ],
      "source": [
        "env.P[1][0] ## state = 1, go left = 0\n",
        "## returns prob, next_state, reward, done"
      ]
    },
    {
      "cell_type": "markdown",
      "metadata": {
        "id": "z2PRYA_1juWv"
      },
      "source": [
        "Each entry takes the form\n",
        "```\n",
        "prob, next_state, reward, done\n",
        "```\n",
        "where:\n",
        "- `prob` details the conditional probability of the corresponding (`next_state`, `reward`) pair, and\n",
        "- `done` is `True` if the `next_state` is a terminal state, and otherwise `False`.\n",
        "\n",
        "Thus, we can interpret `env.P[1][0]` as follows:\n",
        "$$\n",
        "\\mathbb{P}(S_{t+1}=s',R_{t+1}=r|S_t=1,A_t=0) = \\begin{cases}\n",
        "               \\frac{1}{3} \\text{ if } s'=1, r=0\\\\\n",
        "               \\frac{1}{3} \\text{ if } s'=0, r=0\\\\\n",
        "               \\frac{1}{3} \\text{ if } s'=5, r=0\\\\\n",
        "               0 \\text{ else}\n",
        "            \\end{cases}\n",
        "$$\n",
        "\n",
        "To understand the value of `env.P[1][0]`, note that when you create a FrozenLake environment, it takes as an (optional) argument `is_slippery`, which defaults to `True`.  \n",
        "\n",
        "To see this, change the first line in the notebook from `env = FrozenLakeEnv()` to `env = FrozenLakeEnv(is_slippery=False)`.  Then, when you check `env.P[1][0]`, it should look like what you expect (i.e., `env.P[1][0] = [(1.0, 0, 0.0, False)]`).\n",
        "\n",
        "The default value for the `is_slippery` argument is `True`, and so `env = FrozenLakeEnv()` is equivalent to `env = FrozenLakeEnv(is_slippery=True)`.  In the event that `is_slippery=True`, you see that this can result in the agent moving in a direction that it did not intend (where the idea is that the ground is *slippery*, and so the agent can slide to a location other than the one it wanted).\n",
        "\n",
        "Feel free to change the code cell above to explore how the environment behaves in response to other (state, action) pairs.  \n",
        "\n",
        "Before proceeding to the next part, make sure that you set `is_slippery=True`, so that your implementations below will work with the slippery environment!"
      ]
    },
    {
      "cell_type": "markdown",
      "metadata": {
        "id": "iuZgr1vOjuWv"
      },
      "source": [
        "### Part 1: Iterative Policy Evaluation\n",
        "\n",
        "In this section, you will write your own implementation of iterative policy evaluation.\n",
        "\n",
        "Your algorithm should accept four arguments as **input**:\n",
        "- `env`: This is an instance of an OpenAI Gym environment, where `env.P` returns the one-step dynamics.\n",
        "- `policy`: This is a 2D numpy array with `policy.shape[0]` equal to the number of states (`env.nS`), and `policy.shape[1]` equal to the number of actions (`env.nA`).  `policy[s][a]` returns the probability that the agent takes action `a` while in state `s` under the policy.\n",
        "- `gamma`: This is the discount rate.  It must be a value between 0 and 1, inclusive (default value: `1`).\n",
        "- `theta`: This is a very small positive number that is used to decide if the estimate has sufficiently converged to the true value function (default value: `1e-8`).\n",
        "\n",
        "The algorithm returns as **output**:\n",
        "- `V`: This is a 1D numpy array with `V.shape[0]` equal to the number of states (`env.nS`).  `V[s]` contains the estimated value of state `s` under the input policy.\n",
        "\n",
        "Please complete the function in the code cell below.\n",
        "\n",
        "<img src=\"https://github.com/Nov05/pictures/blob/master/Udacity/20231221_reinforcement%20learning/policy-eval.png?raw=true\" width=400>"
      ]
    },
    {
      "cell_type": "code",
      "execution_count": 6,
      "metadata": {
        "collapsed": true,
        "id": "bI_nM7lLjuWw"
      },
      "outputs": [],
      "source": [
        "import numpy as np\n",
        "def policy_evaluation(env, policy, gamma=1, theta=1e-8):\n",
        "    V = np.zeros(env.nS)\n",
        "    ## TODO: complete the function\n",
        "    for _ in range(10000): ## in case of divergence? well, this is basically the truncated version\n",
        "        delta = 0\n",
        "        for s in range(env.nS):\n",
        "            v, vs = V[s], 0\n",
        "            for (a, pi_as) in enumerate(policy[s]):\n",
        "                if pi_as:\n",
        "                    vs_ = 0\n",
        "                    for (prob, next_state, reward, done) in env.P[s][a]:\n",
        "                        if prob:\n",
        "                            vs_ += prob * (reward + gamma * V[next_state])\n",
        "                    vs += pi_as * vs_\n",
        "            V[s] = vs\n",
        "            delta = max(delta, abs(v-V[s]))\n",
        "        if delta < theta:\n",
        "            exit\n",
        "    return V"
      ]
    },
    {
      "cell_type": "markdown",
      "metadata": {
        "id": "p4B7mmfejuWw"
      },
      "source": [
        "We will evaluate the equiprobable random policy $\\pi$, where $\\pi(a|s) = \\frac{1}{|\\mathcal{A}(s)|}$ for all $s\\in\\mathcal{S}$ and $a\\in\\mathcal{A}(s)$.  \n",
        "\n",
        "Use the code cell below to specify this policy in the variable `random_policy`."
      ]
    },
    {
      "cell_type": "code",
      "execution_count": 7,
      "metadata": {
        "collapsed": true,
        "id": "poxpYv5ljuWw"
      },
      "outputs": [],
      "source": [
        "random_policy = np.ones([env.nS, env.nA]) / env.nA"
      ]
    },
    {
      "cell_type": "markdown",
      "metadata": {
        "id": "M45XT2FOjuWw"
      },
      "source": [
        "Run the next code cell to evaluate the equiprobable random policy and visualize the output.  The state-value function has been reshaped to match the shape of the gridworld."
      ]
    },
    {
      "cell_type": "code",
      "execution_count": 8,
      "metadata": {
        "collapsed": true,
        "id": "4O2UM3RIjuWw",
        "colab": {
          "base_uri": "https://localhost:8080/",
          "height": 521
        },
        "outputId": "7787c6dc-2084-4339-ce6b-bf947b3b22b9"
      },
      "outputs": [
        {
          "output_type": "display_data",
          "data": {
            "text/plain": [
              "<Figure size 600x600 with 1 Axes>"
            ],
            "image/png": "[encoded data removed]"
          },
          "metadata": {}
        }
      ],
      "source": [
        "from plot_utils import plot_values\n",
        "# evaluate the policy\n",
        "V = policy_evaluation(env, random_policy)\n",
        "plot_values(V)"
      ]
    },
    {
      "cell_type": "markdown",
      "metadata": {
        "id": "wfGlVoCNjuWx"
      },
      "source": [
        "Run the code cell below to test your function.  If the code cell returns **PASSED**, then you have implemented the function correctly!  \n",
        "\n",
        "**Note:** In order to ensure accurate results, make sure that your `policy_evaluation` function satisfies the requirements outlined above (with four inputs, a single output, and with the default values of the input arguments unchanged)."
      ]
    },
    {
      "cell_type": "code",
      "execution_count": 9,
      "metadata": {
        "collapsed": true,
        "id": "sZpaUc33juWx",
        "colab": {
          "base_uri": "https://localhost:8080/",
          "height": 46
        },
        "outputId": "f75c553b-76a8-42ef-cbfd-66cf633d8567"
      },
      "outputs": [
        {
          "output_type": "display_data",
          "data": {
            "text/plain": [
              "<IPython.core.display.Markdown object>"
            ],
            "text/markdown": "**<span style=\"color: green;\">PASSED</span>**"
          },
          "metadata": {}
        }
      ],
      "source": [
        "import check_test\n",
        "check_test.run_check('policy_evaluation_check', policy_evaluation)"
      ]
    },
    {
      "cell_type": "markdown",
      "metadata": {
        "id": "HJmidH9ojuWx"
      },
      "source": [
        "### Part 2: Obtain $q_\\pi$ from $v_\\pi$\n",
        "\n",
        "In this section, you will write a function that takes the state-value function estimate as input, along with some state $s\\in\\mathcal{S}$.  It returns the **row in the action-value function** corresponding to the input state $s\\in\\mathcal{S}$.  That is, your function should accept as input both $v_\\pi$ and $s$, and return $q_\\pi(s,a)$ for all $a\\in\\mathcal{A}(s)$.\n",
        "\n",
        "Your algorithm should accept four arguments as **input**:\n",
        "- `env`: This is an instance of an OpenAI Gym environment, where `env.P` returns the one-step dynamics.\n",
        "- `V`: This is a 1D numpy array with `V.shape[0]` equal to the number of states (`env.nS`).  `V[s]` contains the estimated value of state `s`.\n",
        "- `s`: This is an integer corresponding to a state in the environment.  It should be a value between `0` and `(env.nS)-1`, inclusive.\n",
        "- `gamma`: This is the discount rate.  It must be a value between 0 and 1, inclusive (default value: `1`).\n",
        "\n",
        "The algorithm returns as **output**:\n",
        "- `q`: This is a 1D numpy array with `q.shape[0]` equal to the number of actions (`env.nA`).  `q[a]` contains the (estimated) value of state `s` and action `a`.\n",
        "\n",
        "Please complete the function in the code cell below.\n",
        "\n",
        "<img src=\"https://github.com/Nov05/pictures/blob/master/Udacity/20231221_reinforcement%20learning/est-action.jpg?raw=true\" width=400>  "
      ]
    },
    {
      "cell_type": "code",
      "execution_count": 10,
      "metadata": {
        "collapsed": true,
        "id": "FQdQqKTRjuWx"
      },
      "outputs": [],
      "source": [
        "import numpy as np\n",
        "def q_from_v(env, V, s, gamma=1):\n",
        "    q = np.zeros(env.nA)\n",
        "    ## TODO: complete the function\n",
        "    for a in range(env.nA):\n",
        "        for (prob, next_state, reward, done) in env.P[s][a]:\n",
        "            if prob:\n",
        "                q[a] += prob * (reward + gamma * V[next_state])\n",
        "    return q"
      ]
    },
    {
      "cell_type": "markdown",
      "metadata": {
        "id": "mPCHiMvUjuWx"
      },
      "source": [
        "Run the code cell below to print the action-value function corresponding to the above state-value function."
      ]
    },
    {
      "cell_type": "code",
      "execution_count": 11,
      "metadata": {
        "collapsed": true,
        "id": "FPuBgXb9juWx",
        "colab": {
          "base_uri": "https://localhost:8080/"
        },
        "outputId": "9e6333c3-4620-42fa-bcc4-de8bd667ccab"
      },
      "outputs": [
        {
          "output_type": "stream",
          "name": "stdout",
          "text": [
            "Action-Value Function:\n",
            "[[0.01470942 0.0139398  0.0139398  0.01317017]\n",
            " [0.00852357 0.01163093 0.0108613  0.0155079 ]\n",
            " [0.02444515 0.02095299 0.02406034 0.01435347]\n",
            " [0.01047649 0.01047649 0.00698433 0.01396866]\n",
            " [0.02166489 0.01701829 0.01624867 0.01006282]\n",
            " [0.         0.         0.         0.        ]\n",
            " [0.05433538 0.04735105 0.05433538 0.00698433]\n",
            " [0.         0.         0.         0.        ]\n",
            " [0.01701829 0.04099204 0.0348062  0.04640827]\n",
            " [0.07020886 0.11755991 0.10595784 0.05895312]\n",
            " [0.18940422 0.17582037 0.16001424 0.04297382]\n",
            " [0.         0.         0.         0.        ]\n",
            " [0.         0.         0.         0.        ]\n",
            " [0.08799677 0.20503718 0.23442716 0.17582037]\n",
            " [0.25238824 0.53837052 0.52711478 0.43929118]\n",
            " [0.         0.         0.         0.        ]]\n"
          ]
        }
      ],
      "source": [
        "Q = np.zeros([env.nS, env.nA])\n",
        "for s in range(env.nS):\n",
        "    Q[s] = q_from_v(env, V, s)\n",
        "print(\"Action-Value Function:\")\n",
        "print(Q)"
      ]
    },
    {
      "cell_type": "markdown",
      "metadata": {
        "id": "iIJLNDezjuWx"
      },
      "source": [
        "Run the code cell below to test your function.  If the code cell returns **PASSED**, then you have implemented the function correctly!  \n",
        "\n",
        "**Note:** In order to ensure accurate results, make sure that the `q_from_v` function satisfies the requirements outlined above (with four inputs, a single output, and with the default values of the input arguments unchanged)."
      ]
    },
    {
      "cell_type": "code",
      "execution_count": 12,
      "metadata": {
        "collapsed": true,
        "id": "WgxCNRyrjuWx",
        "colab": {
          "base_uri": "https://localhost:8080/",
          "height": 46
        },
        "outputId": "a902f6ac-7250-43d0-bcca-4e643f92de84"
      },
      "outputs": [
        {
          "output_type": "display_data",
          "data": {
            "text/plain": [
              "<IPython.core.display.Markdown object>"
            ],
            "text/markdown": "**<span style=\"color: green;\">PASSED</span>**"
          },
          "metadata": {}
        }
      ],
      "source": [
        "check_test.run_check('q_from_v_check', q_from_v)"
      ]
    },
    {
      "cell_type": "markdown",
      "metadata": {
        "id": "G8AivJ_-juWy"
      },
      "source": [
        "### Part 3: Policy Improvement\n",
        "\n",
        "In this section, you will write your own implementation of policy improvement.\n",
        "\n",
        "Your algorithm should accept three arguments as **input**:\n",
        "- `env`: This is an instance of an OpenAI Gym environment, where `env.P` returns the one-step dynamics.\n",
        "- `V`: This is a 1D numpy array with `V.shape[0]` equal to the number of states (`env.nS`).  `V[s]` contains the estimated value of state `s`.\n",
        "- `gamma`: This is the discount rate.  It must be a value between 0 and 1, inclusive (default value: `1`).\n",
        "\n",
        "The algorithm returns as **output**:\n",
        "- `policy`: This is a 2D numpy array with `policy.shape[0]` equal to the number of states (`env.nS`), and `policy.shape[1]` equal to the number of actions (`env.nA`).  `policy[s][a]` returns the probability that the agent takes action `a` while in state `s` under the policy.\n",
        "\n",
        "Please complete the function in the code cell below.  You are encouraged to use the `q_from_v` function you implemented above.  \n",
        "\n",
        "<img src=\"https://github.com/Nov05/pictures/blob/master/Udacity/20231221_reinforcement%20learning/2023-12-22%2002_40_59-improve.png%20%E2%80%8E-%20Photos.jpg?raw=true\" width=400>  "
      ]
    },
    {
      "cell_type": "code",
      "execution_count": 13,
      "metadata": {
        "collapsed": true,
        "id": "5baSYwfMjuWy"
      },
      "outputs": [],
      "source": [
        "## any policy that (for each state) assigns zero probability to the actions that\n",
        "## do not maximize the action-value function estimate (for that state) is an improved policy\n",
        "import numpy as np\n",
        "def policy_improvement(env, V, gamma=1):\n",
        "    policy = np.zeros([env.nS, env.nA]) / env.nA\n",
        "    ## TODO: complete the function\n",
        "    for s in range(env.nS):\n",
        "        q_max, a_argmax = 0, 0\n",
        "        for a in range(env.nA):\n",
        "            q = 0\n",
        "            for (prob, next_state, reward, done) in env.P[s][a]:\n",
        "                if prob:\n",
        "                    q += prob * (reward + gamma * V[next_state])\n",
        "            if q > q_max:\n",
        "                q_max, a_argmax = q, a\n",
        "        policy[s][a_argmax] = 1\n",
        "    return policy"
      ]
    },
    {
      "cell_type": "markdown",
      "metadata": {
        "id": "tkExYGLPjuWy"
      },
      "source": [
        "Run the code cell below to test your function.  If the code cell returns **PASSED**, then you have implemented the function correctly!  \n",
        "\n",
        "**Note:** In order to ensure accurate results, make sure that the `policy_improvement` function satisfies the requirements outlined above (with three inputs, a single output, and with the default values of the input arguments unchanged).\n",
        "\n",
        "Before moving on to the next part of the notebook, you are strongly encouraged to check out the solution in **Dynamic_Programming_Solution.ipynb**.  There are many correct ways to approach this function!"
      ]
    },
    {
      "cell_type": "code",
      "execution_count": 14,
      "metadata": {
        "collapsed": true,
        "id": "rQPb-X-QjuWy",
        "colab": {
          "base_uri": "https://localhost:8080/",
          "height": 46
        },
        "outputId": "2b9cb1ba-5bed-4878-a0be-90217819dc14"
      },
      "outputs": [
        {
          "output_type": "display_data",
          "data": {
            "text/plain": [
              "<IPython.core.display.Markdown object>"
            ],
            "text/markdown": "**<span style=\"color: green;\">PASSED</span>**"
          },
          "metadata": {}
        }
      ],
      "source": [
        "import check_test\n",
        "check_test.run_check('policy_improvement_check', policy_improvement)"
      ]
    },
    {
      "cell_type": "markdown",
      "metadata": {
        "id": "4JDpxogRjuWy"
      },
      "source": [
        "### Part 4: Policy Iteration\n",
        "\n",
        "In this section, you will write your own implementation of policy iteration.  The algorithm returns the optimal policy, along with its corresponding state-value function.\n",
        "\n",
        "Your algorithm should accept three arguments as **input**:\n",
        "- `env`: This is an instance of an OpenAI Gym environment, where `env.P` returns the one-step dynamics.\n",
        "- `gamma`: This is the discount rate.  It must be a value between 0 and 1, inclusive (default value: `1`).\n",
        "- `theta`: This is a very small positive number that is used to decide if the policy evaluation step has sufficiently converged to the true value function (default value: `1e-8`).\n",
        "\n",
        "The algorithm returns as **output**:\n",
        "- `policy`: This is a 2D numpy array with `policy.shape[0]` equal to the number of states (`env.nS`), and `policy.shape[1]` equal to the number of actions (`env.nA`).  `policy[s][a]` returns the probability that the agent takes action `a` while in state `s` under the policy.\n",
        "- `V`: This is a 1D numpy array with `V.shape[0]` equal to the number of states (`env.nS`).  `V[s]` contains the estimated value of state `s`.\n",
        "\n",
        "Please complete the function in the code cell below.  You are strongly encouraged to use the `policy_evaluation` and `policy_improvement` functions you implemented above.\n",
        "\n",
        "<img src=\"https://github.com/Nov05/pictures/blob/master/Udacity/20231221_reinforcement%20learning/04_iteration.jpg?raw=true\" width=400>  "
      ]
    },
    {
      "cell_type": "code",
      "execution_count": 15,
      "metadata": {
        "collapsed": true,
        "id": "t1Sxs3_wjuWy"
      },
      "outputs": [],
      "source": [
        "import copy\n",
        "def policy_iteration(env, gamma=1, theta=1e-8):\n",
        "    policy = np.ones([env.nS, env.nA]) / env.nA\n",
        "    ## TODO: complete the function\n",
        "    for _ in range(10000): ## in case of divergency? well, basically this is the truncated version\n",
        "        V = policy_evaluation(env, policy, gamma=gamma, theta=theta)\n",
        "        policy_new = policy_improvement(env, V, gamma=gamma)\n",
        "        if (policy==policy_new).all(): ## pay attention here\n",
        "            break\n",
        "        # policy = copy.copy(policy_new) ## both work\n",
        "        policy = np.copy(policy_new)\n",
        "    return policy, V"
      ]
    },
    {
      "cell_type": "markdown",
      "metadata": {
        "id": "yfYPn01gjuWy"
      },
      "source": [
        "Run the next code cell to solve the MDP and visualize the output.  The optimal state-value function has been reshaped to match the shape of the gridworld.\n",
        "\n",
        "**Compare the optimal state-value function to the state-value function from Part 1 of this notebook**.  _Is the optimal state-value function consistently greater than or equal to the state-value function for the equiprobable random policy?_"
      ]
    },
    {
      "cell_type": "code",
      "execution_count": 16,
      "metadata": {
        "collapsed": true,
        "id": "gIVbdE0ujuWy",
        "colab": {
          "base_uri": "https://localhost:8080/",
          "height": 841
        },
        "outputId": "7c27736f-34a8-48ba-f174-2318691695f7"
      },
      "outputs": [
        {
          "output_type": "stream",
          "name": "stdout",
          "text": [
            "Optimal Policy (LEFT = 0, DOWN = 1, RIGHT = 2, UP = 3):\n",
            "[[1. 0. 0. 0.]\n",
            " [0. 0. 0. 1.]\n",
            " [0. 0. 0. 1.]\n",
            " [0. 0. 0. 1.]\n",
            " [1. 0. 0. 0.]\n",
            " [1. 0. 0. 0.]\n",
            " [1. 0. 0. 0.]\n",
            " [1. 0. 0. 0.]\n",
            " [0. 0. 0. 1.]\n",
            " [0. 1. 0. 0.]\n",
            " [1. 0. 0. 0.]\n",
            " [1. 0. 0. 0.]\n",
            " [1. 0. 0. 0.]\n",
            " [0. 0. 1. 0.]\n",
            " [0. 1. 0. 0.]\n",
            " [1. 0. 0. 0.]] \n",
            "\n"
          ]
        },
        {
          "output_type": "display_data",
          "data": {
            "text/plain": [
              "<Figure size 600x600 with 1 Axes>"
            ],
            "image/png": "[encoded data removed]"
          },
          "metadata": {}
        }
      ],
      "source": [
        "# obtain the optimal policy and optimal state-value function\n",
        "policy_pi, V_pi = policy_iteration(env)\n",
        "\n",
        "# print the optimal policy\n",
        "print(\"Optimal Policy (LEFT = 0, DOWN = 1, RIGHT = 2, UP = 3):\")\n",
        "print(policy_pi,\"\\n\")\n",
        "\n",
        "from plot_utils import plot_values\n",
        "plot_values(V_pi)"
      ]
    },
    {
      "cell_type": "markdown",
      "metadata": {
        "id": "B5Ftmp-AjuWz"
      },
      "source": [
        "Run the code cell below to test your function.  If the code cell returns **PASSED**, then you have implemented the function correctly!  \n",
        "\n",
        "**Note:** In order to ensure accurate results, make sure that the `policy_iteration` function satisfies the requirements outlined above (with three inputs, two outputs, and with the default values of the input arguments unchanged)."
      ]
    },
    {
      "cell_type": "code",
      "execution_count": 17,
      "metadata": {
        "collapsed": true,
        "id": "uEwFYzlVjuWz",
        "colab": {
          "base_uri": "https://localhost:8080/",
          "height": 46
        },
        "outputId": "4f424fd8-cd0b-4cb0-c035-46b84dda067f"
      },
      "outputs": [
        {
          "output_type": "display_data",
          "data": {
            "text/plain": [
              "<IPython.core.display.Markdown object>"
            ],
            "text/markdown": "**<span style=\"color: green;\">PASSED</span>**"
          },
          "metadata": {}
        }
      ],
      "source": [
        "check_test.run_check('policy_iteration_check', policy_iteration)"
      ]
    },
    {
      "cell_type": "markdown",
      "metadata": {
        "id": "F_AwtcOCjuWz"
      },
      "source": [
        "### Part 5: Truncated Policy Iteration\n",
        "\n",
        "In this section, you will write your own implementation of truncated policy iteration.  \n",
        "\n",
        "You will begin by implementing truncated policy evaluation.  Your algorithm should accept five arguments as **input**:\n",
        "- `env`: This is an instance of an OpenAI Gym environment, where `env.P` returns the one-step dynamics.\n",
        "- `policy`: This is a 2D numpy array with `policy.shape[0]` equal to the number of states (`env.nS`), and `policy.shape[1]` equal to the number of actions (`env.nA`).  `policy[s][a]` returns the probability that the agent takes action `a` while in state `s` under the policy.\n",
        "- `V`: This is a 1D numpy array with `V.shape[0]` equal to the number of states (`env.nS`).  `V[s]` contains the estimated value of state `s`.\n",
        "- `max_it`: This is a positive integer that corresponds to the number of sweeps through the state space (default value: `1`).\n",
        "- `gamma`: This is the discount rate.  It must be a value between 0 and 1, inclusive (default value: `1`).\n",
        "\n",
        "The algorithm returns as **output**:\n",
        "- `V`: This is a 1D numpy array with `V.shape[0]` equal to the number of states (`env.nS`).  `V[s]` contains the estimated value of state `s`.\n",
        "\n",
        "Please complete the function in the code cell below.\n",
        "\n",
        "<img src=\"https://github.com/Nov05/pictures/blob/master/Udacity/20231221_reinforcement%20learning/05_truncated-eval.jpg?raw=true\" width=400>  "
      ]
    },
    {
      "cell_type": "code",
      "execution_count": 18,
      "metadata": {
        "collapsed": true,
        "id": "-Ur7gHtajuWz"
      },
      "outputs": [],
      "source": [
        "def truncated_policy_evaluation(env, policy, V, max_it=1, gamma=1):\n",
        "    ## TODO: complete the function\n",
        "    for _ in range(max_it):\n",
        "        for s in range(env.nS):\n",
        "            v = 0\n",
        "            qs = q_from_v(env, V, s, gamma=gamma)\n",
        "            for a, action_prob in enumerate(policy[s]):\n",
        "                v += action_prob * qs[a]\n",
        "            V[s] = v\n",
        "    return V"
      ]
    },
    {
      "cell_type": "markdown",
      "metadata": {
        "id": "TQPK9apPjuWz"
      },
      "source": [
        "Next, you will implement truncated policy iteration.  Your algorithm should accept five arguments as **input**:\n",
        "- `env`: This is an instance of an OpenAI Gym environment, where `env.P` returns the one-step dynamics.\n",
        "- `max_it`: This is a positive integer that corresponds to the number of sweeps through the state space (default value: `1`).\n",
        "- `gamma`: This is the discount rate.  It must be a value between 0 and 1, inclusive (default value: `1`).\n",
        "- `theta`: This is a very small positive number that is used for the stopping criterion (default value: `1e-8`).\n",
        "\n",
        "The algorithm returns as **output**:\n",
        "- `policy`: This is a 2D numpy array with `policy.shape[0]` equal to the number of states (`env.nS`), and `policy.shape[1]` equal to the number of actions (`env.nA`).  `policy[s][a]` returns the probability that the agent takes action `a` while in state `s` under the policy.\n",
        "- `V`: This is a 1D numpy array with `V.shape[0]` equal to the number of states (`env.nS`).  `V[s]` contains the estimated value of state `s`.\n",
        "\n",
        "Please complete the function in the code cell below."
      ]
    },
    {
      "cell_type": "code",
      "execution_count": 19,
      "metadata": {
        "collapsed": true,
        "id": "C2WodOBqjuWz"
      },
      "outputs": [],
      "source": [
        "def truncated_policy_iteration(env, max_it=1, gamma=1, theta=1e-8):\n",
        "    V = np.zeros(env.nS)\n",
        "    policy = np.zeros([env.nS, env.nA]) / env.nA\n",
        "    ## TODO: complete the function\n",
        "    while True:\n",
        "        policy = policy_improvement(env, V)\n",
        "        # V_old = copy.copy(V)\n",
        "        V_old = np.copy(V)\n",
        "        V = truncated_policy_evaluation(env, policy, V, max_it, gamma)\n",
        "        if max(abs(V-V_old)) < theta:\n",
        "            break\n",
        "    return policy, V"
      ]
    },
    {
      "cell_type": "markdown",
      "metadata": {
        "id": "XJu3z99DjuWz"
      },
      "source": [
        "Run the next code cell to solve the MDP and visualize the output.  The state-value function has been reshaped to match the shape of the gridworld.\n",
        "\n",
        "Play with the value of the `max_it` argument.  Do you always end with the optimal state-value function?"
      ]
    },
    {
      "cell_type": "code",
      "execution_count": 20,
      "metadata": {
        "collapsed": true,
        "id": "WfAMgVwtjuWz",
        "colab": {
          "base_uri": "https://localhost:8080/",
          "height": 841
        },
        "outputId": "a88c38a1-0fee-416b-e631-d1d05bb286b9"
      },
      "outputs": [
        {
          "output_type": "stream",
          "name": "stdout",
          "text": [
            "Optimal Policy (LEFT = 0, DOWN = 1, RIGHT = 2, UP = 3):\n",
            "[[1. 0. 0. 0.]\n",
            " [0. 0. 0. 1.]\n",
            " [0. 0. 0. 1.]\n",
            " [0. 0. 0. 1.]\n",
            " [1. 0. 0. 0.]\n",
            " [1. 0. 0. 0.]\n",
            " [1. 0. 0. 0.]\n",
            " [1. 0. 0. 0.]\n",
            " [0. 0. 0. 1.]\n",
            " [0. 1. 0. 0.]\n",
            " [1. 0. 0. 0.]\n",
            " [1. 0. 0. 0.]\n",
            " [1. 0. 0. 0.]\n",
            " [0. 0. 1. 0.]\n",
            " [0. 1. 0. 0.]\n",
            " [1. 0. 0. 0.]] \n",
            "\n"
          ]
        },
        {
          "output_type": "display_data",
          "data": {
            "text/plain": [
              "<Figure size 600x600 with 1 Axes>"
            ],
            "image/png": "[encoded data removed]"
          },
          "metadata": {}
        }
      ],
      "source": [
        "policy_tpi, V_tpi = truncated_policy_iteration(env, max_it=2)\n",
        "\n",
        "# print the optimal policy\n",
        "print(\"Optimal Policy (LEFT = 0, DOWN = 1, RIGHT = 2, UP = 3):\")\n",
        "print(policy_tpi,\"\\n\")\n",
        "\n",
        "# plot the optimal state-value function\n",
        "from plot_utils import plot_values\n",
        "plot_values(V_tpi)"
      ]
    },
    {
      "cell_type": "markdown",
      "metadata": {
        "id": "Gu1Ut75fjuWz"
      },
      "source": [
        "Run the code cell below to test your function.  If the code cell returns **PASSED**, then you have implemented the function correctly!  \n",
        "\n",
        "**Note:** In order to ensure accurate results, make sure that the `truncated_policy_iteration` function satisfies the requirements outlined above (with four inputs, two outputs, and with the default values of the input arguments unchanged)."
      ]
    },
    {
      "cell_type": "code",
      "execution_count": 21,
      "metadata": {
        "collapsed": true,
        "id": "_ALmI99GjuW3",
        "colab": {
          "base_uri": "https://localhost:8080/",
          "height": 46
        },
        "outputId": "8091c74b-db76-4dc4-ec3c-7e2d1a23366a"
      },
      "outputs": [
        {
          "output_type": "display_data",
          "data": {
            "text/plain": [
              "<IPython.core.display.Markdown object>"
            ],
            "text/markdown": "**<span style=\"color: green;\">PASSED</span>**"
          },
          "metadata": {}
        }
      ],
      "source": [
        "import check_test\n",
        "check_test.run_check('truncated_policy_iteration_check', truncated_policy_iteration)"
      ]
    },
    {
      "cell_type": "markdown",
      "metadata": {
        "id": "ER6nZzy7juW3"
      },
      "source": [
        "### Part 6: Value Iteration\n",
        "\n",
        "In this section, you will write your own implementation of value iteration.\n",
        "\n",
        "Your algorithm should accept three arguments as input:\n",
        "- `env`: This is an instance of an OpenAI Gym environment, where `env.P` returns the one-step dynamics.\n",
        "- `gamma`: This is the discount rate.  It must be a value between 0 and 1, inclusive (default value: `1`).\n",
        "- `theta`: This is a very small positive number that is used for the stopping criterion (default value: `1e-8`).\n",
        "\n",
        "The algorithm returns as **output**:\n",
        "- `policy`: This is a 2D numpy array with `policy.shape[0]` equal to the number of states (`env.nS`), and `policy.shape[1]` equal to the number of actions (`env.nA`).  `policy[s][a]` returns the probability that the agent takes action `a` while in state `s` under the policy.\n",
        "- `V`: This is a 1D numpy array with `V.shape[0]` equal to the number of states (`env.nS`).  `V[s]` contains the estimated value of state `s`.\n",
        "\n",
        "<img src=\"https://github.com/Nov05/pictures/blob/master/Udacity/20231221_reinforcement%20learning/06_value-iteration-min.jpg?raw=true\" width=400>  "
      ]
    },
    {
      "cell_type": "code",
      "execution_count": 22,
      "metadata": {
        "collapsed": true,
        "id": "p70Wf_u3juW3"
      },
      "outputs": [],
      "source": [
        "def value_iteration(env, gamma=1, theta=1e-8):\n",
        "    V = np.zeros(env.nS)\n",
        "    ## TODO: complete the function\n",
        "    for _ in range(10000):\n",
        "        delta = 0\n",
        "        for s in range(env.nS):\n",
        "            v = V[s] ## single value\n",
        "            qs = q_from_v(env, V, s, gamma=gamma)\n",
        "            V[s] = np.max(qs)\n",
        "            delta = max(delta, abs(v-V[s]))\n",
        "        if delta < theta:\n",
        "            break\n",
        "    policy = policy_improvement(env, V, gamma=gamma)\n",
        "    return policy, V"
      ]
    },
    {
      "cell_type": "markdown",
      "metadata": {
        "id": "g4tUZaa-juW3"
      },
      "source": [
        "Use the next code cell to solve the MDP and visualize the output.  The state-value function has been reshaped to match the shape of the gridworld."
      ]
    },
    {
      "cell_type": "code",
      "execution_count": 23,
      "metadata": {
        "collapsed": true,
        "id": "ZPniyaFZjuW3",
        "colab": {
          "base_uri": "https://localhost:8080/",
          "height": 858
        },
        "outputId": "f7491ea4-d8aa-48c2-b0a7-5ad239d022c0"
      },
      "outputs": [
        {
          "output_type": "stream",
          "name": "stdout",
          "text": [
            "\n",
            "Optimal Policy (LEFT = 0, DOWN = 1, RIGHT = 2, UP = 3):\n",
            "[[1. 0. 0. 0.]\n",
            " [0. 0. 0. 1.]\n",
            " [0. 0. 0. 1.]\n",
            " [0. 0. 0. 1.]\n",
            " [1. 0. 0. 0.]\n",
            " [1. 0. 0. 0.]\n",
            " [1. 0. 0. 0.]\n",
            " [1. 0. 0. 0.]\n",
            " [0. 0. 0. 1.]\n",
            " [0. 1. 0. 0.]\n",
            " [1. 0. 0. 0.]\n",
            " [1. 0. 0. 0.]\n",
            " [1. 0. 0. 0.]\n",
            " [0. 0. 1. 0.]\n",
            " [0. 1. 0. 0.]\n",
            " [1. 0. 0. 0.]] \n",
            "\n"
          ]
        },
        {
          "output_type": "display_data",
          "data": {
            "text/plain": [
              "<Figure size 600x600 with 1 Axes>"
            ],
            "image/png": "[encoded data removed]"
          },
          "metadata": {}
        }
      ],
      "source": [
        "policy_vi, V_vi = value_iteration(env)\n",
        "\n",
        "# print the optimal policy\n",
        "print(\"\\nOptimal Policy (LEFT = 0, DOWN = 1, RIGHT = 2, UP = 3):\")\n",
        "print(policy_vi,\"\\n\")\n",
        "\n",
        "# plot the optimal state-value function\n",
        "plot_values(V_vi)"
      ]
    },
    {
      "cell_type": "markdown",
      "metadata": {
        "id": "pcvW-HBNjuW4"
      },
      "source": [
        "Run the code cell below to test your function.  If the code cell returns **PASSED**, then you have implemented the function correctly!  \n",
        "\n",
        "**Note:** In order to ensure accurate results, make sure that the `value_iteration` function satisfies the requirements outlined above (with three inputs, two outputs, and with the default values of the input arguments unchanged)."
      ]
    },
    {
      "cell_type": "code",
      "execution_count": 24,
      "metadata": {
        "collapsed": true,
        "id": "_l0SwguejuW4",
        "colab": {
          "base_uri": "https://localhost:8080/",
          "height": 46
        },
        "outputId": "3bcd1579-099c-4842-e3c9-be2515f866f7"
      },
      "outputs": [
        {
          "output_type": "display_data",
          "data": {
            "text/plain": [
              "<IPython.core.display.Markdown object>"
            ],
            "text/markdown": "**<span style=\"color: green;\">PASSED</span>**"
          },
          "metadata": {}
        }
      ],
      "source": [
        "check_test.run_check('value_iteration_check', value_iteration)"
      ]
    },
    {
      "cell_type": "markdown",
      "source": [
        "# **\\<BOTTOM>**  "
      ],
      "metadata": {
        "id": "ADgyGXELLcBt"
      }
    }
  ],
  "metadata": {
    "anaconda-cloud": {},
    "kernelspec": {
      "display_name": "Python 3",
      "language": "python",
      "name": "python3"
    },
    "language_info": {
      "codemirror_mode": {
        "name": "ipython",
        "version": 3
      },
      "file_extension": ".py",
      "mimetype": "text/x-python",
      "name": "python",
      "nbconvert_exporter": "python",
      "pygments_lexer": "ipython3",
      "version": "3.6.3"
    },
    "colab": {
      "provenance": [],
      "include_colab_link": true
    }
  },
  "nbformat": 4,
  "nbformat_minor": 0
}