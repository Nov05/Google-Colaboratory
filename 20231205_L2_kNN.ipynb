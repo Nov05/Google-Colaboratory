{
  "cells": [
    {
      "cell_type": "markdown",
      "metadata": {
        "id": "view-in-github",
        "colab_type": "text"
      },
      "source": [
        "<a href=\"https://colab.research.google.com/github/Nov05/Google-Colaboratory/blob/master/L2_kNN.ipynb\" target=\"_parent\"><img src=\"https://colab.research.google.com/assets/colab-badge.svg\" alt=\"Open In Colab\"/></a>"
      ]
    },
    {
      "cell_type": "markdown",
      "source": [
        "* 2023-12-05  \n",
        "* go to the lesson [**Search for Similar Vectors**](https://learn.deeplearning.ai/vector-databases-embeddings-applications/lesson/3/search-for-similar-vectors)  \n",
        "* [watch the video](https://dft3h5i221ap1.cloudfront.net/Weaviate/C1/video/Weaviate_L2.mp4)\n"
      ],
      "metadata": {
        "id": "D94p8HVabrpF"
      },
      "id": "D94p8HVabrpF"
    },
    {
      "cell_type": "markdown",
      "id": "fe548d4c-0ae6-4490-85e9-9a08b324e523",
      "metadata": {
        "id": "fe548d4c-0ae6-4490-85e9-9a08b324e523"
      },
      "source": [
        "# K Nearest Neighbors"
      ]
    },
    {
      "cell_type": "code",
      "execution_count": 1,
      "id": "1dffa51f",
      "metadata": {
        "height": 98,
        "id": "1dffa51f"
      },
      "outputs": [],
      "source": [
        "import numpy as np\n",
        "import matplotlib.pyplot as plt\n",
        "from sklearn.neighbors import NearestNeighbors\n",
        "import time\n",
        "np.random.seed(42)"
      ]
    },
    {
      "cell_type": "code",
      "execution_count": 2,
      "id": "c6507163-f256-4969-b39a-42e4fe87e16e",
      "metadata": {
        "height": 47,
        "id": "c6507163-f256-4969-b39a-42e4fe87e16e"
      },
      "outputs": [],
      "source": [
        "# Generate 20 data points with 2 dimensions\n",
        "X = np.random.rand(20,2)"
      ]
    },
    {
      "cell_type": "code",
      "execution_count": 3,
      "id": "0d57be60-f38c-40ec-9a79-6abe351ff8e1",
      "metadata": {
        "height": 166,
        "colab": {
          "base_uri": "https://localhost:8080/",
          "height": 430
        },
        "id": "0d57be60-f38c-40ec-9a79-6abe351ff8e1",
        "outputId": "504ff596-88ef-45c0-d686-208a7f17b95f"
      },
      "outputs": [
        {
          "output_type": "display_data",
          "data": {
            "text/plain": [
              "<Figure size 640x480 with 1 Axes>"
            ],
            "image/png": "[encoded data removed]"
          },
          "metadata": {}
        }
      ],
      "source": [
        "# Display Embeddings\n",
        "n = range(len(X))\n",
        "\n",
        "fig, ax = plt.subplots()\n",
        "ax.scatter(X[:,0], X[:,1], label='Embeddings')\n",
        "ax.legend()\n",
        "\n",
        "for i, txt in enumerate(n):\n",
        "    ax.annotate(txt, (X[i,0], X[i,1]))"
      ]
    },
    {
      "cell_type": "code",
      "execution_count": 4,
      "id": "f7607bd1-41e2-4f8b-9c25-9deba45c1bc4",
      "metadata": {
        "height": 81,
        "colab": {
          "base_uri": "https://localhost:8080/",
          "height": 74
        },
        "id": "f7607bd1-41e2-4f8b-9c25-9deba45c1bc4",
        "outputId": "173c12f6-ea8a-46b5-fc51-2d9a8cfb67ab"
      },
      "outputs": [
        {
          "output_type": "execute_result",
          "data": {
            "text/plain": [
              "NearestNeighbors(algorithm='brute', metric='euclidean', n_neighbors=4)"
            ],
            "text/html": [
              "<style>#sk-container-id-1 {color: black;background-color: white;}#sk-container-id-1 pre{padding: 0;}#sk-container-id-1 div.sk-toggleable {background-color: white;}#sk-container-id-1 label.sk-toggleable__label {cursor: pointer;display: block;width: 100%;margin-bottom: 0;padding: 0.3em;box-sizing: border-box;text-align: center;}#sk-container-id-1 label.sk-toggleable__label-arrow:before {content: \"▸\";float: left;margin-right: 0.25em;color: #696969;}#sk-container-id-1 label.sk-toggleable__label-arrow:hover:before {color: black;}#sk-container-id-1 div.sk-estimator:hover label.sk-toggleable__label-arrow:before {color: black;}#sk-container-id-1 div.sk-toggleable__content {max-height: 0;max-width: 0;overflow: hidden;text-align: left;background-color: #f0f8ff;}#sk-container-id-1 div.sk-toggleable__content pre {margin: 0.2em;color: black;border-radius: 0.25em;background-color: #f0f8ff;}#sk-container-id-1 input.sk-toggleable__control:checked~div.sk-toggleable__content {max-height: 200px;max-width: 100%;overflow: auto;}#sk-container-id-1 input.sk-toggleable__control:checked~label.sk-toggleable__label-arrow:before {content: \"▾\";}#sk-container-id-1 div.sk-estimator input.sk-toggleable__control:checked~label.sk-toggleable__label {background-color: #d4ebff;}#sk-container-id-1 div.sk-label input.sk-toggleable__control:checked~label.sk-toggleable__label {background-color: #d4ebff;}#sk-container-id-1 input.sk-hidden--visually {border: 0;clip: rect(1px 1px 1px 1px);clip: rect(1px, 1px, 1px, 1px);height: 1px;margin: -1px;overflow: hidden;padding: 0;position: absolute;width: 1px;}#sk-container-id-1 div.sk-estimator {font-family: monospace;background-color: #f0f8ff;border: 1px dotted black;border-radius: 0.25em;box-sizing: border-box;margin-bottom: 0.5em;}#sk-container-id-1 div.sk-estimator:hover {background-color: #d4ebff;}#sk-container-id-1 div.sk-parallel-item::after {content: \"\";width: 100%;border-bottom: 1px solid gray;flex-grow: 1;}#sk-container-id-1 div.sk-label:hover label.sk-toggleable__label {background-color: #d4ebff;}#sk-container-id-1 div.sk-serial::before {content: \"\";position: absolute;border-left: 1px solid gray;box-sizing: border-box;top: 0;bottom: 0;left: 50%;z-index: 0;}#sk-container-id-1 div.sk-serial {display: flex;flex-direction: column;align-items: center;background-color: white;padding-right: 0.2em;padding-left: 0.2em;position: relative;}#sk-container-id-1 div.sk-item {position: relative;z-index: 1;}#sk-container-id-1 div.sk-parallel {display: flex;align-items: stretch;justify-content: center;background-color: white;position: relative;}#sk-container-id-1 div.sk-item::before, #sk-container-id-1 div.sk-parallel-item::before {content: \"\";position: absolute;border-left: 1px solid gray;box-sizing: border-box;top: 0;bottom: 0;left: 50%;z-index: -1;}#sk-container-id-1 div.sk-parallel-item {display: flex;flex-direction: column;z-index: 1;position: relative;background-color: white;}#sk-container-id-1 div.sk-parallel-item:first-child::after {align-self: flex-end;width: 50%;}#sk-container-id-1 div.sk-parallel-item:last-child::after {align-self: flex-start;width: 50%;}#sk-container-id-1 div.sk-parallel-item:only-child::after {width: 0;}#sk-container-id-1 div.sk-dashed-wrapped {border: 1px dashed gray;margin: 0 0.4em 0.5em 0.4em;box-sizing: border-box;padding-bottom: 0.4em;background-color: white;}#sk-container-id-1 div.sk-label label {font-family: monospace;font-weight: bold;display: inline-block;line-height: 1.2em;}#sk-container-id-1 div.sk-label-container {text-align: center;}#sk-container-id-1 div.sk-container {/* jupyter's `normalize.less` sets `[hidden] { display: none; }` but bootstrap.min.css set `[hidden] { display: none !important; }` so we also need the `!important` here to be able to override the default hidden behavior on the sphinx rendered scikit-learn.org. See: https://github.com/scikit-learn/scikit-learn/issues/21755 */display: inline-block !important;position: relative;}#sk-container-id-1 div.sk-text-repr-fallback {display: none;}</style><div id=\"sk-container-id-1\" class=\"sk-top-container\"><div class=\"sk-text-repr-fallback\"><pre>NearestNeighbors(algorithm=&#x27;brute&#x27;, metric=&#x27;euclidean&#x27;, n_neighbors=4)</pre><b>In a Jupyter environment, please rerun this cell to show the HTML representation or trust the notebook. <br />On GitHub, the HTML representation is unable to render, please try loading this page with nbviewer.org.</b></div><div class=\"sk-container\" hidden><div class=\"sk-item\"><div class=\"sk-estimator sk-toggleable\"><input class=\"sk-toggleable__control sk-hidden--visually\" id=\"sk-estimator-id-1\" type=\"checkbox\" checked><label for=\"sk-estimator-id-1\" class=\"sk-toggleable__label sk-toggleable__label-arrow\">NearestNeighbors</label><div class=\"sk-toggleable__content\"><pre>NearestNeighbors(algorithm=&#x27;brute&#x27;, metric=&#x27;euclidean&#x27;, n_neighbors=4)</pre></div></div></div></div></div>"
            ]
          },
          "metadata": {},
          "execution_count": 4
        }
      ],
      "source": [
        "k = 4\n",
        "\n",
        "neigh = NearestNeighbors(n_neighbors=k, algorithm='brute', metric='euclidean')\n",
        "neigh.fit(X)"
      ]
    },
    {
      "cell_type": "code",
      "execution_count": 5,
      "id": "0dfb6e89-cfb6-4ef3-a5b9-b8ba65cfe7b1",
      "metadata": {
        "height": 183,
        "colab": {
          "base_uri": "https://localhost:8080/",
          "height": 430
        },
        "id": "0dfb6e89-cfb6-4ef3-a5b9-b8ba65cfe7b1",
        "outputId": "3baeb4e3-f2b1-4e75-fde0-ed640027c781"
      },
      "outputs": [
        {
          "output_type": "display_data",
          "data": {
            "text/plain": [
              "<Figure size 640x480 with 1 Axes>"
            ],
            "image/png": "[encoded data removed]"
          },
          "metadata": {}
        }
      ],
      "source": [
        "# Display Query with data\n",
        "n = range(len(X))\n",
        "\n",
        "fig, ax = plt.subplots()\n",
        "ax.scatter(X[:,0], X[:,1])\n",
        "ax.scatter(0.45,0.2, c='red',label='Query')\n",
        "ax.legend()\n",
        "\n",
        "for i, txt in enumerate(n):\n",
        "    ax.annotate(txt, (X[i,0], X[i,1]))"
      ]
    },
    {
      "cell_type": "code",
      "execution_count": 6,
      "id": "cd20c13b-c830-47fc-9bde-824b81607ebc",
      "metadata": {
        "height": 47,
        "colab": {
          "base_uri": "https://localhost:8080/"
        },
        "id": "cd20c13b-c830-47fc-9bde-824b81607ebc",
        "outputId": "c31586f2-9669-4eda-c07f-69828ce2261d"
      },
      "outputs": [
        {
          "output_type": "stream",
          "name": "stdout",
          "text": [
            "(array([[0.09299859, 0.16027853, 0.1727928 , 0.17778682]]), array([[ 9, 15, 10, 18]]))\n"
          ]
        }
      ],
      "source": [
        "neighbours = neigh.kneighbors([[0.45,0.2]], k, return_distance=True)\n",
        "print(neighbours)"
      ]
    },
    {
      "cell_type": "code",
      "execution_count": 7,
      "id": "31e7e76f-f26e-46a5-9778-8e1aa46e18b5",
      "metadata": {
        "height": 115,
        "colab": {
          "base_uri": "https://localhost:8080/"
        },
        "id": "31e7e76f-f26e-46a5-9778-8e1aa46e18b5",
        "outputId": "3e380a86-1789-4ed4-80b0-93b4a08459c5"
      },
      "outputs": [
        {
          "output_type": "stream",
          "name": "stdout",
          "text": [
            "Runtime:  0.0010 seconds\n"
          ]
        }
      ],
      "source": [
        "t0 = time.time()\n",
        "neighbours = neigh.kneighbors([[0.45,0.2]], k, return_distance=True)\n",
        "t1 = time.time()\n",
        "\n",
        "query_time = t1-t0\n",
        "print(f\"Runtime: {query_time: .4f} seconds\")"
      ]
    },
    {
      "cell_type": "code",
      "execution_count": 8,
      "id": "b4827c91-797a-469d-9679-1dbba2e864d1",
      "metadata": {
        "height": 319,
        "id": "b4827c91-797a-469d-9679-1dbba2e864d1"
      },
      "outputs": [],
      "source": [
        "def speed_test(count):\n",
        "    # generate random objects\n",
        "    data = np.random.rand(count,2)\n",
        "\n",
        "    # prepare brute force index\n",
        "    k=4\n",
        "    neigh = NearestNeighbors(n_neighbors=k, algorithm='brute', metric='euclidean')\n",
        "    neigh.fit(data)\n",
        "\n",
        "    # measure time for a brute force query\n",
        "    t0 = time.time()\n",
        "    neighbours = neigh.kneighbors([[0.45,0.2]], k, return_distance=True)\n",
        "    t1 = time.time()\n",
        "\n",
        "    total_time = t1-t0\n",
        "    print (f\"Runtime: {total_time: .4f}\")\n",
        "\n",
        "    return total_time"
      ]
    },
    {
      "cell_type": "code",
      "execution_count": 9,
      "id": "cae5ed6a-9fb8-4fc3-85c6-b9eff573ad5a",
      "metadata": {
        "height": 30,
        "colab": {
          "base_uri": "https://localhost:8080/"
        },
        "id": "cae5ed6a-9fb8-4fc3-85c6-b9eff573ad5a",
        "outputId": "2ab61df1-e2c9-415c-ae0f-f6edb0bb2f60"
      },
      "outputs": [
        {
          "output_type": "stream",
          "name": "stdout",
          "text": [
            "Runtime:  0.0049\n"
          ]
        }
      ],
      "source": [
        "time20k = speed_test(20_000)"
      ]
    },
    {
      "cell_type": "code",
      "execution_count": 10,
      "id": "1f114314-b875-40b0-be81-bae6b1762765",
      "metadata": {
        "height": 98,
        "colab": {
          "base_uri": "https://localhost:8080/"
        },
        "id": "1f114314-b875-40b0-be81-bae6b1762765",
        "outputId": "d1d58e53-171a-45a6-c322-1d3e83bfc95a"
      },
      "outputs": [
        {
          "output_type": "stream",
          "name": "stdout",
          "text": [
            "Runtime:  0.0055\n",
            "Runtime:  0.0456\n",
            "Runtime:  0.8023\n",
            "Runtime:  7.2183\n"
          ]
        }
      ],
      "source": [
        "# Brute force examples\n",
        "time200k = speed_test(200_000)\n",
        "time2m = speed_test(2_000_000)\n",
        "time20m = speed_test(20_000_000)\n",
        "time200m = speed_test(200_000_000)"
      ]
    },
    {
      "cell_type": "markdown",
      "id": "1760c511-c422-42dc-a41c-b125623a8619",
      "metadata": {
        "id": "1760c511-c422-42dc-a41c-b125623a8619"
      },
      "source": [
        "## Brute force kNN implemented by hand on `768` dimensional embeddings"
      ]
    },
    {
      "cell_type": "code",
      "execution_count": 11,
      "id": "d140b5d1-e110-4a42-9e3c-00beab03694d",
      "metadata": {
        "height": 149,
        "id": "d140b5d1-e110-4a42-9e3c-00beab03694d"
      },
      "outputs": [],
      "source": [
        "documents = 1000\n",
        "dimensions = 768\n",
        "\n",
        "embeddings = np.random.randn(documents, dimensions) # 1000 documents, 768-dimensional embeddings\n",
        "embeddings = embeddings / np.sqrt((embeddings**2).sum(1, keepdims=True)) # L2 normalize the rows, as is common\n",
        "\n",
        "query = np.random.randn(768) # the query vector\n",
        "query = query / np.sqrt((query**2).sum()) # normalize query"
      ]
    },
    {
      "cell_type": "code",
      "execution_count": 12,
      "id": "e8cfca36-3b4e-4103-bae1-98939b48c78c",
      "metadata": {
        "height": 251,
        "colab": {
          "base_uri": "https://localhost:8080/"
        },
        "id": "e8cfca36-3b4e-4103-bae1-98939b48c78c",
        "outputId": "65f2d380-fb4c-47cb-8cdd-edcbb22a52c9"
      },
      "outputs": [
        {
          "output_type": "stream",
          "name": "stdout",
          "text": [
            "Runtime for dim=768, documents_n=1000: 0.011 seconds\n",
            "Top 5 results:\n",
            "Point: 434, Similarity: 0.11658853328636033\n",
            "Point: 41, Similarity: 0.10319523603880205\n",
            "Point: 677, Similarity: 0.09041193794869379\n",
            "Point: 13, Similarity: 0.0856056395158937\n",
            "Point: 438, Similarity: 0.08410763673528121\n"
          ]
        }
      ],
      "source": [
        "# kNN\n",
        "t0 = time.time()\n",
        "# Calculate Dot Product between the query and all data items\n",
        "similarities = embeddings.dot(query)\n",
        "# Sort results\n",
        "sorted_ix = np.argsort(-similarities)\n",
        "t1 = time.time()\n",
        "\n",
        "total = t1-t0\n",
        "print(f\"Runtime for dim={dimensions}, documents_n={documents}: {np.round(total,3)} seconds\")\n",
        "\n",
        "print(\"Top 5 results:\")\n",
        "for k in sorted_ix[:5]:\n",
        "    print(f\"Point: {k}, Similarity: {similarities[k]}\")"
      ]
    },
    {
      "cell_type": "code",
      "execution_count": 16,
      "id": "51493604-ca06-4129-a026-007b6ecbb478",
      "metadata": {
        "height": 234,
        "colab": {
          "base_uri": "https://localhost:8080/"
        },
        "id": "51493604-ca06-4129-a026-007b6ecbb478",
        "outputId": "562fd38e-f548-4f58-e735-5684193f03a0"
      },
      "outputs": [
        {
          "output_type": "stream",
          "name": "stdout",
          "text": [
            "Runtime for 1 query with dim=768, documents_n=1000: 0.017 seconds\n",
            "Runtime for 1 query with dim=768, documents_n=10000: 0.008 seconds\n",
            "Runtime for 1 query with dim=768, documents_n=100000: 0.058 seconds\n",
            "Runtime for 1 query with dim=768, documents_n=500000: 0.369 seconds\n"
          ]
        }
      ],
      "source": [
        "n_runs = [1_000, 10_000, 100_000, 500_000]\n",
        "n_time = []\n",
        "\n",
        "for n in n_runs:\n",
        "    embeddings = np.random.randn(n, dimensions) #768-dimensional embeddings\n",
        "    query = np.random.randn(768) # the query vector\n",
        "\n",
        "    t0 = time.time()\n",
        "    similarities = embeddings.dot(query)\n",
        "    sorted_ix = np.argsort(-similarities)\n",
        "    t1 = time.time()\n",
        "\n",
        "    total = t1-t0\n",
        "    print(f\"Runtime for 1 query with dim={dimensions}, documents_n={n}: {np.round(total,3)} seconds\")\n",
        "    n_time.append(total)"
      ]
    },
    {
      "cell_type": "code",
      "source": [
        "plt.figure(figsize=(5,3))\n",
        "plt.plot(n_runs, n_time);"
      ],
      "metadata": {
        "colab": {
          "base_uri": "https://localhost:8080/",
          "height": 291
        },
        "id": "ZvCCdDjRGd3R",
        "outputId": "f2a656d9-bd6a-44c6-dfc2-e6a3486607c7"
      },
      "id": "ZvCCdDjRGd3R",
      "execution_count": 19,
      "outputs": [
        {
          "output_type": "display_data",
          "data": {
            "text/plain": [
              "<Figure size 500x300 with 1 Axes>"
            ],
            "image/png": "[encoded data removed]"
          },
          "metadata": {}
        }
      ]
    },
    {
      "cell_type": "code",
      "execution_count": 14,
      "id": "9748863e-5640-42c4-8223-3d0897867c58",
      "metadata": {
        "height": 30,
        "colab": {
          "base_uri": "https://localhost:8080/"
        },
        "id": "9748863e-5640-42c4-8223-3d0897867c58",
        "outputId": "a0b0e0a4-25ed-4ec7-9f17-c0466c7da360"
      },
      "outputs": [
        {
          "output_type": "stream",
          "name": "stdout",
          "text": [
            "To run 1,000 queries:  5.07 minutes\n"
          ]
        }
      ],
      "source": [
        "print (f\"To run 1,000 queries: {total * 1_000/60 : .2f} minutes\")"
      ]
    }
  ],
  "metadata": {
    "kernelspec": {
      "display_name": "Python 3 (ipykernel)",
      "language": "python",
      "name": "python3"
    },
    "language_info": {
      "codemirror_mode": {
        "name": "ipython",
        "version": 3
      },
      "file_extension": ".py",
      "mimetype": "text/x-python",
      "name": "python",
      "nbconvert_exporter": "python",
      "pygments_lexer": "ipython3",
      "version": "3.9.18"
    },
    "colab": {
      "provenance": [],
      "toc_visible": true,
      "include_colab_link": true
    }
  },
  "nbformat": 4,
  "nbformat_minor": 5
}
