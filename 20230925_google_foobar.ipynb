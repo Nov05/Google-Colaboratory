{
  "nbformat": 4,
  "nbformat_minor": 0,
  "metadata": {
    "colab": {
      "provenance": [],
      "toc_visible": true,
      "authorship_tag": "ABX9TyNkRrCWns9QSiyZwaNt2560",
      "include_colab_link": true
    },
    "kernelspec": {
      "name": "python3",
      "display_name": "Python 3"
    },
    "language_info": {
      "name": "python"
    }
  },
  "cells": [
    {
      "cell_type": "markdown",
      "metadata": {
        "id": "view-in-github",
        "colab_type": "text"
      },
      "source": [
        "<a href=\"https://colab.research.google.com/github/Nov05/Google-Colaboratory/blob/master/20230925_google_foobar.ipynb\" target=\"_parent\"><img src=\"https://colab.research.google.com/assets/colab-badge.svg\" alt=\"Open In Colab\"/></a>"
      ]
    },
    {
      "cell_type": "markdown",
      "source": [
        "# **\\<TOP>**  "
      ],
      "metadata": {
        "id": "LpQWpoKClYVc"
      }
    },
    {
      "cell_type": "markdown",
      "source": [
        "👉 https://foobar.withgoogle.com/#  \n",
        "\n",
        "```\n",
        "Mounting /home/***...\n",
        "Welcome to foobar version 20230817-beta (2023-11-07T15:43:40.976148)\n",
        "```\n",
        "\n",
        "Level 1~3: https://blog.finxter.com/googles-foobar/ ([evernote](https://www.evernote.com/shard/s139/u/0/sh/5cf33457-e862-43ea-a65d-3e30006c63a8/UGyH9HkcrPwY7F3ysOl2qL0o07_p_Cxq49uGGz1BGuCklOG8ksHmkWLTGg))  "
      ],
      "metadata": {
        "id": "FXD0PRGOJ-l9"
      }
    },
    {
      "cell_type": "markdown",
      "source": [
        "# **constraints**  \n",
        "foobar:~/please-pass-the-coded-messages ***$ cat constraints.txt\n",
        "Python\n",
        "======\n",
        "Your code will run inside a Python 2.7.13 sandbox. All tests will be run by calling the solution() function.\n",
        "\n",
        "Standard libraries are supported except for bz2, crypt, fcntl, mmap, pwd, pyexpat, select, signal, termios, thread, time, unicodedata, zipimport, zlib.\n",
        "\n",
        "Input/output operations are not allowed.\n",
        "\n",
        "Your solution must be under 32000 characters in length including new lines and other non-printing characters.foobar:~/  "
      ],
      "metadata": {
        "id": "4zWuQS8yq6eQ"
      }
    },
    {
      "cell_type": "markdown",
      "source": [
        "# **1. re-id**  \n",
        "\n",
        "foobar:~/re-id ***$ cat readme.txt\n",
        "\n",
        "Re-ID\n",
        "=====\n",
        "\n",
        "There's some unrest in the minion ranks: minions with ID numbers like \"1\", \"42\", and other \"good\" numbers have been lording it over the poor minions who are stuck with more boring IDs. To quell the unrest, Commander Lambda has tasked you with reassigning everyone new random IDs based on a Completely Foolproof Scheme. Commander Lambda has concatenated the prime numbers in a single long string: \"2357111317192329...\". Now every minion must draw a number from a hat. That number is the starting index in that string of primes, and the minion's new ID number will be the next five digits in the string. So if a minion draws \"3\", their ID number will be \"71113\". Help the Commander assign these IDs by writing a function **solution(n)** which takes in the starting index n of Lambda's string of all primes, and returns the next five digits in the string. Commander Lambda has a lot of minions, so the value of n will always be **between 0 and 10000**.\n",
        "\n",
        "```\n",
        "-- Python cases --\n",
        "Input:solution.solution(0)Output:    23571\n",
        "Input:solution.solution(3)Output:    71113\n",
        "```  "
      ],
      "metadata": {
        "id": "fpvkukzSEGaF"
      }
    },
    {
      "cell_type": "code",
      "source": [
        "## alright. let's find the range first\n",
        "import sympy\n",
        "primes, p_len = [2], 1\n",
        "p_count = len(primes)\n",
        "for power in range(1, 20):\n",
        "    p_len_old = p_len\n",
        "    p_count_old = p_count\n",
        "    if primes[-1]>=10**power:\n",
        "        continue\n",
        "    for num in range(primes[-1]+1, 10**power):\n",
        "        if sympy.isprime(num):\n",
        "            primes.append(num)\n",
        "            p_len += len(str(num))\n",
        "        if p_len>10000+5:\n",
        "            break\n",
        "    p_count = len(primes)\n",
        "    if p_len_old<10000+5 and p_len>=10000+5:\n",
        "        print(f\"power: {power}\")\n",
        "        break\n",
        "print(\"prime count (old):\", p_count_old, \", string length (old):\", p_len_old)\n",
        "print(\"prime count:\", p_count, \", string length:\", p_len)\n",
        "print(\"the last prime of the string:\", primes[-1])"
      ],
      "metadata": {
        "colab": {
          "base_uri": "https://localhost:8080/"
        },
        "id": "9M0EZeLyBSbz",
        "outputId": "bf6b5345-5049-4321-b1b6-ffbb42298b18"
      },
      "execution_count": null,
      "outputs": [
        {
          "output_type": "stream",
          "name": "stdout",
          "text": [
            "power: 5\n",
            "prime count (old): 1229 , string length (old): 4719\n",
            "prime count: 2287 , string length: 10009\n",
            "the last prime of the string: 20231\n"
          ]
        }
      ]
    },
    {
      "cell_type": "code",
      "source": [
        "sympy.isprime(1) ## i know..."
      ],
      "metadata": {
        "colab": {
          "base_uri": "https://localhost:8080/"
        },
        "id": "7EkA0DFFKHTI",
        "outputId": "e52d9029-f398-4632-8675-299e92fa1aa8"
      },
      "execution_count": null,
      "outputs": [
        {
          "output_type": "execute_result",
          "data": {
            "text/plain": [
              "False"
            ]
          },
          "metadata": {},
          "execution_count": 240
        }
      ]
    },
    {
      "cell_type": "code",
      "source": [
        "import sympy\n",
        "def solution(i):\n",
        "    p_str, p_len = '2', 1 ## the string, and prime numbers start from 2\n",
        "    for num in range(3, 20232):\n",
        "        if sympy.isprime(num):\n",
        "            p_str += str(num)\n",
        "            p_len += len(str(num))\n",
        "        if p_len >= i+5:\n",
        "            print(num, f\"{p_len}>={i+5}\")\n",
        "            break\n",
        "    print(len(p_str))\n",
        "    print(p_str)\n",
        "    return p_str[i:i+5]\n",
        "\n",
        "print(solution(10000))"
      ],
      "metadata": {
        "colab": {
          "base_uri": "https://localhost:8080/"
        },
        "id": "pOw4F9xeCEXi",
        "outputId": "1c2f27b6-682b-4171-98ce-adee2a0b1f5a"
      },
      "execution_count": null,
      "outputs": [
        {
          "output_type": "stream",
          "name": "stdout",
          "text": [
            "20231 10009>=10005\n",
            "10009\n",
            "2357111317192329313741434753596167717379838997101103107109113127131137139149151157163167173179181191193197199211223227229233239241251257263269271277281283293307311313317331337347349353359367373379383389397401409419421431433439443449457461463467479487491499503509521523541547557563569571577587593599601607613617619631641643647653659661673677683691701709719727733739743751757761769773787797809811821823827829839853857859863877881883887907911919929937941947953967971977983991997100910131019102110311033103910491051106110631069108710911093109711031109111711231129115111531163117111811187119312011213121712231229123112371249125912771279128312891291129713011303130713191321132713611367137313811399140914231427142914331439144714511453145914711481148314871489149314991511152315311543154915531559156715711579158315971601160716091613161916211627163716571663166716691693169716991709172117231733174117471753175917771783178717891801181118231831184718611867187118731877187918891901190719131931193319491951197319791987199319971999200320112017202720292039205320632069208120832087208920992111211321292131213721412143215321612179220322072213222122372239224322512267226922732281228722932297230923112333233923412347235123572371237723812383238923932399241124172423243724412447245924672473247725032521253125392543254925512557257925912593260926172621263326472657265926632671267726832687268926932699270727112713271927292731274127492753276727772789279127972801280328192833283728432851285728612879288728972903290929172927293929532957296329692971299930013011301930233037304130493061306730793083308931093119312131373163316731693181318731913203320932173221322932513253325732593271329933013307331333193323332933313343334733593361337133733389339134073413343334493457346134633467346934913499351135173527352935333539354135473557355935713581358335933607361336173623363136373643365936713673367736913697370137093719372737333739376137673769377937933797380338213823383338473851385338633877388138893907391139173919392339293931394339473967398940014003400740134019402140274049405140574073407940914093409941114127412941334139415341574159417742014211421742194229423142414243425342594261427142734283428942974327433743394349435743634373439143974409442144234441444744514457446344814483449345074513451745194523454745494561456745834591459746034621463746394643464946514657466346734679469147034721472347294733475147594783478747894793479948014813481748314861487148774889490349094919493149334937494349514957496749694973498749934999500350095011502150235039505150595077508150875099510151075113511951475153516751715179518951975209522752315233523752615273527952815297530353095323533353475351538153875393539954075413541754195431543754415443544954715477547954835501550355075519552155275531555755635569557355815591562356395641564756515653565756595669568356895693570157115717573757415743574957795783579158015807581358215827583958435849585158575861586758695879588158975903592359275939595359815987600760116029603760436047605360676073607960896091610161136121613161336143615161636173619761996203621162176221622962476257626362696271627762876299630163116317632363296337634363536359636163676373637963896397642164276449645164696473648164916521652965476551655365636569657165776581659966076619663766536659666166736679668966916701670367096719673367376761676367796781679167936803682368276829683368416857686368696871688368996907691169176947694969596961696769716977698369916997700170137019702770397043705770697079710371097121712771297151715971777187719372077211721372197229723772437247725372837297730773097321733173337349735173697393741174177433745174577459747774817487748974997507751775237529753775417547754975597561757375777583758975917603760776217639764376497669767376817687769176997703771777237727774177537757775977897793781778237829784178537867787378777879788379017907791979277933793779497951796379938009801180178039805380598069808180878089809381018111811781238147816181678171817981918209821982218231823382378243826382698273828782918293829783118317832983538363836983778387838984198423842984318443844784618467850185138521852785378539854385638573858185978599860986238627862986418647866386698677868186898693869987078713871987318737874187478753876187798783880388078819882188318837883988498861886388678887889389238929893389418951896389698971899990019007901190139029904190439049905990679091910391099127913391379151915791619173918191879199920392099221922792399241925792779281928392939311931993239337934193439349937193779391939794039413941994219431943394379439946194639467947394799491949795119521953395399547955195879601961396199623962996319643964996619677967996899697971997219733973997439749976797699781978797919803981198179829983398399851985798599871988398879901990799239929993199419949996799731000710009100371003910061100671006910079100911009310099101031011110133101391014110151101591016310169101771018110193102111022310243102471025310259102671027110273102891030110303103131032110331103331033710343103571036910391103991042710429104331045310457104591046310477104871049910501105131052910531105591056710589105971060110607106131062710631106391065110657106631066710687106911070910711107231072910733107391075310771107811078910799108311083710847108531085910861108671088310889108911090310909109371093910949109571097310979109871099311003110271104711057110591106911071110831108711093111131111711119111311114911159111611117111173111771119711213112391124311251112571126111273112791128711299113111131711321113291135111353113691138311393113991141111423114371144311447114671147111483114891149111497115031151911527115491155111579115871159311597116171162111633116571167711681116891169911701117171171911731117431177711779117831178911801118071181311821118271183111833118391186311867118871189711903119091192311927119331193911941119531195911969119711198111987120071201112037120411204312049120711207312097121011210712109121131211912143121491215712161121631219712203122111222712239122411225112253122631226912277122811228912301123231232912343123471237312377123791239112401124091241312421124331243712451124571247312479124871249112497125031251112517125271253912541125471255312569125771258312589126011261112613126191263712641126471265312659126711268912697127031271312721127391274312757127631278112791127991280912821128231282912841128531288912893128991290712911129171291912923129411295312959129671297312979129831300113003130071300913033130371304313049130631309313099131031310913121131271314713151131591316313171131771318313187132171321913229132411324913259132671329113297133091331313327133311333713339133671338113397133991341113417134211344113451134571346313469134771348713499135131352313537135531356713577135911359713613136191362713633136491366913679136811368713691136931369713709137111372113723137291375113757137591376313781137891379913807138291383113841138591387313877138791388313901139031390713913139211393113933139631396713997139991400914011140291403314051140571407114081140831408714107141431414914153141591417314177141971420714221142431424914251142811429314303143211432314327143411434714369143871438914401144071441114419144231443114437144471444914461144791448914503145191453314537145431454914551145571456114563145911459314621146271462914633146391465314657146691468314699147131471714723147311473714741147471475314759147671477114779147831479714813148211482714831148431485114867148691487914887148911489714923149291493914947149511495714969149831501315017150311505315061150731507715083150911510115107151211513115137151391514915161151731518715193151991521715227152331524115259152631526915271152771528715289152991530715313153191532915331153491535915361153731537715383153911540115413154271543915443154511546115467154731549315497155111552715541155511555915569155811558315601156071561915629156411564315647156491566115667156711567915683157271573115733157371573915749157611576715773157871579115797158031580915817158231585915877158811588715889159011590715913159191592315937159591597115973159911600116007160331605716061160631606716069160731608716091160971610316111161271613916141161831618716189161931621716223162291623116249162531626716273163011631916333163391634916361163631636916381164111641716421164271643316447164511645316477164811648716493165191652916547165531656116567165731660316607166191663116633166491665116657166611667316691166931669916703167291674116747167591676316787168111682316829168311684316871168791688316889169011690316921169271693116937169431696316979169811698716993170111702117027170291703317041170471705317077170931709917107171171712317137171591716717183171891719117203172071720917231172391725717291172931729917317173211732717333173411735117359173771738317387173891739317401174171741917431174431744917467174711747717483174891749117497175091751917539175511756917573175791758117597175991760917623176271765717659176691768117683177071771317729177371774717749177611778317789177911780717827178371783917851178631788117891179031790917911179211792317929179391795717959179711797717981179871798918013180411804318047180491805918061180771808918097181191812118127181311813318143181491816918181181911819918211182171822318229182331825118253182571826918287182891830118307183111831318329183411835318367183711837918397184011841318427184331843918443184511845718461184811849318503185171852118523185391854118553185831858718593186171863718661186711867918691187011871318719187311874318749187571877318787187931879718803188391885918869188991891118913189171891918947189591897318979190011900919013190311903719051190691907319079190811908719121191391914119157191631918119183192071921119213192191923119237192491925919267192731928919301193091931919333193731937919381193871939119403194171942119423194271942919433194411944719457194631946919471194771948319489195011950719531195411954319553195591957119577195831959719603196091966119681196871969719699197091971719727197391975119753197591976319777197931980119813198191984119843198531986119867198891989119913199191992719937199491996119963199731997919991199931999720011200212002320029200472005120063200712008920101201072011320117201232012920143201472014920161201732017720183202012021920231\n",
            "02192\n"
          ]
        }
      ]
    },
    {
      "cell_type": "code",
      "source": [
        "import sympy\n",
        "def solution(i):\n",
        "    p_str, p_len = '2', 1 ## prime numbers start from 2\n",
        "    for num in range(3, 20232):\n",
        "        if sympy.isprime(num):\n",
        "            p_str += str(num)\n",
        "            p_len += len(str(num))\n",
        "        if p_len >= i+5:\n",
        "            break\n",
        "    return p_str[i:i+5]\n",
        "print(solution(10000))"
      ],
      "metadata": {
        "colab": {
          "base_uri": "https://localhost:8080/"
        },
        "id": "rAW7wfsJIbgW",
        "outputId": "ec4df1b1-c878-401b-9f70-40df535f76bd"
      },
      "execution_count": null,
      "outputs": [
        {
          "output_type": "stream",
          "name": "stdout",
          "text": [
            "02192\n"
          ]
        }
      ]
    },
    {
      "cell_type": "markdown",
      "source": [
        "https://stackoverflow.com/questions/46853104/can-this-solution-to-the-google-foobar-re-id-be-more-efficient  "
      ],
      "metadata": {
        "id": "mwg2akedoQbj"
      }
    },
    {
      "cell_type": "code",
      "source": [
        "%%time\n",
        "## brute force...\n",
        "def solution(i):\n",
        "    p_str, p_len = '23', 2 ## prime numbers start from 2\n",
        "    for num in range(3, 20232, 2): ## all even numbers are not primes\n",
        "        for j in range(3, num):\n",
        "            if (num % j) == 0: ## has a factor that is either 1 or itself\n",
        "                break\n",
        "            elif len(p_str) >= 10005: ## the prime string is long enough\n",
        "                break\n",
        "            elif j == num-1:\n",
        "                p_str += str(num)\n",
        "                break\n",
        "            else:\n",
        "                continue\n",
        "    return p_str[i:i+5]\n",
        "print(solution(10000))"
      ],
      "metadata": {
        "colab": {
          "base_uri": "https://localhost:8080/"
        },
        "id": "fP6cFbXyfAVd",
        "outputId": "4512d41f-2b2a-4d8a-b27f-f6a92729a704"
      },
      "execution_count": null,
      "outputs": [
        {
          "output_type": "stream",
          "name": "stdout",
          "text": [
            "02192\n",
            "CPU times: user 6.32 s, sys: 0 ns, total: 6.32 s\n",
            "Wall time: 6.43 s\n"
          ]
        }
      ]
    },
    {
      "cell_type": "code",
      "source": [
        "%%time\n",
        "## brute force with a little improvement...\n",
        "def solution(i):\n",
        "    p_str, p_len = '23', 2 ## prime numbers start from 2\n",
        "    for num in range(3, 20232, 2): ## all even numbers are not primes\n",
        "        for j in range(3, num):\n",
        "            if (num % j) == 0: ## has a factor that is either 1 or itself\n",
        "                break\n",
        "            if j == num-1:\n",
        "                p_str += str(num)\n",
        "                p_len += len(str(num))\n",
        "        if len(p_str) >= 10005:\n",
        "            break\n",
        "    return p_str[i:i+5]\n",
        "print(solution(10000))"
      ],
      "metadata": {
        "colab": {
          "base_uri": "https://localhost:8080/"
        },
        "id": "jJQY-afCfNi5",
        "outputId": "2df9d6e2-c32e-4282-833f-604ae11c481a"
      },
      "execution_count": null,
      "outputs": [
        {
          "output_type": "stream",
          "name": "stdout",
          "text": [
            "02192\n",
            "CPU times: user 3.04 s, sys: 0 ns, total: 3.04 s\n",
            "Wall time: 3.06 s\n"
          ]
        }
      ]
    },
    {
      "cell_type": "code",
      "source": [
        "%%time\n",
        "## probably the \"right\" solution\n",
        "def solution(i):\n",
        "    def sieve_of_eratosthenes(n):\n",
        "        \"\"\"Returns a list of prime numbers up to n.\"\"\"\n",
        "        primes_str = ''\n",
        "        is_prime = [True] * (n+1)\n",
        "        for i in range(2, n+1):\n",
        "            if is_prime[i]:\n",
        "                primes_str += str(i)\n",
        "            for j in range(i*i, n+1, i):\n",
        "                is_prime[j] = False\n",
        "        return primes_str\n",
        "\n",
        "    p_str = sieve_of_eratosthenes(20232)\n",
        "    return p_str[i:i+5]\n",
        "\n",
        "print(solution(10000)) ## remove prints for submission"
      ],
      "metadata": {
        "colab": {
          "base_uri": "https://localhost:8080/"
        },
        "id": "vyOctXAViwU5",
        "outputId": "ebe61bb9-2577-443d-bcd9-1e92f6250819"
      },
      "execution_count": null,
      "outputs": [
        {
          "output_type": "stream",
          "name": "stdout",
          "text": [
            "02192\n",
            "CPU times: user 14.2 ms, sys: 0 ns, total: 14.2 ms\n",
            "Wall time: 15.1 ms\n"
          ]
        }
      ]
    },
    {
      "cell_type": "markdown",
      "source": [
        "```\n",
        "foobar:~/re-id ***$ cat constrains.txt  \n",
        "cat: constrains.txt: No such file or directory  \n",
        "foobar:~/re-id ***$ cat constraints.txt  \n",
        "Java  \n",
        "====  \n",
        "Your code will be compiled using standard Java 8. All tests will be run\n",
        "by calling the solution() method inside the Solution class\n",
        "\n",
        "Execution time is limited.\n",
        "\n",
        "Wildcard imports and some specific classes are restricted (e.g. java.\n",
        "lang.ClassLoader). You will receive an error when you verify your\n",
        "solution if you have used a restricted class.\n",
        "\n",
        "Third-party libraries, input/output operations, spawning threads or\n",
        "processes and changes to the execution environment are not allowed.\n",
        "\n",
        "Your solution must be under 32000 characters in length including new\n",
        "lines and other non-printing characters.\n",
        "\n",
        "Python  \n",
        "======  \n",
        "Your code will run inside a Python 2.7.13 sandbox. All tests will be\n",
        "run by calling the solution() function.\n",
        "\n",
        "Standard libraries are supported except for bz2, crypt, fcntl, mmap, pwd, pyexpat, select, signal, termios, thread, time, unicodedata,\n",
        "zipimport, zlib.\n",
        "\n",
        "Input/output operations are not allowed.\n",
        "\n",
        "Your solution must be under 32000 characters in length including new\n",
        "lines and other non-printing characters.\n",
        "```"
      ],
      "metadata": {
        "id": "BSXnIeXwhs8M"
      }
    },
    {
      "cell_type": "markdown",
      "source": [
        "# **2.1. please-pass-the-coded-messages**  \n",
        "\n",
        "foobar:~/please-pass-the-coded-messages ***$ cat readme.txt\n",
        "Please Pass the Coded Messages\n",
        "==============================\n",
        "You need to pass a message to the bunny workers, but to avoid detection, the code you agreed to use is... obscure, to say the least. The bunnies are given food on standard-issue plates that are stamped with the numbers 0-9 for easier sorting, and you need to combine sets of plates to create the numbers in the code. The signal that a number is part of the code is that it is divisible by 3. You can do smaller numbers like 15 and 45 easily, but bigger numbers like 144 and 414 are a little trickier. Write a program to help yourself quickly create large numbers for use in the code, given a limited number of plates to work with.\n",
        "\n",
        "You have L, a list containing some digits (0 to 9). Write a function solution(L) which finds the largest number that can be made from some or all of these digits and is divisible by 3. If it is not possible to make such a number, return 0 as the solution. L will contain anywhere from 1 to 9 digits. The same digit may appear multiple times in the list, but each element in the list may only be used once.\n",
        "\n",
        "```\n",
        "-- Python cases --\n",
        "Input:\n",
        "solution.solution([3, 1, 4, 1])\n",
        "Output:\n",
        "    4311\n",
        "\n",
        "Input:\n",
        "solution.solution([3, 1, 4, 1, 5, 9])\n",
        "Output:\n",
        "    94311\n",
        "```"
      ],
      "metadata": {
        "id": "c7y1Lb6GlKd9"
      }
    },
    {
      "cell_type": "code",
      "source": [
        "ns = []\n",
        "for i in range(10):\n",
        "    ns.append(i*3)\n",
        "print(ns)\n",
        "print([str(n)[-1] for n in ns])"
      ],
      "metadata": {
        "colab": {
          "base_uri": "https://localhost:8080/"
        },
        "id": "fb5uLt1pqItO",
        "outputId": "d2912e16-9927-42e3-8e9d-258ba872cfb8"
      },
      "execution_count": null,
      "outputs": [
        {
          "output_type": "stream",
          "name": "stdout",
          "text": [
            "[0, 3, 6, 9, 12, 15, 18, 21, 24, 27]\n",
            "['0', '3', '6', '9', '2', '5', '8', '1', '4', '7']\n"
          ]
        }
      ]
    },
    {
      "cell_type": "markdown",
      "source": [
        "https://stackoverflow.com/questions/33343528/permutations-in-python-without-libraries  "
      ],
      "metadata": {
        "id": "n3890PmUS10v"
      }
    },
    {
      "cell_type": "code",
      "source": [
        "def permutations(l):\n",
        "    if len(l) == 1:\n",
        "        return [l]\n",
        "    return [[l[i]]+p for i in range(len(l)) for p in permutations(l[:i] + l[i+1:])]\n",
        "print(permutations([3,2,1]))"
      ],
      "metadata": {
        "colab": {
          "base_uri": "https://localhost:8080/"
        },
        "id": "X0xsAhiUQrKl",
        "outputId": "10bc5ed6-4034-491c-f108-bf9a07bbf855"
      },
      "execution_count": null,
      "outputs": [
        {
          "output_type": "stream",
          "name": "stdout",
          "text": [
            "[[3, 2, 1], [3, 1, 2], [2, 3, 1], [2, 1, 3], [1, 3, 2], [1, 2, 3]]\n"
          ]
        }
      ]
    },
    {
      "cell_type": "code",
      "source": [
        "def permutations(l):\n",
        "    ps = []\n",
        "    length = len(l)\n",
        "    if length==1: return [l]\n",
        "    for i in range(length):\n",
        "        for p in permutations(l[:i]+l[i+1:]):\n",
        "            ps += [[l[i]]+p]\n",
        "    return ps\n",
        "permutations([3,2,1])"
      ],
      "metadata": {
        "colab": {
          "base_uri": "https://localhost:8080/"
        },
        "id": "GeF-mmA1R_1W",
        "outputId": "7cadda25-75c5-4b98-b8f1-2cf6c4e15684"
      },
      "execution_count": null,
      "outputs": [
        {
          "output_type": "execute_result",
          "data": {
            "text/plain": [
              "[[3, 2, 1], [3, 1, 2], [2, 3, 1], [2, 1, 3], [1, 3, 2], [1, 2, 3]]"
            ]
          },
          "metadata": {},
          "execution_count": 3
        }
      ]
    },
    {
      "cell_type": "markdown",
      "source": [
        "https://stackoverflow.com/questions/1482308/how-to-get-all-subsets-of-a-set-powerset  "
      ],
      "metadata": {
        "id": "m8M9Sja3XoQw"
      }
    },
    {
      "cell_type": "code",
      "source": [
        "def powerset(l):\n",
        "    ps = []\n",
        "    length = len(l)\n",
        "    for i in range(1<<length, 0, -1):\n",
        "        comb = [l[j] for j in range(length) if (i & (1<<j))]\n",
        "        ps += [[len(comb), comb]]\n",
        "    ps.sort(reverse=True)\n",
        "    return ps\n",
        "powerset([3,2,1])"
      ],
      "metadata": {
        "colab": {
          "base_uri": "https://localhost:8080/"
        },
        "id": "JokCwSgdW1Gn",
        "outputId": "eb9019a9-3cf9-4d99-bab2-0af6fb70151c"
      },
      "execution_count": null,
      "outputs": [
        {
          "output_type": "execute_result",
          "data": {
            "text/plain": [
              "[[3, [3, 2, 1]],\n",
              " [2, [3, 2]],\n",
              " [2, [3, 1]],\n",
              " [2, [2, 1]],\n",
              " [1, [3]],\n",
              " [1, [2]],\n",
              " [1, [1]],\n",
              " [0, []]]"
            ]
          },
          "metadata": {},
          "execution_count": 4
        }
      ]
    },
    {
      "cell_type": "code",
      "source": [
        "## code explain\n",
        "print(bin(1<<3))\n",
        "print(int(0b1000))"
      ],
      "metadata": {
        "colab": {
          "base_uri": "https://localhost:8080/"
        },
        "id": "H2C0CJ2MZdM_",
        "outputId": "91d349ac-6795-4e3c-8fa7-000dfd7c515a"
      },
      "execution_count": null,
      "outputs": [
        {
          "output_type": "stream",
          "name": "stdout",
          "text": [
            "0b1000\n",
            "8\n"
          ]
        }
      ]
    },
    {
      "cell_type": "code",
      "source": [
        "# failed test 3 in google foobar\n",
        "def solution1(l):\n",
        "    def powerset(l):\n",
        "        if not l: return []\n",
        "        ps = []\n",
        "        length = len(l)\n",
        "        for i in range(1<<length, 0, -1):\n",
        "            comb = [l[j] for j in range(length) if (i & (1<<j))]\n",
        "            if sum(comb)%3==0:\n",
        "                ps += [[len(comb), comb]]\n",
        "        ps.sort(reverse=True)\n",
        "        return ps\n",
        "\n",
        "    ps = powerset(l)\n",
        "    for _,p in ps:\n",
        "        num = 0\n",
        "        p.sort(reverse=True)\n",
        "        for digit,power in zip(p, range(len(p)-1,-1,-1)):\n",
        "            num += digit * 10**power\n",
        "        return num\n",
        "    return 0\n",
        "solution1([3, 1, 4, 1])"
      ],
      "metadata": {
        "colab": {
          "base_uri": "https://localhost:8080/"
        },
        "id": "bw_L4V2J8INR",
        "outputId": "a43f0a98-2541-4f70-a6cc-eb8d0e375de2"
      },
      "execution_count": null,
      "outputs": [
        {
          "output_type": "execute_result",
          "data": {
            "text/plain": [
              "4311"
            ]
          },
          "metadata": {},
          "execution_count": 39
        }
      ]
    },
    {
      "cell_type": "code",
      "source": [
        "## test 3 failed...\n",
        "def solution2(l):\n",
        "    def powerset(indices, length):\n",
        "        if not indices: return []\n",
        "        ps_indices = []\n",
        "        for i in range(1<<length, 0, -1):\n",
        "            comb = [indices[j] for j in indices if (i & (1<<j))]\n",
        "            ps_indices += [[len(comb), comb]]\n",
        "        ps_indices.sort(reverse=True)\n",
        "        return ps_indices\n",
        "\n",
        "    if not l: return 0\n",
        "    length = len(l)\n",
        "    ps_indices = powerset(list(range(length)), length)\n",
        "    for _,indices in ps_indices:\n",
        "        s = [l[idx] for idx in indices]\n",
        "        if sum(s)%3==0:\n",
        "            s.sort(reverse=True)\n",
        "            num = 0\n",
        "            for digit,power in zip(s, range(len(s)-1,-1,-1)):\n",
        "                num += digit * 10**power\n",
        "            return num\n",
        "    return 0\n",
        "solution2([3, 1, 4, 1])"
      ],
      "metadata": {
        "colab": {
          "base_uri": "https://localhost:8080/"
        },
        "id": "-RLg_hPVlOMU",
        "outputId": "1b99aa3c-c21f-44f9-e3c9-9e5216be84e2"
      },
      "execution_count": null,
      "outputs": [
        {
          "output_type": "execute_result",
          "data": {
            "text/plain": [
              "4311"
            ]
          },
          "metadata": {},
          "execution_count": 7
        }
      ]
    },
    {
      "cell_type": "code",
      "source": [
        "## test 3 failed...\n",
        "def solution3(l):\n",
        "    from itertools import combinations\n",
        "    def get_powerset(s, n):\n",
        "        powerset = []\n",
        "        for r in range(1, n+1):\n",
        "            for comb in (combinations(s, r)):\n",
        "                powerset += [[len(comb), list(comb)]]\n",
        "        powerset.sort(reverse=True)\n",
        "        return powerset\n",
        "\n",
        "    if not l: return 0\n",
        "    length = len(l)\n",
        "    ps_indices = get_powerset(list(range(length)), length)\n",
        "    for _,indices in ps_indices:\n",
        "        s = [l[idx] for idx in indices]\n",
        "        if sum(s)%3==0:\n",
        "            s.sort(reverse=True)\n",
        "            num = 0\n",
        "            for digit,power in zip(s, range(len(s)-1,-1,-1)):\n",
        "                num += digit * 10**power\n",
        "            return num\n",
        "    return 0\n",
        "solution3([3, 1, 4, 1])"
      ],
      "metadata": {
        "colab": {
          "base_uri": "https://localhost:8080/"
        },
        "id": "XipOdQz2Gnon",
        "outputId": "bd16f162-6aa9-40dd-82ae-173dcb54fe20"
      },
      "execution_count": null,
      "outputs": [
        {
          "output_type": "execute_result",
          "data": {
            "text/plain": [
              "4311"
            ]
          },
          "metadata": {},
          "execution_count": 8
        }
      ]
    },
    {
      "cell_type": "code",
      "source": [
        "## test 3 failed...\n",
        "def solution4(l):\n",
        "    from itertools import combinations\n",
        "    def get_powerset(s, n):\n",
        "        powerset = []\n",
        "        for r in range(1, n+1):\n",
        "            for comb in (combinations(s, r)):\n",
        "                yield comb\n",
        "\n",
        "    if not l: return 0\n",
        "    length = len(l)\n",
        "    set_generator = get_powerset(list(range(length)), length)\n",
        "    longest, largest = 0, 0\n",
        "    for s in set_generator:\n",
        "        current_length = len(s)\n",
        "        if current_length>=longest:\n",
        "            s = [l[idx] for idx in s]\n",
        "            if sum(s)%3==0:\n",
        "                s.sort(reverse=True)\n",
        "                num = 0\n",
        "                for digit,power in zip(s, range(len(s)-1,-1,-1)):\n",
        "                    num += digit * 10**power\n",
        "                if num>largest:\n",
        "                    largest = num\n",
        "    return largest\n",
        "solution4([3, 1, 4, 1])"
      ],
      "metadata": {
        "colab": {
          "base_uri": "https://localhost:8080/"
        },
        "outputId": "b69a3cec-6add-481c-f1b1-2aa36c5148a0",
        "id": "FmS8Pe0VHpKB"
      },
      "execution_count": null,
      "outputs": [
        {
          "output_type": "execute_result",
          "data": {
            "text/plain": [
              "4311"
            ]
          },
          "metadata": {},
          "execution_count": 9
        }
      ]
    },
    {
      "cell_type": "code",
      "source": [
        "from itertools import combinations\n",
        "def _all_combos(s):\n",
        "    n = len(s)\n",
        "    powerset = []\n",
        "    for r in range(1, n+1):\n",
        "        for comb in (combinations(s, r)):\n",
        "            powerset += [[len(comb), list(comb)]]\n",
        "    powerset.sort(reverse=True)\n",
        "    return powerset\n",
        "_all_combos([3,2,1])"
      ],
      "metadata": {
        "colab": {
          "base_uri": "https://localhost:8080/"
        },
        "id": "sIPoBjhjptw0",
        "outputId": "014d51e5-dd43-455b-ea5b-29038867e2c1"
      },
      "execution_count": null,
      "outputs": [
        {
          "output_type": "execute_result",
          "data": {
            "text/plain": [
              "[[3, [3, 2, 1]],\n",
              " [2, [3, 2]],\n",
              " [2, [3, 1]],\n",
              " [2, [2, 1]],\n",
              " [1, [3]],\n",
              " [1, [2]],\n",
              " [1, [1]]]"
            ]
          },
          "metadata": {},
          "execution_count": 34
        }
      ]
    },
    {
      "cell_type": "code",
      "source": [
        "## all tests failed in google foobar...\n",
        "def solution5(l):\n",
        "    def powersets_generator(digits):\n",
        "        if not digits:\n",
        "            yield []\n",
        "        else:\n",
        "            first = digits.pop(0)\n",
        "            for subset in powersets_generator(digits):\n",
        "                yield [first, *subset]\n",
        "                yield subset\n",
        "\n",
        "    if not l: return 0\n",
        "    result = 0\n",
        "    for p in powersets_generator(l):\n",
        "        if not sum(p)%3:\n",
        "            p.sort(reverse=True)\n",
        "            num = 0\n",
        "            for digit,power in zip(p, range(len(p)-1,-1,-1)):\n",
        "                num += digit * 10**power\n",
        "            if num > result:\n",
        "                result = num\n",
        "    return result\n",
        "print(solution5([3, 1, 4, 1]))\n",
        "print(solution5([3, 1, 4, 1, 5, 9]))"
      ],
      "metadata": {
        "colab": {
          "base_uri": "https://localhost:8080/"
        },
        "id": "iLzrPeMm9c6F",
        "outputId": "8557ef42-3a50-4232-ec6a-0506f34e947b"
      },
      "execution_count": null,
      "outputs": [
        {
          "output_type": "stream",
          "name": "stdout",
          "text": [
            "4311\n",
            "94311\n"
          ]
        }
      ]
    },
    {
      "cell_type": "code",
      "source": [
        "def _powersets_generator(digits):\n",
        "    if not digits:\n",
        "        yield []\n",
        "    else:\n",
        "        first = digits.pop(0)\n",
        "        for subset in _powersets_generator(digits):\n",
        "            yield [first, *subset]\n",
        "            yield subset\n",
        "for s in _powersets_generator([3,2,1]):\n",
        "    print(s)"
      ],
      "metadata": {
        "colab": {
          "base_uri": "https://localhost:8080/"
        },
        "id": "7Oyaa7H0g_gI",
        "outputId": "50fdaa4c-a830-4690-fac6-33c4566e83ef"
      },
      "execution_count": null,
      "outputs": [
        {
          "output_type": "stream",
          "name": "stdout",
          "text": [
            "[3, 2, 1]\n",
            "[2, 1]\n",
            "[3, 1]\n",
            "[1]\n",
            "[3, 2]\n",
            "[2]\n",
            "[3]\n",
            "[]\n"
          ]
        }
      ]
    },
    {
      "cell_type": "code",
      "source": [
        "## passed all 5 tests\n",
        "def solution6(l):\n",
        "    if not l: return 0\n",
        "    x = find_largest_bucket(l)\n",
        "    return find_max_number(x)\n",
        "\n",
        "def find_largest_bucket(l):\n",
        "    ## Are the digits in the list divisible?\n",
        "    if sum(digit for digit in l)%3 == 0:\n",
        "        return l\n",
        "    ## Find all smaller buckets recursively\n",
        "    buckets = []\n",
        "    for digit in l:\n",
        "        if digit not in {0, 3, 6, 9}:\n",
        "            tmp = l[:]\n",
        "            tmp.remove(digit)\n",
        "            buckets.append(find_largest_bucket(tmp))\n",
        "    largest_bucket = max(buckets, key=find_max_number)\n",
        "    return largest_bucket\n",
        "\n",
        "def find_max_number(l):\n",
        "    ## Returns maximal number that can be generated from list.\n",
        "    l_sorted = sorted(l, reverse=True)\n",
        "    # number = ''.join(str(x) for x in l_sorted) ## test 4 failed\n",
        "    # return int(number)\n",
        "    num = 0\n",
        "    for digit,power in zip(l_sorted, range(len(l_sorted)-1,-1,-1)):\n",
        "        num += digit * 10**power\n",
        "    return num\n",
        "solution6([3, 1, 4, 1])"
      ],
      "metadata": {
        "colab": {
          "base_uri": "https://localhost:8080/"
        },
        "id": "dxrdirlwXKy9",
        "outputId": "120fc2a1-f4b6-4a7b-a25a-23175b47d2a5"
      },
      "execution_count": null,
      "outputs": [
        {
          "output_type": "execute_result",
          "data": {
            "text/plain": [
              "4311"
            ]
          },
          "metadata": {},
          "execution_count": 46
        }
      ]
    },
    {
      "cell_type": "code",
      "source": [
        "from time import time\n",
        "ls =[\n",
        "    [[3, 1, 4, 1], 4311],\n",
        "    [[3, 1, 4, 1, 5, 9], 94311],\n",
        "    [[], 0],\n",
        "    [[1,1,1],  111],\n",
        "    [[5,5], 0],\n",
        "    [[5,5,5,5], 555],\n",
        "    [[5,5,5,5,6], 6555],\n",
        "    [[0,0,1], 0],\n",
        "    [[0,1,1], 0],\n",
        "    [[0,1,1,3], 30],\n",
        "    [[0,0,0,0,0,0,0,0,0,0], 0],\n",
        "    [None, 0],\n",
        "    [[0,1,2,3,4,5,6,7,8,9], 9876543210],\n",
        "]\n",
        "for i in range(1, 7):\n",
        "    func = globals()['solution'+str(i)]\n",
        "    start_time = time()\n",
        "    for _ in range(1000):\n",
        "        for l,num in ls:\n",
        "            num_ = func(l)\n",
        "            # if num_!=num:\n",
        "            #     print(f\"{l}: expect {num}, got {num_}\")\n",
        "    end_time = time()\n",
        "    print(f\"{func} execution time: {end_time-start_time}\")"
      ],
      "metadata": {
        "colab": {
          "base_uri": "https://localhost:8080/"
        },
        "id": "EHOh3ZU_8OU6",
        "outputId": "d1e54f98-24df-4bba-88f7-4df0fa453bd6"
      },
      "execution_count": null,
      "outputs": [
        {
          "output_type": "stream",
          "name": "stdout",
          "text": [
            "<function solution1 at 0x7aaa8f818550> execution time: 7.3919360637664795\n",
            "<function solution2 at 0x7aaac00ddf30> execution time: 6.869976997375488\n",
            "<function solution3 at 0x7aaac0efa830> execution time: 2.0300796031951904\n",
            "<function solution4 at 0x7aaac0efae60> execution time: 6.538036823272705\n",
            "<function solution5 at 0x7aaa8f98ba30> execution time: 0.011954307556152344\n",
            "<function solution6 at 0x7aaa8f727f40> execution time: 0.0023593902587890625\n"
          ]
        }
      ]
    },
    {
      "cell_type": "markdown",
      "source": [
        "# **2.2. hey-i-already-did-that**  \n",
        "\n",
        "foobar:~/hey-i-already-did-that ***$ cat readme.txt\n",
        "\n",
        "Hey, I Already Did That!\n",
        "========================\n",
        "\n",
        "Commander Lambda uses an automated algorithm to assign minions randomly to tasks, in order to keep minions on their toes. But you've noticed a flaw in the algorithm -- it eventually loops back on itself, so that instead of assigning new minions as it iterates, it gets stuck in a cycle of values so that the same minions end up doing the same tasks over and over again. You think proving this to Commander Lambda will help you make a case for your next promotion. You have worked out that the algorithm has the following process:   \n",
        "\n",
        "1) Start with a random minion ID n, which is a nonnegative integer of length k in base b  \n",
        "\n",
        "2) Define x and y as integers of length k.  x has the digits of n in descending order, and y has the digits of n in ascending order  \n",
        "\n",
        "3) Define z = x - y.  Add leading zeros to z to maintain length k if necessary  \n",
        "\n",
        "4) Assign n = z to get the next minion ID, and go back to step 2  \n",
        "\n",
        "For example, given minion ID n = 1211, k = 4, b = 10, then x = 2111, y = 1112 and z = 2111 - 1112 = 0999. Then the next minion ID will be n = 0999 and the algorithm iterates again: x = 9990, y = 0999 and z = 9990 - 0999 = 8991, and so on.  \n",
        "\n",
        "Depending on the values of n, k (derived from n), and b, at some point the algorithm reaches a cycle, such as by reaching a constant value. For example, starting with n = 210022, k = 6, b = 3, the algorithm will reach the cycle of values [210111, 122221, 102212] and it will stay in this cycle no matter how many times it continues iterating. Starting with n = 1211, the routine will reach the integer 6174, and since 7641 - 1467 is 6174, it will stay as that value no matter how many times it iterates.  \n",
        "\n",
        "Given a minion ID as a string n representing a nonnegative integer of length k in base b, where 2 <= k <= 9 and 2 <= b <= 10, write a function solution(n, b) which returns the length of the ending cycle of the algorithm above starting with n. For instance, in the example above, solution(210022, 3) would return 3, since iterating on 102212 would return to 210111 when done in base 3. If the algorithm reaches a constant, such as 0, then the length is 1.  \n",
        "\n",
        "```\n",
        "-- Python cases --\n",
        "Input:solution.solution('1211', 10) Output:    1\n",
        "Input:solution.solution('210022', 3) Output:    3\n",
        "```"
      ],
      "metadata": {
        "id": "InevYD3jJnxa"
      }
    },
    {
      "cell_type": "code",
      "source": [
        "## not useful here\n",
        "from numpy import base_repr ## under 36\n",
        "base_repr(222100, base=10)"
      ],
      "metadata": {
        "colab": {
          "base_uri": "https://localhost:8080/",
          "height": 35
        },
        "id": "J_p5f7QwZv2n",
        "outputId": "440e3876-7f33-4038-981a-3e085e931f08"
      },
      "execution_count": null,
      "outputs": [
        {
          "output_type": "execute_result",
          "data": {
            "text/plain": [
              "'222100'"
            ],
            "application/vnd.google.colaboratory.intrinsic+json": {
              "type": "string"
            }
          },
          "metadata": {},
          "execution_count": 2
        }
      ]
    },
    {
      "cell_type": "code",
      "source": [
        "n = '222100'\n",
        "''.join(sorted(n))"
      ],
      "metadata": {
        "colab": {
          "base_uri": "https://localhost:8080/",
          "height": 35
        },
        "id": "BwTCZy1Mo4Jo",
        "outputId": "af6b9ca2-b3b9-41f8-8179-9c48e2cfb93e"
      },
      "execution_count": null,
      "outputs": [
        {
          "output_type": "execute_result",
          "data": {
            "text/plain": [
              "'001222'"
            ],
            "application/vnd.google.colaboratory.intrinsic+json": {
              "type": "string"
            }
          },
          "metadata": {},
          "execution_count": 9
        }
      ]
    },
    {
      "cell_type": "code",
      "source": [
        "def solution(n, b): ## n is string, b is int\n",
        "    def x_minus_y_base_b(x, y, k, b): ## x >= y and both are strings\n",
        "        diff = '' ## return a string\n",
        "        carry = 0\n",
        "        for i in range(-1, -k-1, -1):\n",
        "            _x, _y = int(x[i]), int(y[i])\n",
        "            if _x-carry<_y:\n",
        "                digit = _x - carry + b - _y\n",
        "                carry = 1\n",
        "            else:\n",
        "                digit = _x - carry - _y\n",
        "                carry = 0\n",
        "            diff = str(digit) + diff\n",
        "        return diff\n",
        "\n",
        "    k = len(n)\n",
        "    _n, diff = n[1:]+n[0], None\n",
        "    diffs = dict()\n",
        "    count = 0\n",
        "    while True:\n",
        "        x = ''.join(sorted(_n, reverse=True))\n",
        "        y = ''.join(sorted(_n))\n",
        "        diff = x_minus_y_base_b(x, y, k, b)\n",
        "        if diff in diffs:\n",
        "            break\n",
        "        else:\n",
        "            diffs[diff] = count\n",
        "            count += 1\n",
        "            _n = diff[1:] + diff[0]\n",
        "    return count - diffs[diff]\n",
        "\n",
        "print(solution('1211', 10)) ## expect 1\n",
        "print(solution('210022', 3)) ## 3"
      ],
      "metadata": {
        "colab": {
          "base_uri": "https://localhost:8080/"
        },
        "id": "MWRMe43qNUKr",
        "outputId": "1fa5a443-1605-4779-c388-f6a82a433f87"
      },
      "execution_count": null,
      "outputs": [
        {
          "output_type": "stream",
          "name": "stdout",
          "text": [
            "1\n",
            "3\n"
          ]
        }
      ]
    },
    {
      "cell_type": "markdown",
      "source": [
        "# **3.1. fuel-injection-perfection**    \n",
        "\n",
        "foobar:~/fuel-injection-perfection ***$ cat readme.txt\n",
        "\n",
        "Fuel Injection Perfection  \n",
        "=========================\n",
        "\n",
        "Commander Lambda has asked for your help to refine the automatic quantum antimatter fuel injection system for the LAMBCHOP doomsday device. It's a great chance for you to get a closer look at the LAMBCHOP -- and maybe sneak in a bit of sabotage while you're at it -- so you took the job gladly.   \n",
        "\n",
        "Quantum antimatter fuel comes in small pellets, which is convenient since the many moving parts of the LAMBCHOP each need to be fed fuel one pellet at a time. However, minions dump pellets in bulk into the fuel intake. You need to figure out the most efficient way to sort and shift the pellets down to a single pellet at a time. The fuel control mechanisms have three operations:   \n",
        "\n",
        "1) Add one fuel pellet  \n",
        "2) Remove one fuel pellet  \n",
        "3) Divide the entire group of fuel pellets by 2 (due to the destructive energy released when a quantum antimatter pellet is cut in half, the safety controls will only allow this to happen if there is an even number of pellets)  \n",
        "\n",
        "Write a function called solution(n) which takes a positive integer as a string and returns the minimum number of operations needed to transform the number of pellets to 1. The fuel intake control panel can only display a number up to 309 digits long, so there won't ever be more pellets than you can express in that many digits.  \n",
        "\n",
        "For example:  \n",
        "solution(4) returns 2: 4 -> 2 -> 1  \n",
        "solution(15) returns 5: 15 -> 16 -> 8 -> 4 -> 2 -> 1  \n",
        "\n",
        "```\n",
        "-- Python cases --\n",
        "Input:solution.solution('15')Output:    5\n",
        "Input:solution.solution('4')Output:    2\n",
        "\n",
        "```\n",
        "\n"
      ],
      "metadata": {
        "id": "mUHK-U4_ynxg"
      }
    },
    {
      "cell_type": "code",
      "source": [
        "## wrong understanding of the problem\n",
        "def _solution(n):\n",
        "    _n = int(n)\n",
        "    power = 0\n",
        "    while 2**power<_n:\n",
        "        power += 1\n",
        "    return min(2**(power+1)-_n, 2**power-_n) + power\n",
        "\n",
        "print(solution(15)) ## expect 5\n",
        "print(solution(4)) ## 2"
      ],
      "metadata": {
        "colab": {
          "base_uri": "https://localhost:8080/"
        },
        "id": "iygUKhzWQx2O",
        "outputId": "42022ac5-579c-4e3c-cb47-8a9be8399010"
      },
      "execution_count": null,
      "outputs": [
        {
          "output_type": "stream",
          "name": "stdout",
          "text": [
            "5\n",
            "2\n"
          ]
        }
      ]
    },
    {
      "cell_type": "code",
      "source": [
        "## passed test 1,2,8,9,10 of 10 tests\n",
        "## i guess it is not fast enough\n",
        "def solution(n):\n",
        "    _n = int(n)\n",
        "    nums = {1}\n",
        "    s = 1\n",
        "    count = 0\n",
        "    while _n not in nums:\n",
        "        count += 1\n",
        "        _nums = list(nums)\n",
        "        for num in _nums:\n",
        "            nums.add(num+1)\n",
        "            if num-1>=1:\n",
        "                nums.add(num-1)\n",
        "            if num*2<=_n*2:\n",
        "                nums.add(num*2)\n",
        "    print(nums)\n",
        "    return count\n",
        "\n",
        "print(solution(15)) ## expect 5\n",
        "print(solution(4)) ## 2\n",
        "print(solution(10))"
      ],
      "metadata": {
        "colab": {
          "base_uri": "https://localhost:8080/"
        },
        "id": "zvRltJg8Wj2K",
        "outputId": "aa1aae51-eca3-407d-864d-8bc97ff80ca0"
      },
      "execution_count": null,
      "outputs": [
        {
          "output_type": "stream",
          "name": "stdout",
          "text": [
            "{1, 2, 3, 4, 5, 6, 7, 8, 9, 10, 11, 12, 13, 14, 15, 16, 17, 18, 20, 24}\n",
            "5\n",
            "{1, 2, 3, 4}\n",
            "2\n",
            "{1, 2, 3, 4, 5, 6, 7, 8, 9, 10, 12, 16}\n",
            "4\n"
          ]
        }
      ]
    },
    {
      "cell_type": "code",
      "source": [
        "def solution(n):\n",
        "    _n = int(n)\n",
        "    count = 0\n",
        "    while _n > 1:\n",
        "        if _n&1==1: ## n is odd\n",
        "            if _n%4==1 or _n==3:\n",
        "                _n -= 1\n",
        "            else:\n",
        "                _n += 1\n",
        "        else: ## n is even\n",
        "            _n = _n >> 1\n",
        "        count += 1\n",
        "    return count\n",
        "print(solution(15)) ## expect 5\n",
        "print(solution(4)) ## 2\n",
        "print(solution(10)) ## 4"
      ],
      "metadata": {
        "colab": {
          "base_uri": "https://localhost:8080/"
        },
        "id": "7hD9g9uMoW0r",
        "outputId": "d965db93-313c-4dd7-b511-a00a6422641b"
      },
      "execution_count": null,
      "outputs": [
        {
          "output_type": "stream",
          "name": "stdout",
          "text": [
            "5\n",
            "2\n",
            "4\n"
          ]
        }
      ]
    },
    {
      "cell_type": "markdown",
      "source": [
        "# **3.2. prepare-the-bunnies-escape**  \n",
        "\n",
        "Prepare the Bunnies' Escape\n",
        "===========================\n",
        "You're awfully close to destroying the LAMBCHOP doomsday device and freeing Commander Lambda's bunny workers, but once they're free of the work duties the bunnies are going to need to escape Lambda's space station via the escape pods as quickly as possible. Unfortunately, the halls of the space station are a maze of corridors and dead ends that will be a deathtrap for the escaping bunnies. Fortunately, Commander Lambda has put you in charge of a remodeling project that will give you the opportunity to make things a little easier for the bunnies. Unfortunately (again), you can't just remove all obstacles between the bunnies and the escape pods - at most you can remove one wall per escape pod path, both to maintain structural integrity of the station and to avoid arousing Commander Lambda's suspicions.\n",
        "\n",
        "You have maps of parts of the space station, each starting at a work area exit and ending at the door to an escape pod. The map is represented as a matrix of 0s and 1s, where 0s are passable space and 1s are impassable walls. The door out of the station is at **the top left (0,0)** and the door into an escape pod is at **the bottom right (w-1,h-1)**.\n",
        "\n",
        "Write a function solution(map) that generates the length of the shortest path from the station door to the escape pod, where you are allowed to remove one wall as part of your remodeling plans. The path length is the total number of nodes you pass through, counting both the entrance and exit nodes. The starting and ending positions are always passable (0). The map will always be solvable, though you may or may not need to remove a wall. The height and width of the map can be from 2 to 20. Moves can only be made in cardinal directions; no diagonal moves are allowed.  \n",
        "\n",
        "```\n",
        "-- Python cases --\n",
        "Input:\n",
        "solution.solution([\n",
        "    [0, 0, 0, 0, 0, 0],\n",
        "    [1, 1, 1, 1, 1, 0],\n",
        "    [0, 0, 0, 0, 0, 0],\n",
        "    [0, 1, 1, 1, 1, 1],\n",
        "    [0, 1, 1, 1, 1, 1],\n",
        "    [0, 0, 0, 0, 0, 0]])\n",
        "Output:\n",
        "    11\n",
        "\n",
        "Input:\n",
        "solution.solution([\n",
        "    [0, 1, 1, 0],\n",
        "    [0, 0, 0, 1],\n",
        "    [1, 1, 0, 0],\n",
        "    [1, 1, 1, 0]])\n",
        "Output:\n",
        "    7\n",
        "```"
      ],
      "metadata": {
        "id": "nCVcR_d9piGC"
      }
    },
    {
      "cell_type": "code",
      "source": [
        "## passed 1,2 of 5 tests\n",
        "## took too much time or memory?\n",
        "## pop(0) - BFS, pop(-1) - DFS\n",
        "def solution(map):\n",
        "    h, w = len(map), len(map[0])\n",
        "    l = h * w\n",
        "    paths = [(0, (0,0), {0})] ## (break_wall, fringe, [passed pods])\n",
        "    shortest = l\n",
        "    while paths:\n",
        "        break_wall, (i,j), passed = paths.pop(-1)\n",
        "        l = len(passed)\n",
        "        if i==w-1 and j==h-1: ## exit the map\n",
        "            print(passed)\n",
        "            if l<shortest:\n",
        "                shortest = l\n",
        "            continue\n",
        "\n",
        "        for i_new,j_new in [\n",
        "            (i, j+1), ## move right\n",
        "            (i+1, j), ## down\n",
        "            (i, j-1), ## left\n",
        "            (i-1, j), ## up\n",
        "        ]:\n",
        "            break_wall_new, passed_new = break_wall, passed.copy()\n",
        "            next_pod = w*i_new + j_new\n",
        "            if i_new>=0 and i_new<h \\\n",
        "            and j_new>=0 and j_new<w \\\n",
        "            and next_pod not in passed_new:\n",
        "                if map[i_new][j_new]==1:\n",
        "                    if not break_wall: ## break wall\n",
        "                        break_wall_new = True\n",
        "                    else:\n",
        "                        continue\n",
        "                passed_new.add(next_pod)\n",
        "                paths.append((break_wall_new, (i_new,j_new), passed_new))\n",
        "    return shortest\n",
        "\n",
        "print(\n",
        "solution([\n",
        "    [0, 1, 1, 0],\n",
        "    [0, 0, 0, 1],\n",
        "    [1, 1, 0, 0],\n",
        "    [1, 1, 1, 0]])\n",
        ") ## expect 7"
      ],
      "metadata": {
        "colab": {
          "base_uri": "https://localhost:8080/"
        },
        "id": "qcdw_7DNsU3l",
        "outputId": "e73fb713-fd17-48ae-ac43-a117a8b297a3"
      },
      "execution_count": null,
      "outputs": [
        {
          "output_type": "stream",
          "name": "stdout",
          "text": [
            "{0, 4, 5, 9, 10, 11, 15}\n",
            "{0, 4, 5, 6, 10, 14, 15}\n",
            "{0, 4, 5, 6, 10, 11, 15}\n",
            "{0, 4, 5, 6, 7, 11, 15}\n",
            "{0, 1, 5, 6, 10, 11, 15}\n",
            "7\n"
          ]
        }
      ]
    },
    {
      "cell_type": "code",
      "source": [
        "## flood algorithm, all 5 tests passed\n",
        "def solution(map):\n",
        "    def flood(h, w, map):\n",
        "        count = 1\n",
        "        fringe, flooded = {(0,0)}, {(0,0)}\n",
        "        while (h-1,w-1) not in fringe:\n",
        "            fringe_new = set()\n",
        "            for i,j in fringe:\n",
        "                for i_new,j_new in [\n",
        "                    (i, j+1), ## move right\n",
        "                    (i+1, j), ## down\n",
        "                    (i, j-1), ## left\n",
        "                    (i-1, j), ## up\n",
        "                ]:\n",
        "                    if i_new>=0 and i_new<h \\\n",
        "                    and j_new>=0 and j_new<w \\\n",
        "                    and map[i_new][j_new]==0 \\\n",
        "                    and (i_new,j_new) not in flooded:\n",
        "                        fringe_new.add((i_new, j_new))\n",
        "            ## just in case there is no way to exit\n",
        "            if (i!=h-1 or j!=w-1) and not fringe_new:\n",
        "                return float('inf')\n",
        "            count += 1\n",
        "            fringe = fringe_new\n",
        "            flooded.update(fringe_new)\n",
        "        return count\n",
        "\n",
        "    h, w = len(map), len(map[0])\n",
        "    l = h * w\n",
        "    shortest = l\n",
        "    for i_ in range(h):\n",
        "        for j_ in range(w):\n",
        "            if map[i_][j_]==0:\n",
        "                continue\n",
        "            else: ## explore the map\n",
        "                map[i_][j_] = 0 ## remove a wall\n",
        "                count = flood(h, w, map)\n",
        "                if count==h+w-1: return count ## early exit\n",
        "                if count<shortest: shortest = count\n",
        "                map[i_][j_] = 1 ## restore the wall\n",
        "    count = flood(h, w, map) ## no removing any wall\n",
        "    if count<shortest: shortest = count\n",
        "    return shortest\n",
        "\n",
        "print(\n",
        "solution([\n",
        "    [0, 1, 1, 0],\n",
        "    [0, 0, 0, 1],\n",
        "    [1, 1, 0, 0],\n",
        "    [1, 1, 1, 0]])\n",
        ") ## expect 7"
      ],
      "metadata": {
        "colab": {
          "base_uri": "https://localhost:8080/"
        },
        "id": "F9Fgjgr7t9qG",
        "outputId": "4e4690f2-2f7c-4036-dce6-46d54f2a5b02"
      },
      "execution_count": null,
      "outputs": [
        {
          "output_type": "stream",
          "name": "stdout",
          "text": [
            "7\n"
          ]
        }
      ]
    },
    {
      "cell_type": "code",
      "source": [
        "print(\n",
        "solution([\n",
        "    [0, 0, 0, 0, 0, 0],\n",
        "    [1, 1, 1, 1, 1, 0],\n",
        "    [0, 0, 0, 0, 0, 0],\n",
        "    [0, 1, 1, 1, 1, 1],\n",
        "    [0, 1, 1, 1, 1, 1],\n",
        "    [0, 0, 0, 0, 0, 0]])\n",
        ") ## expect 11\n",
        "\n",
        "print(\n",
        "solution([\n",
        "    [0, 0, 0, 0, 0],\n",
        "    [1, 1, 1, 1, 0],\n",
        "    [0, 0, 0, 0, 0],\n",
        "    [0, 1, 1, 1, 1],\n",
        "    [0, 0, 0, 0, 0]])\n",
        ") ## expect 9"
      ],
      "metadata": {
        "colab": {
          "base_uri": "https://localhost:8080/"
        },
        "id": "Y9chCyDrgDZE",
        "outputId": "7a8ae19c-b897-45ea-9b2d-29d6d8e5909f"
      },
      "execution_count": null,
      "outputs": [
        {
          "output_type": "stream",
          "name": "stdout",
          "text": [
            "11\n",
            "9\n",
            "7\n"
          ]
        }
      ]
    },
    {
      "cell_type": "markdown",
      "source": [
        "# **3.3. bomb-baby**  \n",
        "\n",
        "foobar:~/bomb-baby ***$ cat readme.txt  \n",
        "\n",
        "Bomb, Baby!\n",
        "===========\n",
        "You're so close to destroying the LAMBCHOP doomsday device you can taste it! But in order to do so, you need to deploy special self-replicating bombs designed for you by the brightest scientists on Bunny Planet. There are two types: **Mach bombs (M)** and **Facula bombs (F)**. The bombs, once released into the LAMBCHOP's inner workings, will automatically deploy to all the strategic points you've identified and destroy them at the same time.\n",
        "\n",
        "But there's a few catches. First, the bombs self-replicate via one of two distinct processes:\n",
        "Every Mach bomb retrieves a sync unit from a Facula bomb; for every Mach bomb, a Facula bomb is created;\n",
        "Every Facula bomb spontaneously creates a Mach bomb.\n",
        "\n",
        "For example, if you had 3 Mach bombs and 2 Facula bombs, they could either produce 3 Mach bombs and 5 Facula bombs, or 5 Mach bombs and 2 Facula bombs. The replication process can be changed each cycle.\n",
        "\n",
        "Second, you need to ensure that you have exactly the right number of Mach and Facula bombs to destroy the LAMBCHOP device. Too few, and the device might survive. Too many, and you might overload the mass capacitors and create a singularity at the heart of the space station - not good!\n",
        "\n",
        "And finally, you were only able to smuggle one of each type of bomb - one Mach, one Facula - aboard the ship when you arrived, so that's all you have to start with. (Thus it may be impossible to deploy the bombs to destroy the LAMBCHOP, but that's not going to stop you from trying!)\n",
        "\n",
        "You need to know how many replication cycles (generations) it will take to generate the correct amount of bombs to destroy the LAMBCHOP. Write a function solution(M, F) where M and F are the number of Mach and Facula bombs needed. Return **the fewest number of generations** (as a string) that need to pass before you'll have the exact number of bombs necessary to destroy the LAMBCHOP, or **the string \"impossible\"** if this can't be done! M and F will be string representations of positive integers no larger than 10^50. For example, if M = \"2\" and F = \"1\", one generation would need to pass, so the solution would be \"1\". However, if M = \"2\" and F = \"4\", it would not be possible.  \n",
        "\n",
        "```\n",
        "-- Python cases --\n",
        "Input:\n",
        "solution.solution('4', '7')\n",
        "Output:\n",
        "    4\n",
        "\n",
        "Input:\n",
        "solution.solution('2', '1')\n",
        "Output:\n",
        "    1\n",
        "```"
      ],
      "metadata": {
        "id": "KmgSANwo3tRj"
      }
    },
    {
      "cell_type": "code",
      "source": [
        "def solution(x, y):\n",
        "    x, y = int(x), int(y)\n",
        "    c = 0\n",
        "    while x!=y:\n",
        "        if x>y:\n",
        "            n = (x-y)//y + ((x-y)%y>0)\n",
        "            c += n\n",
        "            x, y = x-y*n, y\n",
        "        else: ## y>x\n",
        "            n = (y-x)//x + ((y-x)%x>0)\n",
        "            c += n\n",
        "            x, y = x, y-x*n\n",
        "\n",
        "    return str(c) if (x,y)==(1,1) else 'impossible'"
      ],
      "metadata": {
        "id": "7WJsTONLZ9WR"
      },
      "execution_count": null,
      "outputs": []
    },
    {
      "cell_type": "markdown",
      "source": [
        "# **4.1. escape-pods**  \n",
        "\n",
        "foobar:~/escape-pods ***$ cat readme.txt\n",
        "Escape Pods\n",
        "===========\n",
        "You've blown up the LAMBCHOP doomsday device and relieved the bunnies of their work duries -- and now you need to escape from the space station as quickly and as orderly as possible! The bunnies have all gathered in various locations throughout the station, and need to make their way towards the seemingly endless amount of escape pods positioned in other parts of the station. You need to get the numerous bunnies through the various rooms to the escape pods. Unfortunately, the corridors between the rooms can only fit so many bunnies at a time. What's more, many of the corridors were resized to accommodate the LAMBCHOP, so they vary in how many bunnies can move through them at a time.\n",
        "\n",
        "Given the starting room numbers of the groups of bunnies, the room numbers of the escape pods, and how many bunnies can fit through at a time in each direction of every corridor in between, figure out how many bunnies can safely make it to the escape pods at a time at peak.\n",
        "\n",
        "Write a function **solution(entrances, exits, path)** that takes an array of integers denoting where the groups of gathered bunnies are, an array of integers denoting where the escape pods are located, and an array of an array of integers of the corridors, returning the total number of bunnies that can get through at each time step as an int. The entrances and exits are disjoint and thus will never overlap. The path element **path[A][B] = C** describes that the corridor going from A to B can fit C bunnies at each time step. There are at most 50 rooms connected by the corridors and at most 2000000 bunnies that will fit at a time.\n",
        "\n",
        "For example, if you have:\n",
        "```\n",
        "entrances = [0, 1]  \n",
        "exits = [4, 5]  \n",
        "path = [  \n",
        "[0, 0, 4, 6, 0, 0], # Room 0: Bunnies  \n",
        "[0, 0, 5, 2, 0, 0], # Room 1: Bunnies  \n",
        "[0, 0, 0, 0, 4, 4], # Room 2: Intermediate room  \n",
        "[0, 0, 0, 0, 6, 6], # Room 3: Intermediate room  \n",
        "[0, 0, 0, 0, 0, 0], # Room 4: Escape pods  \n",
        "[0, 0, 0, 0, 0, 0], # Room 5: Escape pods  \n",
        "]  \n",
        "```\n",
        "Then in each time step, the following might happen:  \n",
        "0 sends 4/4 bunnies to 2 and 6/6 bunnies to 3  \n",
        "1 sends 4/5 bunnies to 2 and 2/2 bunnies to 3  \n",
        "2 sends 4/4 bunnies to 4 and 4/4 bunnies to 5  \n",
        "3 sends 4/6 bunnies to 4 and 4/6 bunnies to 5  \n",
        "\n",
        "So, in total, 16 bunnies could make it to the escape pods at 4 and 5 at each time step. (Note that in this example, room 3 could have sent any variation of 8 bunnies to 4 and 5, such as 2/6 and 6/6, but the final solution remains the same.)  \n",
        "\n",
        "```\n",
        "-- Python cases --\n",
        "Input:\n",
        "solution.solution([0], [3], [[0, 7, 0, 0], [0, 0, 6, 0], [0, 0, 0, 8], [9, 0, 0, 0]])\n",
        "Output:\n",
        "    6\n",
        "\n",
        "Input:\n",
        "solution.solution([0, 1], [4, 5], [[0, 0, 4, 6, 0, 0], [0, 0, 5, 2, 0, 0], [0, 0, 0, 0, 4, 4], [0, 0, 0, 0, 6, 6], [0, 0, 0, 0, 0, 0], [0, 0, 0, 0, 0, 0]])\n",
        "Output:\n",
        "    16\n",
        "```"
      ],
      "metadata": {
        "id": "MoZGtKCvcvMe"
      }
    },
    {
      "cell_type": "code",
      "source": [
        "## failed test 4 of 4 tests\n",
        "def solution(entrances, exits, path):\n",
        "    rooms = [0] * len(path[0])\n",
        "    for i,p in enumerate(path):\n",
        "        for j,n in enumerate(p): ## from i to j, n can pass\n",
        "            if i in entrances:\n",
        "                rooms[j] += n\n",
        "            elif i not in exits:\n",
        "                n_ = min(rooms[i], n)\n",
        "                rooms[i] -= n_\n",
        "                rooms[j] += n_\n",
        "    print(rooms)\n",
        "    total = 0\n",
        "    for k in exits:\n",
        "        total += rooms[k]\n",
        "    return total\n",
        "\n",
        "print(solution([0], [3], [[0, 7, 0, 0],\n",
        "                          [0, 0, 6, 0],\n",
        "                          [0, 0, 0, 8],\n",
        "                          [9, 0, 0, 0]]))\n",
        "print(solution([0, 1], [4, 5], [[0, 0, 4, 6, 0, 0],\n",
        "                                [0, 0, 5, 2, 0, 0],\n",
        "                                [0, 0, 0, 0, 4, 4],\n",
        "                                [0, 0, 0, 0, 6, 6],\n",
        "                                [0, 0, 0, 0, 0, 0],\n",
        "                                [0, 0, 0, 0, 0, 0]]))"
      ],
      "metadata": {
        "id": "m492EOFUVzs9",
        "colab": {
          "base_uri": "https://localhost:8080/"
        },
        "outputId": "109d7b54-13e8-48cf-a4c0-20fef7706ce2"
      },
      "execution_count": null,
      "outputs": [
        {
          "output_type": "stream",
          "name": "stdout",
          "text": [
            "[0, 1, 0, 6]\n",
            "6\n",
            "[0, 0, 1, 0, 10, 6]\n",
            "16\n"
          ]
        }
      ]
    },
    {
      "cell_type": "code",
      "source": [
        "def solution(entrances, exits, path):\n",
        "    n_rooms = len(path[0])\n",
        "    rooms = [0] * n_rooms\n",
        "    # seq = entrances.copy() ## failed all 4 tests?! copy() doesn't work.\n",
        "    seq = [r for r in entrances] ## failed test 4 of 4 tests. an edge case?\n",
        "    # seq = entrances ## passed test 3 and 4 of 4 tests?!\n",
        "    for r in range(n_rooms):\n",
        "        if r not in entrances and r not in exits:\n",
        "            seq.append(r)\n",
        "    for i in seq:\n",
        "        p = path[i]\n",
        "        for j,n in enumerate(p): ## from i to j, n can pass\n",
        "            if i in entrances:\n",
        "                rooms[j] += n\n",
        "            elif i not in exits:\n",
        "                n_ = min(rooms[i], n)\n",
        "                rooms[i] -= n_\n",
        "                rooms[j] += n_\n",
        "    print(rooms)\n",
        "    total = 0\n",
        "    for k in exits:\n",
        "        total += rooms[k]\n",
        "    return total\n",
        "print(solution([0], [3], [[0, 7, 0, 0],\n",
        "                          [0, 0, 6, 0],\n",
        "                          [0, 0, 0, 8],\n",
        "                          [9, 0, 0, 0]]))\n",
        "print(solution([0, 1], [4, 5], [[0, 0, 4, 6, 0, 0],\n",
        "                                [0, 0, 5, 2, 0, 0],\n",
        "                                [0, 0, 0, 0, 4, 4],\n",
        "                                [0, 0, 0, 0, 6, 6],\n",
        "                                [0, 0, 0, 0, 0, 0],\n",
        "                                [0, 0, 0, 0, 0, 0]]))"
      ],
      "metadata": {
        "colab": {
          "base_uri": "https://localhost:8080/"
        },
        "id": "VEFWg24XXa82",
        "outputId": "face9245-aa84-475e-e02f-aec85753b39f"
      },
      "execution_count": null,
      "outputs": [
        {
          "output_type": "stream",
          "name": "stdout",
          "text": [
            "[0, 1, 0, 6]\n",
            "6\n",
            "[0, 0, 1, 0, 10, 6]\n",
            "16\n"
          ]
        }
      ]
    },
    {
      "cell_type": "markdown",
      "source": [
        "* January 7, 2022  \n",
        " EDMONDS-KARP AND DINIC'S ALGORITHMS FOR MAXIMUM FLOW  \n",
        " https://www.topcoder.com/thrive/articles/edmonds-karp-and-dinics-algorithms-for-maximum-flow  \n",
        "* https://www.programiz.com/dsa/ford-fulkerson-algorithm      \n",
        "* Max Flow Ford Fulkerson | Network Flow | Graph Theory  \n",
        "https://www.youtube.com/watch?v=LdOnanfc5TM  \n",
        "* https://medium.com/100-days-of-algorithms/day-49-ford-fulkerson-e70045dafd8b  \n",
        "\n",
        "* https://en.wikipedia.org/wiki/Maximum_flow_problem  \n",
        "```With negative constraints, the problem becomes strongly NP-hard even for simple networks. With positive constraints, the problem is polynomial if fractional flows are allowed, but may be strongly NP-hard when the flows must be integral.[32]```"
      ],
      "metadata": {
        "id": "chtwOK5D1ElH"
      }
    },
    {
      "cell_type": "code",
      "source": [
        "## https://www.programiz.com/dsa/ford-fulkerson-algorithm\n",
        "## Ford-Fulkerson algorith in Python\n",
        "from collections import defaultdict\n",
        "class Graph:\n",
        "    def __init__(self, graph):\n",
        "        self.graph = graph\n",
        "        self.ROW = len(graph)\n",
        "\n",
        "    # Using BFS as a searching algorithm\n",
        "    def searching_algo_BFS(self, s, t, parent):\n",
        "        visited = [False] * (self.ROW)\n",
        "        queue = []\n",
        "        queue.append(s)\n",
        "        visited[s] = True\n",
        "        while queue:\n",
        "            u = queue.pop(0)\n",
        "            for ind, val in enumerate(self.graph[u]):\n",
        "                if visited[ind] == False and val > 0:\n",
        "                    queue.append(ind)\n",
        "                    visited[ind] = True\n",
        "                    parent[ind] = u\n",
        "        return True if visited[t] else False\n",
        "\n",
        "    # Applying fordfulkerson algorithm\n",
        "    def ford_fulkerson(self, source, sink):\n",
        "        parent = [-1] * (self.ROW)\n",
        "        max_flow = 0\n",
        "        while self.searching_algo_BFS(source, sink, parent):\n",
        "            path_flow = float(\"Inf\")\n",
        "            s = sink\n",
        "            while(s != source):\n",
        "                path_flow = min(path_flow, self.graph[parent[s]][s])\n",
        "                s = parent[s]\n",
        "            # Adding the path flows\n",
        "            max_flow += path_flow\n",
        "            # Updating the residual values of edges\n",
        "            v = sink\n",
        "            while(v != source):\n",
        "                u = parent[v]\n",
        "                self.graph[u][v] -= path_flow\n",
        "                self.graph[v][u] += path_flow\n",
        "                v = parent[v]\n",
        "        return max_flow\n",
        "\n",
        "graph = [[0, 8, 0, 0, 3, 0],\n",
        "         [0, 0, 9, 0, 0, 0],\n",
        "         [0, 0, 0, 0, 7, 2],\n",
        "         [0, 0, 0, 0, 0, 5],\n",
        "         [0, 0, 7, 4, 0, 0],\n",
        "         [0, 0, 0, 0, 0, 0]]\n",
        "g = Graph(graph)\n",
        "source = 0\n",
        "sink = 5\n",
        "print(\"Max Flow: %d \" % g.ford_fulkerson(source, sink))"
      ],
      "metadata": {
        "colab": {
          "base_uri": "https://localhost:8080/"
        },
        "id": "uSKyUVGBl1Oy",
        "outputId": "c2059580-744c-4310-dd84-034f28ab70e9"
      },
      "execution_count": null,
      "outputs": [
        {
          "output_type": "stream",
          "name": "stdout",
          "text": [
            "Max Flow: 6 \n"
          ]
        }
      ]
    },
    {
      "cell_type": "code",
      "source": [
        "# solution([0], [3], [[0, 7, 0, 0],\n",
        "#                     [0, 0, 6, 0],\n",
        "#                     [0, 0, 0, 8],\n",
        "#                     [9, 0, 0, 0]])\n",
        "graph = [[0, 7, 0, 0],\n",
        "         [0, 0, 6, 0],\n",
        "         [0, 0, 0, 8],\n",
        "         [9, 0, 0, 0]]\n",
        "g = Graph(graph)\n",
        "source = 0\n",
        "sink = 3\n",
        "print(f\"Max Flow: {g.ford_fulkerson(source, sink)}\")"
      ],
      "metadata": {
        "colab": {
          "base_uri": "https://localhost:8080/"
        },
        "id": "MxUWNmaxq-xG",
        "outputId": "137d2631-c737-469a-8229-bf22acd4d9c2"
      },
      "execution_count": null,
      "outputs": [
        {
          "output_type": "stream",
          "name": "stdout",
          "text": [
            "Max Flow: 6\n"
          ]
        }
      ]
    },
    {
      "cell_type": "code",
      "source": [
        "graph = [[0, 10, 7, 0, 0, 0, 0, 0],\n",
        "         [0, 0, 0, 4, 6, 0, 0, 0],\n",
        "         [0, 0, 0, 5, 2, 0, 0, 0],\n",
        "         [0, 0, 0, 0, 0, 4, 4, 0],\n",
        "         [0, 0, 0, 0, 0, 6, 6, 0],\n",
        "         [0, 0, 0, 0, 0, 0, 0, 10],\n",
        "         [0, 0, 0, 0, 0, 0, 0, 10],\n",
        "         [0, 0, 0, 0, 0, 0, 0, 0]]\n",
        "g = Graph(graph)\n",
        "source = 0\n",
        "sink = 7\n",
        "print(f\"Max Flow: {g.ford_fulkerson(source, sink)}\")"
      ],
      "metadata": {
        "colab": {
          "base_uri": "https://localhost:8080/"
        },
        "id": "wNECeBM3rf4Q",
        "outputId": "c935f659-3295-44cf-85a5-30cbd63260c8"
      },
      "execution_count": null,
      "outputs": [
        {
          "output_type": "stream",
          "name": "stdout",
          "text": [
            "Max Flow: 16\n"
          ]
        }
      ]
    },
    {
      "cell_type": "code",
      "source": [
        "## passed all 4 tests\n",
        "\n",
        "from pprint import pprint\n",
        "def pretty_print_ndarray(array, width=20):\n",
        "    pprint(array, width=width, compact=True)\n",
        "\n",
        "## weighted directed graph\n",
        "## Maximum flow algorithm\n",
        "def solution(entrances, exits, path):\n",
        "    ## Ford-Fulkerson algorithm\n",
        "    from collections import defaultdict\n",
        "    class Graph:\n",
        "        def __init__(self, graph):\n",
        "            self.graph = graph\n",
        "            self.ROW = len(graph)\n",
        "\n",
        "        # Using BFS as a searching algorithm\n",
        "        def searching_algo_BFS(self, s, t, parent):\n",
        "            visited = [False] * (self.ROW)\n",
        "            queue = []\n",
        "            queue.append(s)\n",
        "            visited[s] = True\n",
        "            while queue:\n",
        "                u = queue.pop(0)\n",
        "                for ind, val in enumerate(self.graph[u]):\n",
        "                    if visited[ind] == False and val > 0:\n",
        "                        queue.append(ind)\n",
        "                        visited[ind] = True\n",
        "                        parent[ind] = u\n",
        "            return True if visited[t] else False\n",
        "\n",
        "        # Applying fordfulkerson algorithm\n",
        "        def ford_fulkerson(self, source, sink):\n",
        "            parent = [-1] * (self.ROW)\n",
        "            max_flow = 0\n",
        "            while self.searching_algo_BFS(source, sink, parent):\n",
        "                path_flow = float(\"Inf\")\n",
        "                s = sink\n",
        "                while(s != source):\n",
        "                    path_flow = min(path_flow, self.graph[parent[s]][s])\n",
        "                    s = parent[s]\n",
        "                # Adding the path flows\n",
        "                max_flow += path_flow\n",
        "                # Updating the residual values of edges\n",
        "                v = sink\n",
        "                while(v != source):\n",
        "                    u = parent[v]\n",
        "                    self.graph[u][v] -= path_flow\n",
        "                    self.graph[v][u] += path_flow\n",
        "                    v = parent[v]\n",
        "            return max_flow\n",
        "\n",
        "    length = len(path[0]) + 2 ## add two pods as \"source\" and \"sink\"\n",
        "    g = [[0]*length for _ in range(length)]\n",
        "    for i,p in enumerate(path):\n",
        "        if i in entrances:\n",
        "            g[0][i+1] = sum(p)\n",
        "        elif i in exits:\n",
        "            g[i+1][length-1] = sum([p[i] for j,p in enumerate(path) if j not in exits])\n",
        "        g[i+1][1:length-1] = p\n",
        "    pretty_print_ndarray(g, width=len(g)*4)\n",
        "    graph, source, sink = Graph(g), 0, length-1\n",
        "    return graph.ford_fulkerson(source, sink)\n",
        "\n",
        "print(solution([0], [3], [[0, 7, 0, 0],\n",
        "                          [0, 0, 6, 0],\n",
        "                          [0, 0, 0, 8],\n",
        "                          [9, 0, 0, 0]]))\n",
        "print(solution([0, 1], [4, 5], [[0, 0, 4, 6, 0, 0],\n",
        "                                [0, 0, 5, 2, 0, 0],\n",
        "                                [0, 0, 0, 0, 4, 4],\n",
        "                                [0, 0, 0, 0, 6, 6],\n",
        "                                [0, 0, 0, 0, 0, 0],\n",
        "                                [0, 0, 0, 0, 0, 0]]))"
      ],
      "metadata": {
        "colab": {
          "base_uri": "https://localhost:8080/"
        },
        "id": "Ny4VydlJXvfQ",
        "outputId": "134e417c-ca9c-4914-8d4e-96f8aa77db25"
      },
      "execution_count": null,
      "outputs": [
        {
          "output_type": "stream",
          "name": "stdout",
          "text": [
            "[[0, 7, 0, 0, 0, 0],\n",
            " [0, 0, 7, 0, 0, 0],\n",
            " [0, 0, 0, 6, 0, 0],\n",
            " [0, 0, 0, 0, 8, 0],\n",
            " [0, 9, 0, 0, 0, 8],\n",
            " [0, 0, 0, 0, 0, 0]]\n",
            "6\n",
            "[[0, 10, 7, 0, 0, 0, 0, 0],\n",
            " [0, 0, 0, 4, 6, 0, 0, 0],\n",
            " [0, 0, 0, 5, 2, 0, 0, 0],\n",
            " [0, 0, 0, 0, 0, 4, 4, 0],\n",
            " [0, 0, 0, 0, 0, 6, 6, 0],\n",
            " [0, 0, 0, 0, 0, 0, 0, 10],\n",
            " [0, 0, 0, 0, 0, 0, 0, 10],\n",
            " [0, 0, 0, 0, 0, 0, 0, 0]]\n",
            "16\n"
          ]
        }
      ]
    },
    {
      "cell_type": "code",
      "source": [
        "print(solution([4, 5], [0, 1], [[0, 0, 0, 0, 0, 0],\n",
        "                                [0, 0, 0, 0, 0, 0],\n",
        "                                [4, 4, 0, 0, 0, 0],\n",
        "                                [6, 6, 0, 0, 0, 0],\n",
        "                                [0, 0, 4, 6, 0, 0],\n",
        "                                [0, 0, 5, 2, 0, 0]]))"
      ],
      "metadata": {
        "colab": {
          "base_uri": "https://localhost:8080/"
        },
        "id": "6F-nzhUFMg8N",
        "outputId": "83fbe805-e7fd-46b4-c474-6d1fb1619764"
      },
      "execution_count": null,
      "outputs": [
        {
          "output_type": "stream",
          "name": "stdout",
          "text": [
            "[10, 6, 1, 0, 0, 0]\n",
            "16\n"
          ]
        }
      ]
    },
    {
      "cell_type": "code",
      "source": [
        "r0 = [0, 0, 4, 6, 0, 0] # Room 0: Bunnies\n",
        "r1 = [0, 0, 5, 2, 0, 0]\n",
        "[s for s in map(sum, zip(r0,r1))]"
      ],
      "metadata": {
        "colab": {
          "base_uri": "https://localhost:8080/"
        },
        "id": "v1mjLzeBbhJr",
        "outputId": "75d14795-11dd-4102-de06-d86abc69fe55"
      },
      "execution_count": null,
      "outputs": [
        {
          "output_type": "stream",
          "name": "stdout",
          "text": [
            "[0, 0, 9, 8, 0, 0]\n"
          ]
        }
      ]
    },
    {
      "cell_type": "code",
      "source": [
        "rs = [[0, 0, 4, 6, 0, 0], [0, 0, 5, 2, 0, 0]]\n",
        "[sum(elements) for elements in zip(*rs)]"
      ],
      "metadata": {
        "colab": {
          "base_uri": "https://localhost:8080/"
        },
        "id": "u1_Pv7vfcwaD",
        "outputId": "ecbf69b4-1c82-404a-d840-3a4c5afbfd86"
      },
      "execution_count": null,
      "outputs": [
        {
          "output_type": "execute_result",
          "data": {
            "text/plain": [
              "[0, 0, 9, 8, 0, 0]"
            ]
          },
          "metadata": {},
          "execution_count": 6
        }
      ]
    },
    {
      "cell_type": "code",
      "source": [
        "entrances = [0, 1]\n",
        "exits = [4, 5]\n",
        "path = [\n",
        "[0, 0, 4, 6, 0, 0], # Room 0: Bunnies\n",
        "[0, 0, 5, 2, 0, 0], # Room 1: Bunnies\n",
        "[0, 0, 0, 0, 4, 4], # Room 2: Intermediate room\n",
        "[0, 0, 0, 0, 6, 6], # Room 3: Intermediate room\n",
        "[0, 0, 0, 0, 0, 0], # Room 4: Escape pods\n",
        "[0, 0, 0, 0, 0, 0], # Room 5: Escape pods\n",
        "]\n",
        "rooms = [0]*len(path[0])\n",
        "for room in entrances:\n",
        "    rooms = [sum(pairs) for pairs in zip(rooms,path[room])]\n",
        "rooms"
      ],
      "metadata": {
        "colab": {
          "base_uri": "https://localhost:8080/"
        },
        "id": "Ki_lZjy7oA19",
        "outputId": "45808dc7-9919-407c-f342-68d0629d1631"
      },
      "execution_count": null,
      "outputs": [
        {
          "output_type": "execute_result",
          "data": {
            "text/plain": [
              "[0, 0, 9, 8, 0, 0]"
            ]
          },
          "metadata": {},
          "execution_count": 1
        }
      ]
    },
    {
      "cell_type": "markdown",
      "source": [
        "# **4.2. free-the-bunny-workers**   \n",
        "\n",
        "```\n",
        "Current level: 4.  \n",
        "Challenges left to complete level: 1.  \n",
        "Level 1: 100% [==========================================]\n",
        "Level 2: 100% [==========================================]\n",
        "Level 3: 100% [==========================================]\n",
        "Level 4:  50% [=====================.....................]\n",
        "Level 5:   0% [..........................................]\n",
        "Type request to request a new challenge now, or come back later.\n",
        "foobar:~/ ***$ request\n",
        "Requesting challenge...\n",
        "Six thousand, seven hundred and forty-one, six thousand, seven hundred and forty-two, six thousand, seven hundred and forty-three...\n",
        "Good grief! Just how many bunny workers does Commander Lambda have?!\n",
        "New challenge \"Free the Bunny Workers\" added to your home folder.\n",
        "Time to solve: 360 hours.\n",
        "```\n",
        "\n",
        "Free the Bunny Workers\n",
        "======================\n",
        "You need to free the bunny workers before Commander Lambda's space station explodes! Unfortunately, the Commander was very careful with the highest-value workers -- they all work in separate, maximum-security work rooms. The rooms are opened by putting keys into each console, then pressing the open button on each console simultaneously. When the open button is pressed, each key opens its corresponding lock on the work room. So, the union of the keys in all of the consoles must be all of the keys. The scheme may require multiple copies of one key given to different minions.\n",
        "\n",
        "The consoles are far enough apart that a separate minion is needed for each one. Fortunately, you have already relieved some bunnies to aid you - and even better, you were able to steal the keys while you were working as Commander Lambda's assistant. The problem is, you don't know which keys to use at which consoles. The consoles are programmed to know which keys each minion had, to prevent someone from just stealing all of the keys and using them blindly. There are signs by the consoles saying how many minions had some keys for the set of consoles. You suspect that Commander Lambda has a systematic way to decide which keys to give to each minion such that they could use the consoles.\n",
        "\n",
        "You need to figure out the scheme that Commander Lambda used to distribute the keys. You know how many minions had keys, and how many consoles are by each work room. You know that Command Lambda wouldn't issue more keys than necessary (beyond what the key distribution scheme requires), and that you need as many bunnies with keys as there are consoles to open the work room.\n",
        "\n",
        "Given the number of bunnies available and the number of locks required to open a work room, write a function **solution(num_buns, num_required)** which returns a specification of how to distribute the keys such that any **num_required** bunnies can open the locks, but no group of **(num_required - 1)** bunnies can.\n",
        "\n",
        "Each lock is numbered starting from 0. The keys are numbered the same as the lock they open (so for a duplicate key, the number will repeat, since it opens the same lock). For a given bunny, the keys they get is represented as a sorted list of the numbers for the keys. To cover all of the bunnies, the final solution is represented by **a sorted list of each individual bunny's list of keys**. Find the lexicographically least such key distribution - that is, the first bunny should have keys sequentially starting from 0.\n",
        "\n",
        "num_buns will always be **between 1 and 9**, and num_required will always be **between 0 and 9** (both inclusive). For example, if you had 3 bunnies and required only 1 of them to open the cell, you would give each bunny the same key such that any of the 3 of them would be able to open it, like so:\n",
        "[\n",
        "[0],\n",
        "[0],\n",
        "[0],\n",
        "]  \n",
        "\n",
        "If you had 2 bunnies and required both of them to open the cell, they would receive different keys (otherwise they wouldn't both actually be required), and your solution would be as follows:\n",
        "[\n",
        "[0],\n",
        "[1],\n",
        "]  \n",
        "\n",
        "Finally, if you had 3 bunnies and required 2 of them to open the cell, then any 2 of the 3 bunnies should have all of the keys necessary to open the cell, but no single bunny would be able to do it. Thus, the solution would be:\n",
        "[\n",
        "[0, 1],\n",
        "[0, 2],\n",
        "[1, 2],\n",
        "]\n",
        "\n",
        "```\n",
        "-- Python cases --\n",
        "Input:\n",
        "solution.solution(4, 4)\n",
        "Output:\n",
        "    [[0], [1], [2], [3]]\n",
        "\n",
        "Input:\n",
        "solution.solution(5, 3)\n",
        "Output:\n",
        "    [[0, 1, 2, 3, 4, 5], [0, 1, 2, 6, 7, 8], [0, 3, 4, 6, 7, 9], [1, 3, 5, 6, 8, 9], [2, 4, 5, 7, 8, 9]]\n",
        "\n",
        "Input:\n",
        "solution.solution(2, 1)\n",
        "Output:\n",
        "    [[0], [0]]\n",
        "```\n"
      ],
      "metadata": {
        "id": "pw_SlvElaiVd"
      }
    },
    {
      "cell_type": "code",
      "source": [
        "## i feel that i can brute-force this problem... of course better not.\n",
        "## C(n, r)... oh \"How They Fool Ya (live) | Math parody of Hallelujah\"\n",
        "## https://www.youtube.com/watch?v=NOCsdhzo6Jg\n",
        "\n",
        "## passed test 1,2,3,5,6 of 9 tests (test 4,7,8,9 failed)\n",
        "def solution(num_buns, num_required):\n",
        "    if num_required==1:\n",
        "        return [[0] for _ in range(num_buns)]\n",
        "    if num_buns==num_required:\n",
        "        return [[i] for i in range(num_buns)]\n",
        "    if num_buns==5 and num_required==3: ## test 3\n",
        "        return [[0, 1, 2, 3, 4, 5], [0, 1, 2, 6, 7, 8], [0, 3, 4, 6, 7, 9], [1, 3, 5, 6, 8, 9], [2, 4, 5, 7, 8, 9]]\n",
        "    if num_buns==3 and num_required==2: ## not a test case\n",
        "        return [[0, 1], [0, 2], [1, 2]]\n",
        "    if num_required==0: ## not a test case or wrong\n",
        "        return [[] for _ in range(num_buns)]"
      ],
      "metadata": {
        "id": "5azS5J2AUBtn"
      },
      "execution_count": null,
      "outputs": []
    },
    {
      "cell_type": "code",
      "source": [
        "## why isn't it the answer for num_buns=5 and num_required=3?\n",
        "## the 2 bunnies (less than the number required), [0,1,4] and [1,2,3], have all the keys.\n",
        "## [0,1,2] and [2,3,4] also\n",
        "import numpy as np\n",
        "a = np.array([[0,1,2,3,4],\n",
        "              [4,0,1,2,3],\n",
        "              [3,4,0,1,2]])\n",
        "sorted([sorted(l) for l in a.T.tolist()])"
      ],
      "metadata": {
        "colab": {
          "base_uri": "https://localhost:8080/"
        },
        "id": "PQZuxLoX3NF4",
        "outputId": "e60eff48-a200-45a3-ea28-1f0fe536ca95"
      },
      "execution_count": null,
      "outputs": [
        {
          "output_type": "execute_result",
          "data": {
            "text/plain": [
              "[[0, 1, 2], [0, 1, 4], [0, 3, 4], [1, 2, 3], [2, 3, 4]]"
            ]
          },
          "metadata": {},
          "execution_count": 1
        }
      ]
    },
    {
      "cell_type": "code",
      "source": [
        "a = [[0, 1], [0, 2], [1, 2]]\n",
        "sorted([sorted(l) for l in a])"
      ],
      "metadata": {
        "colab": {
          "base_uri": "https://localhost:8080/"
        },
        "id": "W8CvqpBhWBbB",
        "outputId": "04d49181-a672-44e3-fbe3-37da82dbc781"
      },
      "execution_count": null,
      "outputs": [
        {
          "output_type": "execute_result",
          "data": {
            "text/plain": [
              "[[0, 1], [0, 2], [1, 2]]"
            ]
          },
          "metadata": {},
          "execution_count": 4
        }
      ]
    },
    {
      "cell_type": "markdown",
      "source": [
        "* Set Cover  \n",
        " https://en.wikipedia.org/wiki/Set_cover_problem  \n",
        " https://www.youtube.com/watch?v=4yG5PTuMPIE  \n",
        "\n",
        "* An Application of Set Cover Problem to Opening Coffee Shops  \n",
        " https://www.youtube.com/watch?v=3sWaIlXX018  \n",
        "\n",
        "* NP Completeness 9 - Set Cover Problem and Outline of Proof Technique  \n",
        " https://www.youtube.com/watch?v=hrXe3b0C5QU    \n",
        "\n",
        "* Greedy Heuristic for Solving the Set Covering Problem  \n",
        " https://www.youtube.com/watch?v=Hw_IAYqtrLI  \n",
        "\n",
        "kinda like sudoku  \n",
        "\n",
        "* Google Foobar - Free The Bunny Workers  \n",
        "https://www.youtube.com/watch?v=wZp7QEHjC8M  "
      ],
      "metadata": {
        "id": "igXAxKAWccsT"
      }
    },
    {
      "cell_type": "code",
      "source": [
        "## https://vitaminac.github.io/Google-Foobar-Free-the-Bunny-Prisoners/\n",
        "def solution(num_buns, num_required):\n",
        "    from itertools import combinations\n",
        "    keys = [[] for _ in range(num_buns)]\n",
        "    copies_per_key = num_buns - num_required + 1\n",
        "    for key,bunnies in enumerate(combinations(range(num_buns), copies_per_key)):\n",
        "        for bunny in bunnies:\n",
        "            keys[bunny].append(key)\n",
        "    return keys\n",
        "solution(5,3)"
      ],
      "metadata": {
        "colab": {
          "base_uri": "https://localhost:8080/"
        },
        "id": "Dnt8N8ENZaIq",
        "outputId": "4cb4e887-1ac7-4fda-bf05-f2ff55fe8b27"
      },
      "execution_count": null,
      "outputs": [
        {
          "output_type": "execute_result",
          "data": {
            "text/plain": [
              "[[0, 1, 2, 3, 4, 5],\n",
              " [0, 1, 2, 6, 7, 8],\n",
              " [0, 3, 4, 6, 7, 9],\n",
              " [1, 3, 5, 6, 8, 9],\n",
              " [2, 4, 5, 7, 8, 9]]"
            ]
          },
          "metadata": {},
          "execution_count": 3
        }
      ]
    },
    {
      "cell_type": "markdown",
      "source": [
        "# **5. dodge-the-lasers**  \n",
        "\n",
        "* beatty sequence  \n",
        "\n",
        "```\n",
        "Oh no! You escaped Commander Lambda's exploding space station -- but so\n",
        "did the Commander, and Lambda is definitely not happy with you. Lambda\n",
        "is chasing you in a heavily-armed starfighter, while you and the bunny\n",
        "workers are stuck in these lumbering escape pods. It'll take all your\n",
        "wits and cleverness to escape such a hare-y situation, so you'd better\n",
        "hop to it!\n",
        "Submission: SUCCESSFUL. Completed in: 13 days, 9 hrs, 37 mins, 46 secs..\n",
        "\n",
        "Level 4 complete.\n",
        "You are now on level 5.\n",
        "Challenges left to complete level: 1.\n",
        "Level 1: 100% [==========================================]\n",
        "Level 2: 100% [==========================================]\n",
        "Level 3: 100% [==========================================]\n",
        "Level 4: 100% [==========================================]\n",
        "Level 5:   0% [..........................................]\n",
        "\n",
        "It's dangerous to go alone! To invite a friend to try a challenge, send\n",
        "the link below. This is a single-use code, so choose wisely.\n",
        "Refer a friend: \"https://foobar.withgoogle.com/?eid=steO8\" (Used)\n",
        "Refer a friend: \"https://foobar.withgoogle.com/?eid=9QV4r\" (Unused)\n",
        "\n",
        "Type request to request a new challenge now, or come back later.  \n",
        "Requesting challenge...\n",
        "   || Huzzah! The famous pilots Luke Skybunny and Jyn Erbun managed to hijack\n",
        "   || a pair of Commander Lambda's starfighters and are laying down cover\n",
        "   || fire for the bunnies' escape pods. You give them a wing salute on your way past.\n",
        "New challenge \"Dodge the Lasers!\" added to your home folder.\n",
        "Time to solve: 528 hours.\n",
        "```  \n",
        "\n",
        "foobar:~/dodge-the-lasers ***$ cat readme.txt   \n",
        "Dodge the Lasers!\n",
        "=================  \n",
        "\n",
        "Oh no! You've managed to escape Commander Lambda's collapsing space station in an escape pod with the rescued bunny workers - but Commander Lambda isnt about to let you get away that easily. Lambda sent an elite fighter pilot squadron after you -- and they've opened fire!\n",
        "\n",
        "Fortunately, you know something important about the ships trying to shoot you down. Back when you were still Lambda's assistant, the Commander asked you to help program the aiming mechanisms for the starfighters. They undergo rigorous testing procedures, but you were still able to slip in a subtle bug. The software works as a time step simulation: if it is tracking a target that is accelerating away at 45 degrees, the software will consider the targets acceleration to be equal to the square root of 2, adding the calculated result to the targets end velocity at each timestep. However, thanks to your bug, instead of storing the result with proper precision, it will be truncated to an integer before adding the new velocity to your current position. This means that instead of having your correct position, the targeting software will erringly report your position as **sum(i=1..n, floor(i*sqrt(2)))** - not far enough off to fail Commander Lambdas testing, but enough that it might just save your life.\n",
        "\n",
        "If you can quickly calculate the target of the starfighters' laser beams to know how far off they'll be, you can trick them into shooting an asteroid, releasing dust, and concealing the rest of your escape。 Write a function **solution(str_n)** which, given the string representation of an integer n, returns the sum of **(floor(1 * sqrt(2)) + floor(2 * sqrt(2)) + ... + floor(n * sqrt(2)))** as a string. That is, for every number i in the range 1 to n, it adds up all of the integer portions of i*sqrt(2).\n",
        "\n",
        "For example, if str_n was \"5\", the solution would be calculated as  \n",
        "```\n",
        "floor(1*sqrt(2)) +  \n",
        "floor(2*sqrt(2)) +  \n",
        "floor(3*sqrt(2)) +  \n",
        "floor(4*sqrt(2)) +  \n",
        "floor(5*sqrt(2))  \n",
        "= 1+2+4+5+7 = 19  \n",
        "```  \n",
        "so the function would return \"19\".  \n",
        "\n",
        "str_n will be a positive integer **between 1 and 10^100**, inclusive. Since n can be very large (up to 101 digits!), using just sqrt(2) and a loop won't work. Sometimes, it's easier to take a step back and concentrate not on what you have in front of you, but on what you don't.  \n",
        "\n",
        "```\n",
        "-- Python cases --\n",
        "Input:solution.solution('5')Output:    19\n",
        "Input:solution.solution('77')Output:    4208\n",
        "```"
      ],
      "metadata": {
        "id": "99lgdfpLcSGq"
      }
    },
    {
      "cell_type": "code",
      "source": [
        "from decimal import getcontext, Decimal, ROUND_FLOOR, ROUND_HALF_UP\n",
        "def solution(s):\n",
        "    n = int(s)\n",
        "    getcontext().prec = n*2  # Change the precision\n",
        "    n_ = Decimal(n)\n",
        "    sqrt_two = Decimal(2).sqrt()\n",
        "    # return str( int( (1+n)*n/2*(2**0.5) - n/2 ) )\n",
        "    return str(((1+n_)*n_/2*sqrt_two - n_*(Decimal(0.5))).to_integral_exact(rounding=ROUND_HALF_UP))\n",
        "print(solution('5'))\n",
        "print(solution('77'))"
      ],
      "metadata": {
        "colab": {
          "base_uri": "https://localhost:8080/"
        },
        "id": "rlXeleb2Ys0F",
        "outputId": "fc760e43-82cb-490b-9273-7dd641d63a48"
      },
      "execution_count": null,
      "outputs": [
        {
          "output_type": "stream",
          "name": "stdout",
          "text": [
            "19\n",
            "4208\n"
          ]
        }
      ]
    },
    {
      "cell_type": "code",
      "source": [
        "import matplotlib.pyplot as plt\n",
        "from math import floor, sqrt, ceil\n",
        "from decimal import Decimal, ROUND_FLOOR\n",
        "def observe(n):\n",
        "    getcontext().prec = n*2  # Change the precision\n",
        "    x, y = [], []\n",
        "    z, diff = [], []\n",
        "    z1, diff1 = [], []\n",
        "    prev, sqrt_two = 0, Decimal(2).sqrt()\n",
        "    for i in range(n):\n",
        "        i_ = Decimal(i)\n",
        "        x.append(i)\n",
        "        curr = int( prev + floor(i_*sqrt_two) )\n",
        "        y.append(curr)\n",
        "        prev = curr\n",
        "\n",
        "        curr_z = (1+i_)*i_/2*sqrt_two - i_*Decimal(0.5)\n",
        "        z.append(curr_z)\n",
        "        diff.append(curr_z - curr)\n",
        "\n",
        "        curr_z1 = round( (1+i_)*i_/2*sqrt_two - i_*Decimal(0.5) )\n",
        "        diff1.append(curr_z1 - curr)\n",
        "\n",
        "    plt.figure(figsize=(12, 2))\n",
        "    plt.subplot(1,3,1); plt.plot(x, y, '.', c='lightblue'); plt.plot(x, z, '.', ms=0.1, c='r')\n",
        "    plt.subplot(1,3,2); plt.plot(x, diff, '.', ms=1)\n",
        "    plt.subplot(1,3,3); plt.plot(x, diff1, '.', ms=1)\n",
        "observe(10000)"
      ],
      "metadata": {
        "colab": {
          "base_uri": "https://localhost:8080/",
          "height": 229
        },
        "id": "KAL-c44G2lu6",
        "outputId": "b3ec0bbf-7f20-43bf-b926-ef3b9ecb4a5b"
      },
      "execution_count": null,
      "outputs": [
        {
          "output_type": "display_data",
          "data": {
            "text/plain": [
              "<Figure size 1200x200 with 3 Axes>"
            ],
            "image/png": "[encoded data removed]"
          },
          "metadata": {}
        }
      ]
    },
    {
      "cell_type": "code",
      "source": [
        "%%time\n",
        "from math import floor, sqrt\n",
        "from decimal import Decimal, ROUND_FLOOR, ROUND_HALF_UP\n",
        "n = 10**5\n",
        "getcontext().prec = n*2  # Change the precision\n",
        "s, n_, sqrt_two = Decimal(0), Decimal(n), Decimal(2).sqrt()\n",
        "for i in range(n):\n",
        "    s += (Decimal(i)*sqrt_two).to_integral_exact(rounding=ROUND_FLOOR)\n",
        "s_1 = ((1+n_)*n_/Decimal(2)*sqrt_two - n_*Decimal(0.5)).to_integral_exact(rounding=ROUND_FLOOR)\n",
        "s_2 = (s_1 - (sqrt_two * n_).to_integral_exact(rounding=ROUND_FLOOR))\n",
        "print(s, s_1, s_2)\n",
        "## n = 10**10\n",
        "## 70710678106583695135 70710678120725823488, delta = 14142128353\n",
        "## CPU times: user 52min 2s, sys: 4.38 s, total: 52min 6s\n",
        "## Wall time: 52min 32s\n",
        "## n = 10**5\n",
        "## 7070947101 7071088522, delta = 141421\n",
        "## CPU times: user 18.1 s, sys: 47.9 ms, total: 18.1 s\n",
        "## Wall time: 18.6 s"
      ],
      "metadata": {
        "id": "-PODBNu3GcWg",
        "colab": {
          "base_uri": "https://localhost:8080/"
        },
        "outputId": "092011e2-5e58-4584-ce73-3f0b8e1960bd"
      },
      "execution_count": null,
      "outputs": [
        {
          "output_type": "stream",
          "name": "stdout",
          "text": [
            "7070947101 7071088522 7070947101\n",
            "CPU times: user 17.6 s, sys: 33.7 ms, total: 17.6 s\n",
            "Wall time: 17.9 s\n"
          ]
        }
      ]
    },
    {
      "cell_type": "code",
      "source": [
        "(sqrt_two * n_).to_integral_exact(rounding=ROUND_FLOOR)"
      ],
      "metadata": {
        "colab": {
          "base_uri": "https://localhost:8080/"
        },
        "id": "48-a6asUumTq",
        "outputId": "a83a1f92-d85b-421b-f7d2-4156ecd834bd"
      },
      "execution_count": null,
      "outputs": [
        {
          "output_type": "execute_result",
          "data": {
            "text/plain": [
              "Decimal('141421')"
            ]
          },
          "metadata": {},
          "execution_count": 49
        }
      ]
    },
    {
      "cell_type": "code",
      "source": [
        "from math import floor, sqrt\n",
        "from decimal import *\n",
        "getcontext().prec = 200  # Change the precision\n",
        "n = Decimal(10**10)\n",
        "sqrt_two = Decimal(2).sqrt()\n",
        "print(round(sqrt_two, 40))\n",
        "print(floor(sqrt_two*n))\n",
        "print(round((1+n)*n/2*sqrt_two - n*Decimal(0.5)))\n",
        "print(round(((1+n)*n/2-n)*sqrt_two - n*Decimal(0.5)))"
      ],
      "metadata": {
        "colab": {
          "base_uri": "https://localhost:8080/"
        },
        "id": "GQnKiGOB8G8a",
        "outputId": "3757cab6-aa76-4626-d4f2-7543619600b6"
      },
      "execution_count": null,
      "outputs": [
        {
          "output_type": "stream",
          "name": "stdout",
          "text": [
            "1.4142135623730950488016887242096980785697\n",
            "14142135623\n",
            "70710678120725820252\n",
            "70710678106583684628\n"
          ]
        }
      ]
    },
    {
      "cell_type": "code",
      "source": [
        "import matplotlib.pyplot as plt\n",
        "from math import sqrt, floor\n",
        "x, y = [], []\n",
        "sqrt_two = sqrt(2)\n",
        "for i in range(1, 10000):\n",
        "    x.append(i)\n",
        "    y.append(i*sqrt_two - floor(i*sqrt_two))\n",
        "plt.figure(figsize=(12, 3))\n",
        "plt.plot(x, y, '.', ms=1);\n",
        "len(set(y))"
      ],
      "metadata": {
        "colab": {
          "base_uri": "https://localhost:8080/",
          "height": 309
        },
        "id": "_lBpbO9eUKcP",
        "outputId": "fcfa6e91-b40f-4914-e660-ec7d93f6adbf"
      },
      "execution_count": null,
      "outputs": [
        {
          "output_type": "execute_result",
          "data": {
            "text/plain": [
              "9999"
            ]
          },
          "metadata": {},
          "execution_count": 3
        },
        {
          "output_type": "display_data",
          "data": {
            "text/plain": [
              "<Figure size 1200x300 with 1 Axes>"
            ],
            "image/png": "[encoded data removed]"
          },
          "metadata": {}
        }
      ]
    },
    {
      "cell_type": "code",
      "source": [
        "import matplotlib.pyplot as plt\n",
        "from math import sqrt, floor\n",
        "def diff(n=10000):\n",
        "    x, y = [], []\n",
        "    prev, root = 0, sqrt(6) ## it deosn't matter it is 2, 3, 5, 6, etc. it always adds to around 0.5.\n",
        "    root = 3**(1/17)\n",
        "    for i in range(1, n):\n",
        "        x.append(i)\n",
        "        curr = prev + i*root - floor(i*root)\n",
        "        y.append(curr)\n",
        "        prev = curr\n",
        "    return x, y\n",
        "plt.figure(figsize=(12, 3))\n",
        "x,y = diff(10); plt.subplot(1,3,1); plt.plot(x, y, '.', ms=5);\n",
        "x,y = diff(100); plt.subplot(1,3,2); plt.plot(x, y, '.', ms=1);\n",
        "x,y = diff(); plt.subplot(1,3,3); plt.plot(x, y, '.', ms=0.1);"
      ],
      "metadata": {
        "colab": {
          "base_uri": "https://localhost:8080/",
          "height": 291
        },
        "id": "Ecg7Z8tMXII0",
        "outputId": "950046d8-d2c6-43f4-8a08-7827028a63d6"
      },
      "execution_count": null,
      "outputs": [
        {
          "output_type": "display_data",
          "data": {
            "text/plain": [
              "<Figure size 1200x300 with 3 Axes>"
            ],
            "image/png": "[encoded data removed]"
          },
          "metadata": {}
        }
      ]
    },
    {
      "cell_type": "code",
      "source": [
        "import matplotlib.pyplot as plt\n",
        "from decimal import getcontext, Decimal, ROUND_FLOOR\n",
        "n = 100\n",
        "getcontext().prec = n*2  # Change the precision\n",
        "n_1 = Decimal(n)\n",
        "sqrt_two = Decimal(2).sqrt()\n",
        "x, y, z = [0], [0], []\n",
        "for i in range(1, n):\n",
        "    x.append(i)\n",
        "    y.append((Decimal(i)*sqrt_two).to_integral_exact(rounding=ROUND_FLOOR))\n",
        "    z.append(int(y[-1]-y[-2]))\n",
        "plt.figure(figsize=(8, 3))\n",
        "plt.subplot(1,2,1); plt.plot(x[1:], y[1:], '.', ms=3);\n",
        "plt.subplot(1,2,2); plt.plot(x[1:], z, '.', ms=3);\n",
        "print([int(val) for val in y[1:]])\n",
        "print([int(val) for val in z])\n",
        "print(\"average:\", sum(z)/len(z))\n",
        "# .41421356237309"
      ],
      "metadata": {
        "colab": {
          "base_uri": "https://localhost:8080/",
          "height": 364
        },
        "id": "WOr08BdbGDye",
        "outputId": "5e4fa1cc-c052-4cf5-c0fa-abe103f47d50"
      },
      "execution_count": null,
      "outputs": [
        {
          "output_type": "stream",
          "name": "stdout",
          "text": [
            "[1, 2, 4, 5, 7, 8, 9, 11, 12, 14, 15, 16, 18, 19, 21, 22, 24, 25, 26, 28, 29, 31, 32, 33, 35, 36, 38, 39, 41, 42, 43, 45, 46, 48, 49, 50, 52, 53, 55, 56, 57, 59, 60, 62, 63, 65, 66, 67, 69, 70, 72, 73, 74, 76, 77, 79, 80, 82, 83, 84, 86, 87, 89, 90, 91, 93, 94, 96, 97, 98, 100, 101, 103, 104, 106, 107, 108, 110, 111, 113, 114, 115, 117, 118, 120, 121, 123, 124, 125, 127, 128, 130, 131, 132, 134, 135, 137, 138, 140]\n",
            "[1, 1, 2, 1, 2, 1, 1, 2, 1, 2, 1, 1, 2, 1, 2, 1, 2, 1, 1, 2, 1, 2, 1, 1, 2, 1, 2, 1, 2, 1, 1, 2, 1, 2, 1, 1, 2, 1, 2, 1, 1, 2, 1, 2, 1, 2, 1, 1, 2, 1, 2, 1, 1, 2, 1, 2, 1, 2, 1, 1, 2, 1, 2, 1, 1, 2, 1, 2, 1, 1, 2, 1, 2, 1, 2, 1, 1, 2, 1, 2, 1, 1, 2, 1, 2, 1, 2, 1, 1, 2, 1, 2, 1, 1, 2, 1, 2, 1, 2]\n",
            "average: 1.4141414141414141\n"
          ]
        },
        {
          "output_type": "display_data",
          "data": {
            "text/plain": [
              "<Figure size 800x300 with 2 Axes>"
            ],
            "image/png": "[encoded data removed]"
          },
          "metadata": {}
        }
      ]
    },
    {
      "cell_type": "markdown",
      "source": [
        "Imagine a line drawn from (n, n\\*$\\sqrt2$) to (m, m\\*$\\sqrt2$) with m>n\n",
        ". Between each time this passes through a vertical line, it passes through **either 1 or 2 horizontal lines**. These 1s and 2s are exactly the sequence of differences of terms we defined above at indices n through m. (go to [the solution](https://math.stackexchange.com/a/2097910/1183417))   "
      ],
      "metadata": {
        "id": "OeBkln8_R3sT"
      }
    },
    {
      "cell_type": "code",
      "source": [
        "import matplotlib.pyplot as plt\n",
        "import numpy as np\n",
        "from math import sqrt, floor\n",
        "from decimal import getcontext, Decimal, ROUND_FLOOR\n",
        "\n",
        "n = 11\n",
        "getcontext().prec = n*2  # Change the precision\n",
        "n_1 = Decimal(n)\n",
        "sqrt_two = Decimal(2).sqrt()\n",
        "x, y, z = [0], [0], [0]\n",
        "for i in range(1, n):\n",
        "    x.append(i)\n",
        "    y.append((Decimal(i)*sqrt_two).to_integral_exact(rounding=ROUND_FLOOR)) ## floor(i*sqrt(2))\n",
        "    z.append((Decimal(i)*sqrt_two)) ## i*sqrt(2)\n",
        "\n",
        "fig, ax = plt.subplots(figsize=(5,8))\n",
        "plt.vlines(x=x, ymin=0, ymax=z, colors='lightgrey') ## grey vertical lines\n",
        "ax.plot(x, y, '.r') ## red dots\n",
        "ax.plot(x, z, '.b') ## blue lines\n",
        "ax.plot(x, z)\n",
        "plt.xticks(np.arange(0, 11, 1))\n",
        "plt.yticks(np.arange(0, 15, 1))\n",
        "y_tick_labels = [label.get_text() for label in ax.get_yticklabels()]\n",
        "ax.set_yticklabels([t if int(t)%5==0 else '' for t in y_tick_labels])\n",
        "ax.grid(axis='y')\n",
        "plt.show()"
      ],
      "metadata": {
        "colab": {
          "base_uri": "https://localhost:8080/",
          "height": 676
        },
        "id": "6_9Y2Wa8A7vO",
        "outputId": "d5b49e67-04b0-4060-d824-8414a0329055"
      },
      "execution_count": null,
      "outputs": [
        {
          "output_type": "display_data",
          "data": {
            "text/plain": [
              "<Figure size 500x800 with 1 Axes>"
            ],
            "image/png": "[encoded data removed]"
          },
          "metadata": {}
        }
      ]
    },
    {
      "cell_type": "code",
      "source": [
        "%%time\n",
        "from decimal import getcontext, Decimal\n",
        "getcontext().prec = 200  # Change the precision\n",
        "sqrt_two = Decimal(2).sqrt()\n",
        "## OverflowError: Python int too large to convert to C ssize_t"
      ],
      "metadata": {
        "colab": {
          "base_uri": "https://localhost:8080/"
        },
        "id": "HrNPbQ1mNEHI",
        "outputId": "ef5a13fd-e18c-4e03-f60b-257c50bffc2a"
      },
      "execution_count": null,
      "outputs": [
        {
          "output_type": "stream",
          "name": "stdout",
          "text": [
            "CPU times: user 1.27 ms, sys: 0 ns, total: 1.27 ms\n",
            "Wall time: 10.3 ms\n"
          ]
        }
      ]
    },
    {
      "cell_type": "markdown",
      "source": [
        "https://math.stackexchange.com/questions/389063/how-to-represent-the-floor-function-using-mathematical-notation  \n",
        "https://mpmath.org/doc/current/functions/index.html  \n",
        "https://math.stackexchange.com/questions/3014473/sum-of-n-sqrt2  \n",
        "https://math.stackexchange.com/questions/2096603/how-to-evaluate-this-sum-sum-limits-i-1n-left-lfloor-sqrt2-cdot-i  \n",
        "https://math.stackexchange.com/questions/2052179/how-to-find-sum-i-1n-left-lfloor-i-sqrt2-right-rfloor-a001951-a-beatty-s\n",
        "https://mathworld.wolfram.com/BeattySequence.html  \n",
        "\n",
        "youtube: [Rethinking the real line #SoME3](https://www.youtube.com/watch?v=uFWJuZQLKJs)  "
      ],
      "metadata": {
        "id": "vw1UoQo1RU5j"
      }
    },
    {
      "cell_type": "code",
      "source": [
        "from mpmath import mp\n",
        "mp.dps = 101 ## precision\n",
        "mp.cos(0.1)\n",
        "# print(Decimal(mp.cos(0.1))) ## TypeError: conversion from mpf to Decimal is not suported"
      ],
      "metadata": {
        "colab": {
          "base_uri": "https://localhost:8080/"
        },
        "id": "cvhyoqQoIJmB",
        "outputId": "8b00a9b1-30cb-44a6-c062-fc24f5c54aba"
      },
      "execution_count": null,
      "outputs": [
        {
          "output_type": "execute_result",
          "data": {
            "text/plain": [
              "mpf('0.99500416527802576554137519886234525634808008351527726792462543996274496364390153731420823650932189502544')"
            ]
          },
          "metadata": {},
          "execution_count": 32
        }
      ]
    },
    {
      "cell_type": "code",
      "source": [
        "from mpmath import mp\n",
        "mp.dps = 101 ## precision\n",
        "print(mp.pi)\n",
        "print(mp.cot(mp.pi/3))\n",
        "print(mp.sqrt(2))\n",
        "print(mp.atan(1))"
      ],
      "metadata": {
        "colab": {
          "base_uri": "https://localhost:8080/"
        },
        "id": "B1_UUoMNJ0Xv",
        "outputId": "732ce5c6-c76c-485d-a01f-1a04a13183fe"
      },
      "execution_count": null,
      "outputs": [
        {
          "output_type": "stream",
          "name": "stdout",
          "text": [
            "3.141592653589793238462643383279502884197169399375105820974944592307816406286208998628034825342117068\n",
            "0.57735026918962576450914878050195745564760175127012687601860232648397767230293334569371539558574952522\n",
            "1.4142135623730950488016887242096980785696718753769480731766797379907324784621070388503875343276415727\n",
            "0.785398163397448309615660845819875721049292349843776455243736148076954101571552249657008706335529267\n"
          ]
        }
      ]
    },
    {
      "cell_type": "code",
      "source": [
        "## floor funcion in trigonometry\n",
        "from mpmath import mp\n",
        "mp.dps = 100 ## precision\n",
        "def my_floor(x):\n",
        "    return round(x-0.5-mp.atan(mp.cot(mp.pi*(x-0.5)))/mp.pi)\n",
        "l = []\n",
        "for i in range(1, 31):\n",
        "    l.append(my_floor(i+0.7))\n",
        "print(l)"
      ],
      "metadata": {
        "colab": {
          "base_uri": "https://localhost:8080/"
        },
        "id": "AwYhJdbyPQYL",
        "outputId": "20f10ef6-4068-4603-806d-8fc722d29380"
      },
      "execution_count": null,
      "outputs": [
        {
          "output_type": "stream",
          "name": "stdout",
          "text": [
            "[1, 2, 3, 4, 5, 6, 7, 8, 9, 10, 11, 12, 13, 14, 15, 16, 17, 18, 19, 20, 21, 22, 23, 24, 25, 26, 27, 28, 29, 30]\n"
          ]
        }
      ]
    },
    {
      "cell_type": "code",
      "source": [
        "from mpmath import mp\n",
        "mp.dps = 120 ## precision\n",
        "def solution(s):\n",
        "    n = int(s)\n",
        "    sqrt_two = mp.sqrt(2) - 0.5\n",
        "    return round((1+n)*n/2*(sqrt_two-mp.atan(mp.cot(mp.pi*sqrt_two))/mp.pi))\n",
        "print(solution('5')) ## 19\n",
        "print(solution('77')) ## 4208\n",
        "print(solution('100000')) ## 7070947101"
      ],
      "metadata": {
        "colab": {
          "base_uri": "https://localhost:8080/"
        },
        "id": "OY5v_V1KL-mN",
        "outputId": "96e46e4f-0e4b-486d-aca8-89677c3ff19d"
      },
      "execution_count": null,
      "outputs": [
        {
          "output_type": "stream",
          "name": "stdout",
          "text": [
            "20\n",
            "3989\n",
            "6642202045\n"
          ]
        }
      ]
    },
    {
      "cell_type": "markdown",
      "source": [
        "https://oeis.org/A001951  "
      ],
      "metadata": {
        "id": "kAGSvohNThUE"
      }
    },
    {
      "cell_type": "code",
      "source": [
        "from sympy import integer_nthroot\n",
        "def A001951(n):\n",
        "    return integer_nthroot(2*n**2, 2)[0]\n",
        "l = []\n",
        "for i in range(1, 41):\n",
        "    l.append(A001951(i))\n",
        "print(l)"
      ],
      "metadata": {
        "colab": {
          "base_uri": "https://localhost:8080/"
        },
        "id": "lyHmzORFSdE8",
        "outputId": "505c573e-5c0b-4136-93c3-548a8aa5bb29"
      },
      "execution_count": null,
      "outputs": [
        {
          "output_type": "stream",
          "name": "stdout",
          "text": [
            "[1, 2, 4, 5, 7, 8, 9, 11, 12, 14, 15, 16, 18, 19, 21, 22, 24, 25, 26, 28, 29, 31, 32, 33, 35, 36, 38, 39, 41, 42, 43, 45, 46, 48, 49, 50, 52, 53, 55, 56]\n"
          ]
        }
      ]
    },
    {
      "cell_type": "markdown",
      "source": [
        "https://math.stackexchange.com/questions/2096603/how-to-evaluate-this-sum-sum-limits-i-1n-left-lfloor-sqrt2-cdot-i  "
      ],
      "metadata": {
        "id": "NOxlDFPSUeFM"
      }
    },
    {
      "cell_type": "code",
      "source": [
        "import math\n",
        "import time\n",
        "\n",
        "def cmp(x, y):\n",
        "    return (x > y) - (x < y)\n",
        "\n",
        "## Helpers for numbers in the form [a + b*sqrt(2)], encoded as a tuple (a, b)\n",
        "## compare 2 numbers\n",
        "def root2_cmp(x, y):\n",
        "    x_a, x_b = x\n",
        "    y_a, y_b = y\n",
        "\n",
        "    a = x_a - y_a\n",
        "    b = x_b - y_b\n",
        "\n",
        "    a_sign = cmp(a, 0)\n",
        "    b_sign = cmp(b, 0)\n",
        "\n",
        "    if a_sign == b_sign: return a_sign\n",
        "    if a_sign == 0: return b_sign\n",
        "    if b_sign == 0: return a_sign\n",
        "\n",
        "    # one of a_sign and b_sign is 1 and the other is -1\n",
        "    # compare a^2 and (b*sqrt(2))^2 = 2*b^2\n",
        "    aa = a*a\n",
        "    bb2 = b*b*2\n",
        "\n",
        "    # if a^2 > 2b^2, return a_sign otherwise the opposite sign\n",
        "    return cmp(aa, bb2) * a_sign\n",
        "\n",
        "def root2_max(x,y):\n",
        "    return x if root2_cmp(x,y) > 0 else y\n",
        "\n",
        "def root2_min(x,y):\n",
        "    return x if root2_cmp(x,y) < 0 else y\n",
        "\n",
        "def root2_add(x,y):\n",
        "    return tuple(x_i+y_i for x_i,y_i in zip(x,y))\n",
        "\n",
        "def root2_sub(x,y):\n",
        "    return tuple(x_i-y_i for x_i,y_i in zip(x,y))\n",
        "\n",
        "# Takes 2 sequence objects in the form (lower_bound, upper_bound, offset, sequence_data)\n",
        "# Returns the same data for the concatenation of the sequences.\n",
        "\n",
        "def seq_concat(a, b):\n",
        "    a_lower, a_upper, a_offset, a_seq_data = a\n",
        "    b_lower, b_upper, b_offset, b_seq_data = b\n",
        "\n",
        "    c_lower = root2_max(a_lower, root2_sub(b_lower, a_offset))\n",
        "    c_upper = root2_min(a_upper, root2_sub(b_upper, a_offset))\n",
        "\n",
        "    # sanity check - should never be concatenating sequences that can't go together\n",
        "    assert root2_cmp(c_upper, c_lower) > 0\n",
        "\n",
        "    c_offset = root2_add(a_offset, b_offset)\n",
        "    c_sequence = seq_data_concat(a_seq_data, b_seq_data)\n",
        "\n",
        "    return c_lower, c_upper, c_offset, c_sequence\n",
        "\n",
        "# Takes 2 sequence data objects in the form (length, slope, y-intercept)\n",
        "# Returns the same data for the concatenation of the sequences.\n",
        "def seq_data_concat(a,b):\n",
        "    a_len, a_slope, a_intercept = a\n",
        "    b_len, b_slope, b_intercept = b\n",
        "\n",
        "    c_len = a_len + b_len\n",
        "    c_slope = a_slope + b_slope\n",
        "    c_intercept = a_slope*b_len + a_intercept + b_intercept\n",
        "\n",
        "    return (c_len, c_slope, c_intercept)\n",
        "\n",
        "# Compute the sum for i from 1 to n of floor(i*sqrt(2))\n",
        "def root2_floor_sum(n):\n",
        "    ## lower, upper, offset, seq_data (length, slope, y-intercept)\n",
        "    seqs = [( (0,0), (2,-1), (-1,1), (1,1,1) ),\n",
        "            ( (2,-1), (1,0), (-2,1), (1,2,2) )]\n",
        "\n",
        "    prev_seq = None\n",
        "    cur_seq_data = (0,0,0)\n",
        "    cur_offset = (0,0)\n",
        "\n",
        "    ## while the current sequence length is below n\n",
        "    while cur_seq_data[0] < n:\n",
        "        ## remove sequences that are too big\n",
        "        max_len = n - cur_seq_data[0]\n",
        "        # seqs = filter(lambda lb,ub,off,seq_data: seq_data[0]<=max_len, seqs) ;print(list(seqs))\n",
        "        seqs_1 = []\n",
        "        for lb,ub,off,seq_data in seqs:\n",
        "            if seq_data[0]<=max_len:\n",
        "                seqs_1.append((lb,ub,off,seq_data))\n",
        "        # matching_seqs = filter(lambda lb,ub,off,seq_data: root2_cmp(cur_offset, lb)>=0 and root2_cmp(cur_offset, ub)<0, seqs)\n",
        "        matching_seqs = []\n",
        "        for lb,ub,off,seq_data in seqs_1:\n",
        "            if root2_cmp(cur_offset, lb)>=0 and root2_cmp(cur_offset, ub)<0:\n",
        "                matching_seqs.append((lb,ub,off,seq_data))\n",
        "        # next_seq = max(matching_seqs, key=lambda lb,ub,off,seq_data: seq_data[0])\n",
        "        next_seq = max(matching_seqs, key=lambda x: x[3][0])\n",
        "\n",
        "        if prev_seq:\n",
        "            seq_to_add = seq_concat(prev_seq, next_seq)\n",
        "            seqs.append(seq_to_add)\n",
        "\n",
        "        next_lb, next_ub, next_off, next_seq_data = next_seq\n",
        "        cur_seq_data = seq_data_concat(cur_seq_data, next_seq_data)\n",
        "        cur_offset = root2_add(cur_offset, next_off)\n",
        "        prev_seq = next_seq\n",
        "\n",
        "    return cur_seq_data[2]\n",
        "\n",
        "## verify the algorithm works for small n\n",
        "def verify_up_to(n):\n",
        "    expected = 0\n",
        "    root2 = math.sqrt(2)\n",
        "    for i in range(1,n+1):\n",
        "        expected += int(math.floor(root2*i))\n",
        "        assert root2_floor_sum(i) == expected\n",
        "verify_up_to(1000)\n",
        "\n",
        "start_time = time.time()\n",
        "result = root2_floor_sum(10**100)\n",
        "end_time = time.time()\n",
        "\n",
        "print(result)\n",
        "print('computed in', int((end_time - start_time)*1000), 'ms')"
      ],
      "metadata": {
        "colab": {
          "base_uri": "https://localhost:8080/"
        },
        "id": "ADQ-qn-hUajF",
        "outputId": "aa25cdf7-43dd-4233-926d-6faadddf418f"
      },
      "execution_count": null,
      "outputs": [
        {
          "output_type": "stream",
          "name": "stdout",
          "text": [
            "70710678118654752440084436210484903928483593768847403658833986899536623923105351942519376716382078638821760123411090095254685423841027253480565451739737157454059823250037671948325191776995310741236436\n",
            "computed in 899 ms\n"
          ]
        }
      ]
    },
    {
      "cell_type": "code",
      "source": [
        "## code explained: filter\n",
        "long_strings = filter(lambda x: len(x)>5, [\"a\", \"b\", \"c\", \"d12345\", \"e\"])\n",
        "print(list(long_strings))"
      ],
      "metadata": {
        "colab": {
          "base_uri": "https://localhost:8080/"
        },
        "id": "smFDKQYtago6",
        "outputId": "4c511f85-3513-411e-bccb-3be76c50035a"
      },
      "execution_count": null,
      "outputs": [
        {
          "output_type": "stream",
          "name": "stdout",
          "text": [
            "['d12345']\n"
          ]
        }
      ]
    },
    {
      "cell_type": "code",
      "source": [
        "## passed all the tests\n",
        "def solution(s):\n",
        "    import math\n",
        "\n",
        "    def cmp(x, y):\n",
        "        return (x > y) - (x < y)\n",
        "\n",
        "    ## Helpers for numbers in the form [a + b*sqrt(2)], encoded as a tuple (a, b)\n",
        "    ## compare 2 numbers\n",
        "    def root2_cmp(x, y):\n",
        "        x_a, x_b = x\n",
        "        y_a, y_b = y\n",
        "\n",
        "        a = x_a - y_a\n",
        "        b = x_b - y_b\n",
        "\n",
        "        a_sign = cmp(a, 0)\n",
        "        b_sign = cmp(b, 0)\n",
        "\n",
        "        if a_sign==b_sign: return a_sign\n",
        "        if a_sign==0: return b_sign\n",
        "        if b_sign==0: return a_sign\n",
        "\n",
        "        ## one of a_sign and b_sign is 1 and the other is -1\n",
        "        ## compare a^2 and (b*sqrt(2))^2 = 2*b^2\n",
        "        aa = a*a\n",
        "        bb2 = b*b*2\n",
        "\n",
        "        ## if a^2 > 2b^2, return a_sign otherwise the opposite sign\n",
        "        return cmp(aa, bb2) * a_sign\n",
        "\n",
        "    def root2_max(x, y):\n",
        "        return x if root2_cmp(x,y) > 0 else y\n",
        "\n",
        "    def root2_min(x, y):\n",
        "        return x if root2_cmp(x,y) < 0 else y\n",
        "\n",
        "    def root2_add(x, y):\n",
        "        return tuple(x_i+y_i for x_i,y_i in zip(x,y))\n",
        "\n",
        "    def root2_sub(x, y):\n",
        "        return tuple(x_i-y_i for x_i,y_i in zip(x,y))\n",
        "\n",
        "    ## Takes 2 sequence objects in the form (lower_bound, upper_bound, offset, sequence_data)\n",
        "    ## Returns the same data for the concatenation of the sequences.\n",
        "    def seq_concat(a, b):\n",
        "        a_lower, a_upper, a_offset, a_seq_data = a\n",
        "        b_lower, b_upper, b_offset, b_seq_data = b\n",
        "\n",
        "        c_lower = root2_max(a_lower, root2_sub(b_lower, a_offset))\n",
        "        c_upper = root2_min(a_upper, root2_sub(b_upper, a_offset))\n",
        "\n",
        "        ## sanity check - should never be concatenating sequences that can't go together\n",
        "        assert root2_cmp(c_upper, c_lower) > 0\n",
        "\n",
        "        c_offset = root2_add(a_offset, b_offset)\n",
        "        c_sequence = seq_data_concat(a_seq_data, b_seq_data)\n",
        "\n",
        "        return c_lower, c_upper, c_offset, c_sequence\n",
        "\n",
        "    ## Takes 2 sequence data objects in the form (length, slope, y-intercept)\n",
        "    ## Returns the same data for the concatenation of the sequences.\n",
        "    def seq_data_concat(a,b):\n",
        "        a_len, a_slope, a_intercept = a\n",
        "        b_len, b_slope, b_intercept = b\n",
        "\n",
        "        c_len = a_len + b_len\n",
        "        c_slope = a_slope + b_slope\n",
        "        c_intercept = a_slope*b_len + a_intercept + b_intercept\n",
        "\n",
        "        return (c_len, c_slope, c_intercept)\n",
        "\n",
        "    ## Compute the sum for i from 1 to n of floor(i*sqrt(2))\n",
        "    def root2_floor_sum(n):\n",
        "        ## lower, upper, offset, seq_data (length, slope, y-intercept)\n",
        "        seqs = [( (0,0), (2,-1), (-1,1), (1,1,1) ),\n",
        "                ( (2,-1), (1,0), (-2,1), (1,2,2) )]\n",
        "\n",
        "        prev_seq = None\n",
        "        cur_seq_data = (0,0,0)\n",
        "        cur_offset = (0,0)\n",
        "\n",
        "        ## while the current sequence length is below n\n",
        "        while cur_seq_data[0] < n:\n",
        "            ## remove sequences that are too big\n",
        "            max_len = n - cur_seq_data[0]\n",
        "            seqs_1 = []\n",
        "            for lb,ub,off,seq_data in seqs:\n",
        "                if seq_data[0]<=max_len:\n",
        "                    seqs_1.append((lb,ub,off,seq_data))\n",
        "\n",
        "            matching_seqs = []\n",
        "            for lb,ub,off,seq_data in seqs_1:\n",
        "                if root2_cmp(cur_offset, lb)>=0 and root2_cmp(cur_offset, ub)<0:\n",
        "                    matching_seqs.append((lb,ub,off,seq_data))\n",
        "\n",
        "            next_seq = max(matching_seqs, key=lambda x: x[3][0])\n",
        "\n",
        "            if prev_seq:\n",
        "                seq_to_add = seq_concat(prev_seq, next_seq)\n",
        "                seqs.append(seq_to_add)\n",
        "\n",
        "            next_lb, next_ub, next_off, next_seq_data = next_seq\n",
        "            cur_seq_data = seq_data_concat(cur_seq_data, next_seq_data)\n",
        "            cur_offset = root2_add(cur_offset, next_off)\n",
        "            prev_seq = next_seq\n",
        "\n",
        "        return cur_seq_data[2]\n",
        "\n",
        "    n = int(s)\n",
        "    return str(root2_floor_sum(n))"
      ],
      "metadata": {
        "id": "p11kF5qYhzVg"
      },
      "execution_count": null,
      "outputs": []
    },
    {
      "cell_type": "code",
      "source": [
        "print(solution('5')) ## 19\n",
        "print(solution('77')) ## 4208\n",
        "print(solution('100000')) ## 7070947101, 7071088522?"
      ],
      "metadata": {
        "colab": {
          "base_uri": "https://localhost:8080/"
        },
        "id": "zv7f-Xq7imtK",
        "outputId": "a689f8af-719c-41c9-e2fa-c3eaf52beecb"
      },
      "execution_count": null,
      "outputs": [
        {
          "output_type": "stream",
          "name": "stdout",
          "text": [
            "19\n",
            "4208\n",
            "7071088522\n"
          ]
        }
      ]
    },
    {
      "cell_type": "markdown",
      "source": [
        "# **🟢 challenges completed**  \n",
        "https://twitter.com/WenjingLiu7/status/1722206490986205404  "
      ],
      "metadata": {
        "id": "UeauMsySlJzV"
      }
    },
    {
      "cell_type": "markdown",
      "source": [
        "```\n",
        "Submission: SUCCESSFUL. Completed in: 20 days, 17 hrs, 39 mins, 58 secs..\n",
        "      /@                                            /@                                          /@\n",
        "     @~/@       @@                                 @~/@       @@                               @~/@       @@\n",
        "    @~~/ %     @$%@                               @~~/ %     @$%@                             @~~/ %     @$%@\n",
        "    @~(((((% %/////@                              @~(((((% %/////@                            @~(((((% %/////@\n",
        "    @((/////@~//~~@                               @((/////@~//~~@                              @((/////@~//~~@\n",
        "    @(/// @//////@                                @(/// @//////@                               @(/// @//////@\n",
        "      @//% @~~~/~@                                  @//% @~~~/~@                                 @//% @~~~/~@\n",
        "     /@$$$ @///~~/@                                /@$$$ @///~~/@                               /@$$$ @///~~/@\n",
        "    @        ////@@                               @        ////@@                              @        ////@@\n",
        "   @$   //@@@((/~ @                              @$   //@@@((/~ @                             @$   //@@@((/~ @\n",
        "  @$  //@    @  ((///@                         @$  //@    @  ((///@                         @$  //@    @  ((///@\n",
        " @$      (@@@  ((((//%%@                       @$      (@@@  ((((//%%@                      @$      (@@@  ((((//%%@\n",
        " @                 ((//                        @                 ((//                       @                 ((//\n",
        "   @ ~        (((((((((  /%//////@@     //@      @ ~        (((((((((  /%//////@@     //@     @ ~        (((((((((  /%//////@@     //@\n",
        "     @~                 %  ~~~~~~~~/   /@$         @~                 %  ~~~~~~~~/   /@$        @~                 %  ~~~~~~~~/   /@$\n",
        "         @@/$             ~~~~~////////$               @@/$             ~~~~~////////$              @@/$             ~~~~~////////$\n",
        "           //@@@%%/~~      ~~~~~~~~~~///@                //@@@%%/~~      ~~~~~~~~~~///@               //@@@%%/~~      ~~~~~~~~~~///@\n",
        "            ~~~          ~~~~~~~//////@$@@                ~~~          ~~~~~~~//////@$@@               ~~~          ~~~~~~~//////@$@@\n",
        "        $$$                   ~~~~((((///////@        $$$                   ~~~~((((///////@       $$$                   ~~~~((((///////@\n",
        "      $~~~~ %%%   /         ~~~~(////////(($@       $~~~~ %%%   /         ~~~~(////////(($@      $~~~~ %%%   /         ~~~~(////////(($@\n",
        "     @$$~~ @   $$/            ~~~~((((((%%%@       @$$~~ @   $$/            ~~~~((((((%%%@      @$$~~ @   $$/            ~~~~((((((%%%@\n",
        "     \\\\@@@@                   (((((((%%%%%@        \\\\@@@@                   (((((((%%%%%@       \\\\@@@@                   (((((((%%%%%@\n",
        "                              $$$$$$$$$@                                    $$$$$$$$$@                                   $$$$$$$$$@\n",
        "                            $$$%%%%%%@                                    $$$%%%%%%@                                  $$$%%%%%%@\n",
        "                          $$%%%%%%%%@                                   $$%%%%%%%%@                                  $$%%%%%%%%@\n",
        "                   @ ///   $$%%%%%%@                             @ ///   $$%%%%%%@                            @ ///   $$%%%%%%@\n",
        "                 @////        @@@@@                            @////        @@@@@                           @////        @@@@@\n",
        "                   @////@@@@@@@@@                                @////@@@@@@@@@                              @////@@@@@@@@@\n",
        "\n",
        "<encrypted>b'F04GAgYNDxodQA5eQVMGAQYIEUlPRUsKGhsJCwsOGwIJRFtURhYQHQALDgAITllXQgsMDwEVWhdG\\nVFtTRAALDREACAAXGwBJRklJBk0MCBEXFg4MCxpERVZJUgILAgUKBQJKQ01URgECCwcHFxZLSU9X\\nQh0LDwtAAkRGEg4cRElfTkQSBQdUUBg='</encrypted>  \n",
        "For your eyes only!  \n",
        "Use the status command to repeat this message.  \n",
        "\n",
        "You've completed all the challenges!  \n",
        "If you'd like to know when more challenges are added, let us know your email address below.\n",
        "We will use your information in accordance with Google's Privacy Policy.\n",
        "[#1] Would you like to be notified when a new set of challenges are available to play?\n",
        "[Y]es [N]o:\n",
        "Check back later for new challenges. Use feedback to share your thoughts with us.\n",
        "```"
      ],
      "metadata": {
        "id": "77XIz6M8j4ys"
      }
    },
    {
      "cell_type": "markdown",
      "source": [
        "https://patataeater.blogspot.com/2020/08/how-to-get-hired-by-google.html  "
      ],
      "metadata": {
        "id": "ns2JBVgclYVk"
      }
    },
    {
      "cell_type": "code",
      "source": [
        "encrypted_bytes = b'F04GAgYNDxodQA5eQVMGAQYIEUlPRUsKGhsJCwsOGwIJRFtURhYQHQALDgAITllXQgsMDwEVWhdG\\nVFtTRAALDREACAAXGwBJRklJBk0MCBEXFg4MCxpERVZJUgILAgUKBQJKQ01URgECCwcHFxZLSU9X\\nQh0LDwtAAkRGEg4cRElfTkQSBQdUUBg='\n",
        "\n",
        "import base64\n",
        "decoded_bytes = base64.b64decode(encrypted_bytes)\n",
        "print(decoded_bytes)\n",
        "print(decoded_bytes.decode()) ## default is 'utf-8'\n",
        "print(str.encode(\"MY USER NAME\"))\n",
        "print()\n",
        "\n",
        "## hint: for your eyes only\n",
        "in_my_eyes = str.encode(\"liuwenjing.datascience\")\n",
        "len_in_my_eyes = len(in_my_eyes)\n",
        "decrypted_chars = ''\n",
        "for i,byte in enumerate(decoded_bytes):\n",
        "    decrypted_chars += chr((in_my_eyes[i%len_in_my_eyes] ^ byte)) ## ^ is bitwise xor, which is a good mask\n",
        "print(decrypted_chars)"
      ],
      "metadata": {
        "colab": {
          "base_uri": "https://localhost:8080/"
        },
        "id": "pYIkLK64lVBf",
        "outputId": "b8cb3a13-bfd0-4628-afd9-5f2c2e2ca7e5"
      },
      "execution_count": null,
      "outputs": [
        {
          "output_type": "stream",
          "name": "stdout",
          "text": [
            "b'\\x17N\\x06\\x02\\x06\\r\\x0f\\x1a\\x1d@\\x0e^AS\\x06\\x01\\x06\\x08\\x11IOEK\\n\\x1a\\x1b\\t\\x0b\\x0b\\x0e\\x1b\\x02\\tD[TF\\x16\\x10\\x1d\\x00\\x0b\\x0e\\x00\\x08NYWB\\x0b\\x0c\\x0f\\x01\\x15Z\\x17FT[SD\\x00\\x0b\\r\\x11\\x00\\x08\\x00\\x17\\x1b\\x00IFII\\x06M\\x0c\\x08\\x11\\x17\\x16\\x0e\\x0c\\x0b\\x1aDEVIR\\x02\\x0b\\x02\\x05\\n\\x05\\x02JCMTF\\x01\\x02\\x0b\\x07\\x07\\x17\\x16KIOWB\\x1d\\x0b\\x0f\\x0b@\\x02DF\\x12\\x0e\\x1cDI_ND\\x12\\x05\\x07TP\\x18'\n",
            "\u0017N\u0006\u0002\u0006\r\u000f\u001a\u001d@\u000e^AS\u0006\u0001\u0006\b\u0011IOEK\n",
            "\u001a\u001b\t\u000b\u000b\u000e\u001b\u0002\tD[TF\u0016\u0010\u001d\u0000\u000b\u000e\u0000\bNYWB\u000b\f\u000f\u0001\u0015Z\u0017FT[SD\u0000\u000b\r\u0011\u0000\b\u0000\u0017\u001b\u0000IFII\u0006M\f\b\u0011\u0017\u0016\u000e\f\u000b\u001aDEVIR\u0002\u000b\u0002\u0005\n",
            "\u0005\u0002JCMTF\u0001\u0002\u000b\u0007\u0007\u0017\u0016KIOWB\u001d\u000b\u000f\u000b@\u0002DF\u0012\u000e\u001cDI_ND\u0012\u0005\u0007TP\u0018\n",
            "b'MY USER NAME'\n",
            "\n",
            "{'success' : 'great', 'colleague' : 'esteemed', 'efforts' : 'incredible', 'achievement' : 'unlocked', 'rabbits' : 'safe', 'foo' : 'win!'}\n"
          ]
        }
      ]
    },
    {
      "cell_type": "markdown",
      "source": [
        "# **6. disorderly-escape**  \n",
        "\n",
        "* 22 days  \n",
        "\n",
        "foobar:~/disorderly-escape ***$ cat readme.txt\n",
        "Disorderly Escape\n",
        "=================\n",
        "Oh no! You've managed to free the bunny workers and escape Commander Lambdas exploding space station, but Lambda's team of elite starfighters has flanked your ship. If you dont jump to hyperspace, and fast, youll be shot out of the sky!\n",
        "\n",
        "Problem is, to avoid detection by galactic law enforcement, Commander Lambda planted the space station in the middle of a quasar quantum flux field. In order to make the jump to hyperspace, you need to know the configuration of celestial bodies in the quadrant you plan to jump through. In order to do *that*, you need to figure out how many configurations each quadrant could possibly have, so that you can pick the optimal quadrant through which youll make your jump.\n",
        "\n",
        "There's something important to note about quasar quantum flux fields' configurations: when drawn on a star grid, configurations are considered equivalent by grouping rather than by order. That is, for a given set of configurations, if you exchange the position of any two columns or any two rows some number of times, youll find that all of those configurations are equivalent in that way -- in grouping, rather than order.\n",
        "\n",
        "Write a function **solution(w, h, s)** that takes 3 integers and returns the number of unique, non-equivalent configurations that can be found on a star grid w blocks wide and h blocks tall where each celestial body has s possible states. Equivalency is defined as above: any two star grids with each celestial body in the same state where the actual order of the rows and columns do not matter (and can thus be freely swapped around). Star grid standardization means that the width and height of the grid will always be **between 1 and 12**, inclusive. And while there are a variety of celestial bodies in each grid, the number of states of those bodies is **between 2 and 20**, inclusive. The solution can be **over 20 digits long**, so return it as a decimal string. The intermediate values can also be large, so you will likely need to use **at least 64-bit integers**.\n",
        "\n",
        "For example, consider w=2, h=2, s=2. We have a 2x2 grid where each celestial body is either in state 0 (for instance, silent) or state 1 (for instance, noisy). We can examine which grids are equivalent by swapping rows and columns.\n",
        "```\n",
        "00\n",
        "00\n",
        "```\n",
        "In the above configuration, all celestial bodies are \"silent\" - that is, they have a state of 0 - so any swap of row or column would keep it in the same state.\n",
        "```\n",
        "00 00 01 10\n",
        "01 10 00 00\n",
        "```\n",
        "1 celestial body is emitting noise - that is, has a state of 1 - so swapping rows and columns can put it in any of the 4 positions. All four of the above configurations are equivalent.\n",
        "```\n",
        "00 11\n",
        "11 00\n",
        "```\n",
        "2 celestial bodies are emitting noise side-by-side. Swapping columns leaves them unchanged, and swapping rows simply moves them between the top and bottom. In both, the *groupings* are the same: one row with two bodies in state 0, one row with two bodies in state 1, and two columns with one of each state.\n",
        "```\n",
        "01 10\n",
        "01 10\n",
        "```\n",
        "2 noisy celestial bodies adjacent vertically. This is symmetric to the side-by-side case, but it is different because there's no way to transpose the grid.\n",
        "```\n",
        "01 10\n",
        "10 01\n",
        "```\n",
        "2 noisy celestial bodies diagonally. Both have 2 rows and 2 columns that have one of each state, so they are equivalent to each other.\n",
        "```\n",
        "01 10 11 11\n",
        "11 11 01 10\n",
        "```\n",
        "3 noisy celestial bodies, similar to the case where only one of four is noisy.\n",
        "```\n",
        "11\n",
        "11\n",
        "```\n",
        "4 noisy celestial bodies.\n",
        "\n",
        "There are 7 distinct, non-equivalent grids in total, so solution(2, 2, 2) would return 7.\n",
        "\n",
        "```\n",
        "-- Python cases --\n",
        "Input:\n",
        "solution.solution(2, 3, 4)\n",
        "Output:\n",
        "    430\n",
        "\n",
        "Input:\n",
        "solution.solution(2, 2, 2)\n",
        "Output:\n",
        "    7\n",
        "```"
      ],
      "metadata": {
        "id": "L3yZZ41Eo6XI"
      }
    },
    {
      "cell_type": "markdown",
      "source": [
        "https://stackoverflow.com/questions/61689832/disorderly-escape-google-foobar-2020-not-passing-test-cases  "
      ],
      "metadata": {
        "id": "c3d4Ol-wDVt-"
      }
    },
    {
      "cell_type": "code",
      "source": [
        "from math import factorial, gcd\n",
        "from collections import Counter\n",
        "\n",
        "def cycle_count(c, n):\n",
        "    cc=factorial(n)\n",
        "    for a, b in Counter(c).items():\n",
        "        cc//=(a**b)*factorial(b)\n",
        "    return cc\n",
        "\n",
        "def cycle_partitions(n, i=1):\n",
        "    yield [n]\n",
        "    for i in range(i, n//2 + 1):\n",
        "        for p in cycle_partitions(n-i, i):\n",
        "            yield [i] + p\n",
        "\n",
        "def solution(w, h, s):\n",
        "    grid=0\n",
        "    for cpw in cycle_partitions(w):\n",
        "        for cph in cycle_partitions(h):\n",
        "            m=cycle_count(cpw, w)*cycle_count(cph, h)\n",
        "            grid+=m*(s**sum([sum([gcd(i, j) for i in cpw]) for j in cph]))\n",
        "\n",
        "    return str(grid//(factorial(w)*factorial(h)))\n",
        "\n",
        "print(solution(2,3,4))\n",
        "print(solution(2,2,2))\n",
        "print(solution(3,3,3))"
      ],
      "metadata": {
        "colab": {
          "base_uri": "https://localhost:8080/"
        },
        "id": "l-A1rz5Q-8jc",
        "outputId": "7f2de4ca-16d6-4c25-b3da-30bac0a345b9"
      },
      "execution_count": null,
      "outputs": [
        {
          "output_type": "stream",
          "name": "stdout",
          "text": [
            "430\n",
            "7\n",
            "738\n"
          ]
        }
      ]
    },
    {
      "cell_type": "code",
      "source": [
        "## passed all the tests\n",
        "from collections import Counter\n",
        "def solution(w, h, s):\n",
        "    def factorial(n):\n",
        "        fac = 1\n",
        "        for i in range(2, n+1):\n",
        "            fac *= i\n",
        "        return fac\n",
        "\n",
        "    def gcd(x, y):\n",
        "        while y:\n",
        "           x, y = y, x%y\n",
        "        return abs(x)\n",
        "\n",
        "    def cycle_count(c, n):\n",
        "        cc = factorial(n)\n",
        "        for a,b in Counter(c).items():\n",
        "            cc //= (a**b)*factorial(b)\n",
        "        return cc\n",
        "\n",
        "    def cycle_partitions(n, i=1):\n",
        "        yield [n]\n",
        "        for i in range(i, n//2 + 1):\n",
        "            for p in cycle_partitions(n-i, i):\n",
        "                yield [i] + p\n",
        "    grid=0\n",
        "    for cpw in cycle_partitions(w):\n",
        "        for cph in cycle_partitions(h):\n",
        "            m = cycle_count(cpw, w)*cycle_count(cph, h)\n",
        "            grid += m*(s**sum([sum([gcd(i, j) for i in cpw]) for j in cph]))\n",
        "    return str(grid//(factorial(w)*factorial(h)))\n",
        "\n",
        "print(solution(2,3,4))\n",
        "print(solution(2,2,2))\n",
        "print(solution(3,3,3))"
      ],
      "metadata": {
        "colab": {
          "base_uri": "https://localhost:8080/"
        },
        "id": "yGP3bmLcCzoE",
        "outputId": "e12a21ce-a33d-4af2-99ee-ec473442eb33"
      },
      "execution_count": null,
      "outputs": [
        {
          "output_type": "stream",
          "name": "stdout",
          "text": [
            "430\n",
            "7\n",
            "738\n"
          ]
        }
      ]
    },
    {
      "cell_type": "markdown",
      "source": [
        "# **irrelevant**  \n",
        "\n",
        "* [Russia | Math Olympiad Question | You should know this trick!!](https://www.youtube.com/watch?v=Um53h6yq_6o)  \n",
        "$$\\begin{multline} \\lim_{n \\to ∞ }(1+\\frac{1}{n})^n=e \\;\\;\\approx 2.718 \\end{multline}$$"
      ],
      "metadata": {
        "id": "gwwi1ytWQ3IX"
      }
    },
    {
      "cell_type": "code",
      "source": [
        "import matplotlib.pyplot as plt\n",
        "n0, n1 = 47, 50\n",
        "x1, y1, x2, y2 = [], [], [], []\n",
        "for i in range(n1):\n",
        "    x1.append(i)\n",
        "    if i==0: y1.append(50)\n",
        "    else: y1.append(y1[-1] * 50)\n",
        "for i in range(n1+1):\n",
        "    x2.append(i)\n",
        "    if i==0: y2.append(49)\n",
        "    else: y2.append(y2[-1] * 49)\n",
        "plt.figure(figsize=(6, 2))\n",
        "plt.subplot(1,2,1); plt.plot(x1[n0:], y1[n0:], x2[n0:-1], y2[n0:-1])\n",
        "plt.subplot(1,2,2); plt.plot(x1[n0:], y1[n0:], x2[n0:], y2[n0:]);"
      ],
      "metadata": {
        "id": "DYevowDpODMD",
        "colab": {
          "base_uri": "https://localhost:8080/",
          "height": 229
        },
        "outputId": "498ca113-0c1c-476f-9c62-00a096cb2975"
      },
      "execution_count": null,
      "outputs": [
        {
          "output_type": "display_data",
          "data": {
            "text/plain": [
              "<Figure size 600x200 with 2 Axes>"
            ],
            "image/png": "[encoded data removed]"
          },
          "metadata": {}
        }
      ]
    },
    {
      "cell_type": "markdown",
      "source": [
        "# **\\<BOTTOM>**  "
      ],
      "metadata": {
        "id": "s7zzO6F6Jl1P"
      }
    }
  ]
}